{
 "cells": [
  {
   "cell_type": "code",
   "execution_count": 1,
   "id": "2cebce83",
   "metadata": {
    "_cell_guid": "b1076dfc-b9ad-4769-8c92-a6c4dae69d19",
    "_uuid": "8f2839f25d086af736a60e9eeb907d3b93b6e0e5",
    "execution": {
     "iopub.execute_input": "2025-06-30T11:10:26.182824Z",
     "iopub.status.busy": "2025-06-30T11:10:26.182463Z",
     "iopub.status.idle": "2025-06-30T11:10:28.310927Z",
     "shell.execute_reply": "2025-06-30T11:10:28.309443Z"
    },
    "papermill": {
     "duration": 2.136606,
     "end_time": "2025-06-30T11:10:28.312992",
     "exception": false,
     "start_time": "2025-06-30T11:10:26.176386",
     "status": "completed"
    },
    "tags": []
   },
   "outputs": [
    {
     "name": "stdout",
     "output_type": "stream",
     "text": [
      "/kaggle/input/placementcsv/placement.csv\n"
     ]
    }
   ],
   "source": [
    "# This Python 3 environment comes with many helpful analytics libraries installed\n",
    "# It is defined by the kaggle/python Docker image: https://github.com/kaggle/docker-python\n",
    "# For example, here's several helpful packages to load\n",
    "\n",
    "import numpy as np # linear algebra\n",
    "import pandas as pd # data processing, CSV file I/O (e.g. pd.read_csv)\n",
    "\n",
    "# Input data files are available in the read-only \"../input/\" directory\n",
    "# For example, running this (by clicking run or pressing Shift+Enter) will list all files under the input directory\n",
    "\n",
    "import os\n",
    "for dirname, _, filenames in os.walk('/kaggle/input'):\n",
    "    for filename in filenames:\n",
    "        print(os.path.join(dirname, filename))\n",
    "\n",
    "# You can write up to 20GB to the current directory (/kaggle/working/) that gets preserved as output when you create a version using \"Save & Run All\" \n",
    "# You can also write temporary files to /kaggle/temp/, but they won't be saved outside of the current session"
   ]
  },
  {
   "cell_type": "code",
   "execution_count": 2,
   "id": "0faf0323",
   "metadata": {
    "execution": {
     "iopub.execute_input": "2025-06-30T11:10:28.323757Z",
     "iopub.status.busy": "2025-06-30T11:10:28.323277Z",
     "iopub.status.idle": "2025-06-30T11:10:30.342111Z",
     "shell.execute_reply": "2025-06-30T11:10:30.340982Z"
    },
    "papermill": {
     "duration": 2.026237,
     "end_time": "2025-06-30T11:10:30.344024",
     "exception": false,
     "start_time": "2025-06-30T11:10:28.317787",
     "status": "completed"
    },
    "tags": []
   },
   "outputs": [],
   "source": [
    "import pandas as pd \n",
    "import seaborn as sns\n",
    "import matplotlib.pyplot as plt \n"
   ]
  },
  {
   "cell_type": "code",
   "execution_count": 3,
   "id": "8def8959",
   "metadata": {
    "execution": {
     "iopub.execute_input": "2025-06-30T11:10:30.354048Z",
     "iopub.status.busy": "2025-06-30T11:10:30.353539Z",
     "iopub.status.idle": "2025-06-30T11:10:30.404472Z",
     "shell.execute_reply": "2025-06-30T11:10:30.403424Z"
    },
    "papermill": {
     "duration": 0.057852,
     "end_time": "2025-06-30T11:10:30.406325",
     "exception": false,
     "start_time": "2025-06-30T11:10:30.348473",
     "status": "completed"
    },
    "tags": []
   },
   "outputs": [
    {
     "data": {
      "text/html": [
       "<div>\n",
       "<style scoped>\n",
       "    .dataframe tbody tr th:only-of-type {\n",
       "        vertical-align: middle;\n",
       "    }\n",
       "\n",
       "    .dataframe tbody tr th {\n",
       "        vertical-align: top;\n",
       "    }\n",
       "\n",
       "    .dataframe thead th {\n",
       "        text-align: right;\n",
       "    }\n",
       "</style>\n",
       "<table border=\"1\" class=\"dataframe\">\n",
       "  <thead>\n",
       "    <tr style=\"text-align: right;\">\n",
       "      <th></th>\n",
       "      <th>cgpa</th>\n",
       "      <th>package</th>\n",
       "    </tr>\n",
       "  </thead>\n",
       "  <tbody>\n",
       "    <tr>\n",
       "      <th>0</th>\n",
       "      <td>6.89</td>\n",
       "      <td>3.26</td>\n",
       "    </tr>\n",
       "    <tr>\n",
       "      <th>1</th>\n",
       "      <td>5.12</td>\n",
       "      <td>1.98</td>\n",
       "    </tr>\n",
       "    <tr>\n",
       "      <th>2</th>\n",
       "      <td>7.82</td>\n",
       "      <td>3.25</td>\n",
       "    </tr>\n",
       "    <tr>\n",
       "      <th>3</th>\n",
       "      <td>7.42</td>\n",
       "      <td>3.67</td>\n",
       "    </tr>\n",
       "    <tr>\n",
       "      <th>4</th>\n",
       "      <td>6.94</td>\n",
       "      <td>3.57</td>\n",
       "    </tr>\n",
       "    <tr>\n",
       "      <th>...</th>\n",
       "      <td>...</td>\n",
       "      <td>...</td>\n",
       "    </tr>\n",
       "    <tr>\n",
       "      <th>195</th>\n",
       "      <td>6.93</td>\n",
       "      <td>2.46</td>\n",
       "    </tr>\n",
       "    <tr>\n",
       "      <th>196</th>\n",
       "      <td>5.89</td>\n",
       "      <td>2.57</td>\n",
       "    </tr>\n",
       "    <tr>\n",
       "      <th>197</th>\n",
       "      <td>7.21</td>\n",
       "      <td>3.24</td>\n",
       "    </tr>\n",
       "    <tr>\n",
       "      <th>198</th>\n",
       "      <td>7.63</td>\n",
       "      <td>3.96</td>\n",
       "    </tr>\n",
       "    <tr>\n",
       "      <th>199</th>\n",
       "      <td>6.22</td>\n",
       "      <td>2.33</td>\n",
       "    </tr>\n",
       "  </tbody>\n",
       "</table>\n",
       "<p>200 rows × 2 columns</p>\n",
       "</div>"
      ],
      "text/plain": [
       "     cgpa  package\n",
       "0    6.89     3.26\n",
       "1    5.12     1.98\n",
       "2    7.82     3.25\n",
       "3    7.42     3.67\n",
       "4    6.94     3.57\n",
       "..    ...      ...\n",
       "195  6.93     2.46\n",
       "196  5.89     2.57\n",
       "197  7.21     3.24\n",
       "198  7.63     3.96\n",
       "199  6.22     2.33\n",
       "\n",
       "[200 rows x 2 columns]"
      ]
     },
     "execution_count": 3,
     "metadata": {},
     "output_type": "execute_result"
    }
   ],
   "source": [
    "dataset = pd.read_csv(\"/kaggle/input/placementcsv/placement.csv\")\n",
    "dataset"
   ]
  },
  {
   "cell_type": "code",
   "execution_count": 4,
   "id": "7f0e0a58",
   "metadata": {
    "execution": {
     "iopub.execute_input": "2025-06-30T11:10:30.417664Z",
     "iopub.status.busy": "2025-06-30T11:10:30.417352Z",
     "iopub.status.idle": "2025-06-30T11:10:30.696375Z",
     "shell.execute_reply": "2025-06-30T11:10:30.695313Z"
    },
    "papermill": {
     "duration": 0.287104,
     "end_time": "2025-06-30T11:10:30.698252",
     "exception": false,
     "start_time": "2025-06-30T11:10:30.411148",
     "status": "completed"
    },
    "tags": []
   },
   "outputs": [
    {
     "data": {
      "image/png": "[encoded data removed]",
      "text/plain": [
       "<Figure size 640x480 with 1 Axes>"
      ]
     },
     "metadata": {},
     "output_type": "display_data"
    }
   ],
   "source": [
    "plt.scatter(dataset[\"cgpa\"],dataset[\"package\"])\n",
    "plt.xlabel(\"cgpa\")\n",
    "plt.ylabel(\"package\")\n",
    "plt.show()"
   ]
  },
  {
   "cell_type": "code",
   "execution_count": 5,
   "id": "6939c99f",
   "metadata": {
    "execution": {
     "iopub.execute_input": "2025-06-30T11:10:30.709799Z",
     "iopub.status.busy": "2025-06-30T11:10:30.709449Z",
     "iopub.status.idle": "2025-06-30T11:10:30.722378Z",
     "shell.execute_reply": "2025-06-30T11:10:30.721325Z"
    },
    "papermill": {
     "duration": 0.021006,
     "end_time": "2025-06-30T11:10:30.724465",
     "exception": false,
     "start_time": "2025-06-30T11:10:30.703459",
     "status": "completed"
    },
    "tags": []
   },
   "outputs": [
    {
     "data": {
      "text/html": [
       "<div>\n",
       "<style scoped>\n",
       "    .dataframe tbody tr th:only-of-type {\n",
       "        vertical-align: middle;\n",
       "    }\n",
       "\n",
       "    .dataframe tbody tr th {\n",
       "        vertical-align: top;\n",
       "    }\n",
       "\n",
       "    .dataframe thead th {\n",
       "        text-align: right;\n",
       "    }\n",
       "</style>\n",
       "<table border=\"1\" class=\"dataframe\">\n",
       "  <thead>\n",
       "    <tr style=\"text-align: right;\">\n",
       "      <th></th>\n",
       "      <th>cgpa</th>\n",
       "      <th>package</th>\n",
       "    </tr>\n",
       "  </thead>\n",
       "  <tbody>\n",
       "    <tr>\n",
       "      <th>cgpa</th>\n",
       "      <td>1.000000</td>\n",
       "      <td>0.880692</td>\n",
       "    </tr>\n",
       "    <tr>\n",
       "      <th>package</th>\n",
       "      <td>0.880692</td>\n",
       "      <td>1.000000</td>\n",
       "    </tr>\n",
       "  </tbody>\n",
       "</table>\n",
       "</div>"
      ],
      "text/plain": [
       "             cgpa   package\n",
       "cgpa     1.000000  0.880692\n",
       "package  0.880692  1.000000"
      ]
     },
     "execution_count": 5,
     "metadata": {},
     "output_type": "execute_result"
    }
   ],
   "source": [
    "dataset.corr()"
   ]
  },
  {
   "cell_type": "code",
   "execution_count": 6,
   "id": "43ca9331",
   "metadata": {
    "execution": {
     "iopub.execute_input": "2025-06-30T11:10:30.735857Z",
     "iopub.status.busy": "2025-06-30T11:10:30.735533Z",
     "iopub.status.idle": "2025-06-30T11:10:30.745558Z",
     "shell.execute_reply": "2025-06-30T11:10:30.743975Z"
    },
    "papermill": {
     "duration": 0.017777,
     "end_time": "2025-06-30T11:10:30.747448",
     "exception": false,
     "start_time": "2025-06-30T11:10:30.729671",
     "status": "completed"
    },
    "tags": []
   },
   "outputs": [],
   "source": [
    "x = dataset[[\"cgpa\"]]\n",
    "y = dataset[\"package\"]"
   ]
  },
  {
   "cell_type": "code",
   "execution_count": 7,
   "id": "d3bba765",
   "metadata": {
    "execution": {
     "iopub.execute_input": "2025-06-30T11:10:30.758801Z",
     "iopub.status.busy": "2025-06-30T11:10:30.758447Z",
     "iopub.status.idle": "2025-06-30T11:10:30.966951Z",
     "shell.execute_reply": "2025-06-30T11:10:30.965899Z"
    },
    "papermill": {
     "duration": 0.216312,
     "end_time": "2025-06-30T11:10:30.968792",
     "exception": false,
     "start_time": "2025-06-30T11:10:30.752480",
     "status": "completed"
    },
    "tags": []
   },
   "outputs": [],
   "source": [
    "from sklearn.preprocessing import PolynomialFeatures"
   ]
  },
  {
   "cell_type": "code",
   "execution_count": 8,
   "id": "03a3c55c",
   "metadata": {
    "execution": {
     "iopub.execute_input": "2025-06-30T11:10:30.980410Z",
     "iopub.status.busy": "2025-06-30T11:10:30.980048Z",
     "iopub.status.idle": "2025-06-30T11:10:30.988347Z",
     "shell.execute_reply": "2025-06-30T11:10:30.987386Z"
    },
    "papermill": {
     "duration": 0.015979,
     "end_time": "2025-06-30T11:10:30.990091",
     "exception": false,
     "start_time": "2025-06-30T11:10:30.974112",
     "status": "completed"
    },
    "tags": []
   },
   "outputs": [],
   "source": [
    "pf = PolynomialFeatures(degree=3)\n",
    "pf.fit(x)\n",
    "x = pf.transform(x)"
   ]
  },
  {
   "cell_type": "code",
   "execution_count": 9,
   "id": "826e3721",
   "metadata": {
    "execution": {
     "iopub.execute_input": "2025-06-30T11:10:31.002302Z",
     "iopub.status.busy": "2025-06-30T11:10:31.001948Z",
     "iopub.status.idle": "2025-06-30T11:10:31.214803Z",
     "shell.execute_reply": "2025-06-30T11:10:31.213664Z"
    },
    "papermill": {
     "duration": 0.221314,
     "end_time": "2025-06-30T11:10:31.216723",
     "exception": false,
     "start_time": "2025-06-30T11:10:30.995409",
     "status": "completed"
    },
    "tags": []
   },
   "outputs": [],
   "source": [
    "from sklearn.model_selection import train_test_split"
   ]
  },
  {
   "cell_type": "code",
   "execution_count": 10,
   "id": "1fb344f1",
   "metadata": {
    "execution": {
     "iopub.execute_input": "2025-06-30T11:10:31.228803Z",
     "iopub.status.busy": "2025-06-30T11:10:31.228435Z",
     "iopub.status.idle": "2025-06-30T11:10:31.235408Z",
     "shell.execute_reply": "2025-06-30T11:10:31.234298Z"
    },
    "papermill": {
     "duration": 0.015045,
     "end_time": "2025-06-30T11:10:31.237131",
     "exception": false,
     "start_time": "2025-06-30T11:10:31.222086",
     "status": "completed"
    },
    "tags": []
   },
   "outputs": [],
   "source": [
    "x_train,x_test,y_train,y_test = train_test_split(x,y,test_size=0.2,random_state=43)"
   ]
  },
  {
   "cell_type": "code",
   "execution_count": 11,
   "id": "27996545",
   "metadata": {
    "execution": {
     "iopub.execute_input": "2025-06-30T11:10:31.248628Z",
     "iopub.status.busy": "2025-06-30T11:10:31.247872Z",
     "iopub.status.idle": "2025-06-30T11:10:31.373171Z",
     "shell.execute_reply": "2025-06-30T11:10:31.371971Z"
    },
    "papermill": {
     "duration": 0.133196,
     "end_time": "2025-06-30T11:10:31.375358",
     "exception": false,
     "start_time": "2025-06-30T11:10:31.242162",
     "status": "completed"
    },
    "tags": []
   },
   "outputs": [
    {
     "data": {
      "text/html": [
       "<style>#sk-container-id-1 {color: black;background-color: white;}#sk-container-id-1 pre{padding: 0;}#sk-container-id-1 div.sk-toggleable {background-color: white;}#sk-container-id-1 label.sk-toggleable__label {cursor: pointer;display: block;width: 100%;margin-bottom: 0;padding: 0.3em;box-sizing: border-box;text-align: center;}#sk-container-id-1 label.sk-toggleable__label-arrow:before {content: \"▸\";float: left;margin-right: 0.25em;color: #696969;}#sk-container-id-1 label.sk-toggleable__label-arrow:hover:before {color: black;}#sk-container-id-1 div.sk-estimator:hover label.sk-toggleable__label-arrow:before {color: black;}#sk-container-id-1 div.sk-toggleable__content {max-height: 0;max-width: 0;overflow: hidden;text-align: left;background-color: #f0f8ff;}#sk-container-id-1 div.sk-toggleable__content pre {margin: 0.2em;color: black;border-radius: 0.25em;background-color: #f0f8ff;}#sk-container-id-1 input.sk-toggleable__control:checked~div.sk-toggleable__content {max-height: 200px;max-width: 100%;overflow: auto;}#sk-container-id-1 input.sk-toggleable__control:checked~label.sk-toggleable__label-arrow:before {content: \"▾\";}#sk-container-id-1 div.sk-estimator input.sk-toggleable__control:checked~label.sk-toggleable__label {background-color: #d4ebff;}#sk-container-id-1 div.sk-label input.sk-toggleable__control:checked~label.sk-toggleable__label {background-color: #d4ebff;}#sk-container-id-1 input.sk-hidden--visually {border: 0;clip: rect(1px 1px 1px 1px);clip: rect(1px, 1px, 1px, 1px);height: 1px;margin: -1px;overflow: hidden;padding: 0;position: absolute;width: 1px;}#sk-container-id-1 div.sk-estimator {font-family: monospace;background-color: #f0f8ff;border: 1px dotted black;border-radius: 0.25em;box-sizing: border-box;margin-bottom: 0.5em;}#sk-container-id-1 div.sk-estimator:hover {background-color: #d4ebff;}#sk-container-id-1 div.sk-parallel-item::after {content: \"\";width: 100%;border-bottom: 1px solid gray;flex-grow: 1;}#sk-container-id-1 div.sk-label:hover label.sk-toggleable__label {background-color: #d4ebff;}#sk-container-id-1 div.sk-serial::before {content: \"\";position: absolute;border-left: 1px solid gray;box-sizing: border-box;top: 0;bottom: 0;left: 50%;z-index: 0;}#sk-container-id-1 div.sk-serial {display: flex;flex-direction: column;align-items: center;background-color: white;padding-right: 0.2em;padding-left: 0.2em;position: relative;}#sk-container-id-1 div.sk-item {position: relative;z-index: 1;}#sk-container-id-1 div.sk-parallel {display: flex;align-items: stretch;justify-content: center;background-color: white;position: relative;}#sk-container-id-1 div.sk-item::before, #sk-container-id-1 div.sk-parallel-item::before {content: \"\";position: absolute;border-left: 1px solid gray;box-sizing: border-box;top: 0;bottom: 0;left: 50%;z-index: -1;}#sk-container-id-1 div.sk-parallel-item {display: flex;flex-direction: column;z-index: 1;position: relative;background-color: white;}#sk-container-id-1 div.sk-parallel-item:first-child::after {align-self: flex-end;width: 50%;}#sk-container-id-1 div.sk-parallel-item:last-child::after {align-self: flex-start;width: 50%;}#sk-container-id-1 div.sk-parallel-item:only-child::after {width: 0;}#sk-container-id-1 div.sk-dashed-wrapped {border: 1px dashed gray;margin: 0 0.4em 0.5em 0.4em;box-sizing: border-box;padding-bottom: 0.4em;background-color: white;}#sk-container-id-1 div.sk-label label {font-family: monospace;font-weight: bold;display: inline-block;line-height: 1.2em;}#sk-container-id-1 div.sk-label-container {text-align: center;}#sk-container-id-1 div.sk-container {/* jupyter's `normalize.less` sets `[hidden] { display: none; }` but bootstrap.min.css set `[hidden] { display: none !important; }` so we also need the `!important` here to be able to override the default hidden behavior on the sphinx rendered scikit-learn.org. See: https://github.com/scikit-learn/scikit-learn/issues/21755 */display: inline-block !important;position: relative;}#sk-container-id-1 div.sk-text-repr-fallback {display: none;}</style><div id=\"sk-container-id-1\" class=\"sk-top-container\"><div class=\"sk-text-repr-fallback\"><pre>LinearRegression()</pre><b>In a Jupyter environment, please rerun this cell to show the HTML representation or trust the notebook. <br />On GitHub, the HTML representation is unable to render, please try loading this page with nbviewer.org.</b></div><div class=\"sk-container\" hidden><div class=\"sk-item\"><div class=\"sk-estimator sk-toggleable\"><input class=\"sk-toggleable__control sk-hidden--visually\" id=\"sk-estimator-id-1\" type=\"checkbox\" checked><label for=\"sk-estimator-id-1\" class=\"sk-toggleable__label sk-toggleable__label-arrow\">LinearRegression</label><div class=\"sk-toggleable__content\"><pre>LinearRegression()</pre></div></div></div></div></div>"
      ],
      "text/plain": [
       "LinearRegression()"
      ]
     },
     "execution_count": 11,
     "metadata": {},
     "output_type": "execute_result"
    }
   ],
   "source": [
    "from sklearn.linear_model import LinearRegression\n",
    "model = LinearRegression()\n",
    "model\n"
   ]
  },
  {
   "cell_type": "code",
   "execution_count": 12,
   "id": "b6bee1eb",
   "metadata": {
    "execution": {
     "iopub.execute_input": "2025-06-30T11:10:31.387029Z",
     "iopub.status.busy": "2025-06-30T11:10:31.386686Z",
     "iopub.status.idle": "2025-06-30T11:10:31.420225Z",
     "shell.execute_reply": "2025-06-30T11:10:31.419193Z"
    },
    "papermill": {
     "duration": 0.041265,
     "end_time": "2025-06-30T11:10:31.421984",
     "exception": false,
     "start_time": "2025-06-30T11:10:31.380719",
     "status": "completed"
    },
    "tags": []
   },
   "outputs": [
    {
     "data": {
      "text/html": [
       "<style>#sk-container-id-2 {color: black;background-color: white;}#sk-container-id-2 pre{padding: 0;}#sk-container-id-2 div.sk-toggleable {background-color: white;}#sk-container-id-2 label.sk-toggleable__label {cursor: pointer;display: block;width: 100%;margin-bottom: 0;padding: 0.3em;box-sizing: border-box;text-align: center;}#sk-container-id-2 label.sk-toggleable__label-arrow:before {content: \"▸\";float: left;margin-right: 0.25em;color: #696969;}#sk-container-id-2 label.sk-toggleable__label-arrow:hover:before {color: black;}#sk-container-id-2 div.sk-estimator:hover label.sk-toggleable__label-arrow:before {color: black;}#sk-container-id-2 div.sk-toggleable__content {max-height: 0;max-width: 0;overflow: hidden;text-align: left;background-color: #f0f8ff;}#sk-container-id-2 div.sk-toggleable__content pre {margin: 0.2em;color: black;border-radius: 0.25em;background-color: #f0f8ff;}#sk-container-id-2 input.sk-toggleable__control:checked~div.sk-toggleable__content {max-height: 200px;max-width: 100%;overflow: auto;}#sk-container-id-2 input.sk-toggleable__control:checked~label.sk-toggleable__label-arrow:before {content: \"▾\";}#sk-container-id-2 div.sk-estimator input.sk-toggleable__control:checked~label.sk-toggleable__label {background-color: #d4ebff;}#sk-container-id-2 div.sk-label input.sk-toggleable__control:checked~label.sk-toggleable__label {background-color: #d4ebff;}#sk-container-id-2 input.sk-hidden--visually {border: 0;clip: rect(1px 1px 1px 1px);clip: rect(1px, 1px, 1px, 1px);height: 1px;margin: -1px;overflow: hidden;padding: 0;position: absolute;width: 1px;}#sk-container-id-2 div.sk-estimator {font-family: monospace;background-color: #f0f8ff;border: 1px dotted black;border-radius: 0.25em;box-sizing: border-box;margin-bottom: 0.5em;}#sk-container-id-2 div.sk-estimator:hover {background-color: #d4ebff;}#sk-container-id-2 div.sk-parallel-item::after {content: \"\";width: 100%;border-bottom: 1px solid gray;flex-grow: 1;}#sk-container-id-2 div.sk-label:hover label.sk-toggleable__label {background-color: #d4ebff;}#sk-container-id-2 div.sk-serial::before {content: \"\";position: absolute;border-left: 1px solid gray;box-sizing: border-box;top: 0;bottom: 0;left: 50%;z-index: 0;}#sk-container-id-2 div.sk-serial {display: flex;flex-direction: column;align-items: center;background-color: white;padding-right: 0.2em;padding-left: 0.2em;position: relative;}#sk-container-id-2 div.sk-item {position: relative;z-index: 1;}#sk-container-id-2 div.sk-parallel {display: flex;align-items: stretch;justify-content: center;background-color: white;position: relative;}#sk-container-id-2 div.sk-item::before, #sk-container-id-2 div.sk-parallel-item::before {content: \"\";position: absolute;border-left: 1px solid gray;box-sizing: border-box;top: 0;bottom: 0;left: 50%;z-index: -1;}#sk-container-id-2 div.sk-parallel-item {display: flex;flex-direction: column;z-index: 1;position: relative;background-color: white;}#sk-container-id-2 div.sk-parallel-item:first-child::after {align-self: flex-end;width: 50%;}#sk-container-id-2 div.sk-parallel-item:last-child::after {align-self: flex-start;width: 50%;}#sk-container-id-2 div.sk-parallel-item:only-child::after {width: 0;}#sk-container-id-2 div.sk-dashed-wrapped {border: 1px dashed gray;margin: 0 0.4em 0.5em 0.4em;box-sizing: border-box;padding-bottom: 0.4em;background-color: white;}#sk-container-id-2 div.sk-label label {font-family: monospace;font-weight: bold;display: inline-block;line-height: 1.2em;}#sk-container-id-2 div.sk-label-container {text-align: center;}#sk-container-id-2 div.sk-container {/* jupyter's `normalize.less` sets `[hidden] { display: none; }` but bootstrap.min.css set `[hidden] { display: none !important; }` so we also need the `!important` here to be able to override the default hidden behavior on the sphinx rendered scikit-learn.org. See: https://github.com/scikit-learn/scikit-learn/issues/21755 */display: inline-block !important;position: relative;}#sk-container-id-2 div.sk-text-repr-fallback {display: none;}</style><div id=\"sk-container-id-2\" class=\"sk-top-container\"><div class=\"sk-text-repr-fallback\"><pre>LinearRegression()</pre><b>In a Jupyter environment, please rerun this cell to show the HTML representation or trust the notebook. <br />On GitHub, the HTML representation is unable to render, please try loading this page with nbviewer.org.</b></div><div class=\"sk-container\" hidden><div class=\"sk-item\"><div class=\"sk-estimator sk-toggleable\"><input class=\"sk-toggleable__control sk-hidden--visually\" id=\"sk-estimator-id-2\" type=\"checkbox\" checked><label for=\"sk-estimator-id-2\" class=\"sk-toggleable__label sk-toggleable__label-arrow\">LinearRegression</label><div class=\"sk-toggleable__content\"><pre>LinearRegression()</pre></div></div></div></div></div>"
      ],
      "text/plain": [
       "LinearRegression()"
      ]
     },
     "execution_count": 12,
     "metadata": {},
     "output_type": "execute_result"
    }
   ],
   "source": [
    "model.fit(x_train,y_train)\n"
   ]
  },
  {
   "cell_type": "code",
   "execution_count": 13,
   "id": "60591a67",
   "metadata": {
    "execution": {
     "iopub.execute_input": "2025-06-30T11:10:31.434501Z",
     "iopub.status.busy": "2025-06-30T11:10:31.433610Z",
     "iopub.status.idle": "2025-06-30T11:10:31.441190Z",
     "shell.execute_reply": "2025-06-30T11:10:31.439965Z"
    },
    "papermill": {
     "duration": 0.015691,
     "end_time": "2025-06-30T11:10:31.443097",
     "exception": false,
     "start_time": "2025-06-30T11:10:31.427406",
     "status": "completed"
    },
    "tags": []
   },
   "outputs": [
    {
     "data": {
      "text/plain": [
       "0.7488560625124441"
      ]
     },
     "execution_count": 13,
     "metadata": {},
     "output_type": "execute_result"
    }
   ],
   "source": [
    "model.score(x_test,y_test)"
   ]
  },
  {
   "cell_type": "code",
   "execution_count": 14,
   "id": "b9afcf51",
   "metadata": {
    "execution": {
     "iopub.execute_input": "2025-06-30T11:10:31.455915Z",
     "iopub.status.busy": "2025-06-30T11:10:31.455577Z",
     "iopub.status.idle": "2025-06-30T11:10:31.464769Z",
     "shell.execute_reply": "2025-06-30T11:10:31.463788Z"
    },
    "papermill": {
     "duration": 0.017818,
     "end_time": "2025-06-30T11:10:31.466397",
     "exception": false,
     "start_time": "2025-06-30T11:10:31.448579",
     "status": "completed"
    },
    "tags": []
   },
   "outputs": [
    {
     "name": "stderr",
     "output_type": "stream",
     "text": [
      "/usr/local/lib/python3.11/dist-packages/sklearn/base.py:439: UserWarning: X does not have valid feature names, but PolynomialFeatures was fitted with feature names\n",
      "  warnings.warn(\n"
     ]
    },
    {
     "data": {
      "text/plain": [
       "array([[  1.      ,   5.12    ,  26.2144  , 134.217728]])"
      ]
     },
     "execution_count": 14,
     "metadata": {},
     "output_type": "execute_result"
    }
   ],
   "source": [
    "test = pf.transform([[5.12]])\n",
    "test"
   ]
  },
  {
   "cell_type": "code",
   "execution_count": 15,
   "id": "d72994eb",
   "metadata": {
    "execution": {
     "iopub.execute_input": "2025-06-30T11:10:31.478603Z",
     "iopub.status.busy": "2025-06-30T11:10:31.478319Z",
     "iopub.status.idle": "2025-06-30T11:10:31.485200Z",
     "shell.execute_reply": "2025-06-30T11:10:31.484292Z"
    },
    "papermill": {
     "duration": 0.014643,
     "end_time": "2025-06-30T11:10:31.486627",
     "exception": false,
     "start_time": "2025-06-30T11:10:31.471984",
     "status": "completed"
    },
    "tags": []
   },
   "outputs": [
    {
     "data": {
      "text/plain": [
       "array([1.90237682])"
      ]
     },
     "execution_count": 15,
     "metadata": {},
     "output_type": "execute_result"
    }
   ],
   "source": [
    "pred = model.predict(test)\n",
    "pred"
   ]
  },
  {
   "cell_type": "code",
   "execution_count": 16,
   "id": "5565a037",
   "metadata": {
    "execution": {
     "iopub.execute_input": "2025-06-30T11:10:31.500323Z",
     "iopub.status.busy": "2025-06-30T11:10:31.500022Z",
     "iopub.status.idle": "2025-06-30T11:10:31.504967Z",
     "shell.execute_reply": "2025-06-30T11:10:31.503962Z"
    },
    "papermill": {
     "duration": 0.013757,
     "end_time": "2025-06-30T11:10:31.506620",
     "exception": false,
     "start_time": "2025-06-30T11:10:31.492863",
     "status": "completed"
    },
    "tags": []
   },
   "outputs": [],
   "source": [
    "y_pred = model.predict(x)"
   ]
  },
  {
   "cell_type": "code",
   "execution_count": 17,
   "id": "4be6811b",
   "metadata": {
    "execution": {
     "iopub.execute_input": "2025-06-30T11:10:31.519891Z",
     "iopub.status.busy": "2025-06-30T11:10:31.519561Z",
     "iopub.status.idle": "2025-06-30T11:10:31.526051Z",
     "shell.execute_reply": "2025-06-30T11:10:31.525039Z"
    },
    "papermill": {
     "duration": 0.014887,
     "end_time": "2025-06-30T11:10:31.527539",
     "exception": false,
     "start_time": "2025-06-30T11:10:31.512652",
     "status": "completed"
    },
    "tags": []
   },
   "outputs": [
    {
     "data": {
      "text/plain": [
       "array([ 0.        , -0.95646685,  0.23972319, -0.01219163])"
      ]
     },
     "execution_count": 17,
     "metadata": {},
     "output_type": "execute_result"
    }
   ],
   "source": [
    "model.coef_"
   ]
  },
  {
   "cell_type": "code",
   "execution_count": 18,
   "id": "d86be6ea",
   "metadata": {
    "execution": {
     "iopub.execute_input": "2025-06-30T11:10:31.540463Z",
     "iopub.status.busy": "2025-06-30T11:10:31.540129Z",
     "iopub.status.idle": "2025-06-30T11:10:31.546700Z",
     "shell.execute_reply": "2025-06-30T11:10:31.545700Z"
    },
    "papermill": {
     "duration": 0.015663,
     "end_time": "2025-06-30T11:10:31.549040",
     "exception": false,
     "start_time": "2025-06-30T11:10:31.533377",
     "status": "completed"
    },
    "tags": []
   },
   "outputs": [
    {
     "data": {
      "text/plain": [
       "2.1516198337140215"
      ]
     },
     "execution_count": 18,
     "metadata": {},
     "output_type": "execute_result"
    }
   ],
   "source": [
    "model.intercept_"
   ]
  },
  {
   "cell_type": "code",
   "execution_count": 19,
   "id": "41eda940",
   "metadata": {
    "execution": {
     "iopub.execute_input": "2025-06-30T11:10:31.562902Z",
     "iopub.status.busy": "2025-06-30T11:10:31.562539Z",
     "iopub.status.idle": "2025-06-30T11:10:31.779903Z",
     "shell.execute_reply": "2025-06-30T11:10:31.778663Z"
    },
    "papermill": {
     "duration": 0.225953,
     "end_time": "2025-06-30T11:10:31.781570",
     "exception": false,
     "start_time": "2025-06-30T11:10:31.555617",
     "status": "completed"
    },
    "tags": []
   },
   "outputs": [
    {
     "data": {
      "image/png": "[encoded data removed]",
      "text/plain": [
       "<Figure size 640x480 with 1 Axes>"
      ]
     },
     "metadata": {},
     "output_type": "display_data"
    }
   ],
   "source": [
    "plt.scatter(dataset[\"cgpa\"],dataset[\"package\"])\n",
    "plt.plot(dataset[\"cgpa\"],y_pred,c='red')\n",
    "plt.xlabel(\"cgpa\")\n",
    "plt.ylabel(\"package\")\n",
    "plt.legend([\"org data\",\"prediction line\"])\n",
    "plt.show()"
   ]
  }
 ],
 "metadata": {
  "kaggle": {
   "accelerator": "none",
   "dataSources": [
    {
     "datasetId": 3489570,
     "sourceId": 6093107,
     "sourceType": "datasetVersion"
    }
   ],
   "dockerImageVersionId": 31040,
   "isGpuEnabled": false,
   "isInternetEnabled": true,
   "language": "python",
   "sourceType": "notebook"
  },
  "kernelspec": {
   "display_name": "Python 3",
   "language": "python",
   "name": "python3"
  },
  "language_info": {
   "codemirror_mode": {
    "name": "ipython",
    "version": 3
   },
   "file_extension": ".py",
   "mimetype": "text/x-python",
   "name": "python",
   "nbconvert_exporter": "python",
   "pygments_lexer": "ipython3",
   "version": "3.11.11"
  },
  "papermill": {
   "default_parameters": {},
   "duration": 11.583378,
   "end_time": "2025-06-30T11:10:32.509944",
   "environment_variables": {},
   "exception": null,
   "input_path": "__notebook__.ipynb",
   "output_path": "__notebook__.ipynb",
   "parameters": {},
   "start_time": "2025-06-30T11:10:20.926566",
   "version": "2.6.0"
  }
 },
 "nbformat": 4,
 "nbformat_minor": 5
}

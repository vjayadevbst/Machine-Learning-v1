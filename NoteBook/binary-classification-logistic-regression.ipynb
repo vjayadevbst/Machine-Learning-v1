{
 "cells": [
  {
   "cell_type": "markdown",
   "id": "6ee84f3b",
   "metadata": {
    "papermill": {
     "duration": 0.004645,
     "end_time": "2025-07-01T07:51:25.006504",
     "exception": false,
     "start_time": "2025-07-01T07:51:25.001859",
     "status": "completed"
    },
    "tags": []
   },
   "source": [
    "# 📘 Logistic Regression - Notes\n",
    "\n",
    "## 🧠 What is Logistic Regression?\n",
    "\n",
    "- Logistic Regression is a **supervised classification** algorithm used to **predict binary outcomes** (1/0, True/False, Yes/No).\n",
    "- It estimates the probability that a given input point belongs to a certain class.\n",
    "\n",
    "---\n",
    "\n",
    "## 📈 Logistic vs Linear Regression\n",
    "\n",
    "| Feature                | Linear Regression          | Logistic Regression         |\n",
    "|------------------------|----------------------------|-----------------------------|\n",
    "| Output                 | Continuous                 | Categorical (probability)   |\n",
    "| Use Case               | Predicting values          | Classification              |\n",
    "| Function Used          | Line (y = mx + c)          | Sigmoid Function            |\n",
    "| Range of Output        | (-∞, ∞)                    | (0, 1)                      |\n",
    "\n",
    "---\n",
    "\n",
    "## 🧮 Sigmoid Function\n",
    "\n",
    "\\[\n",
    "\\sigma(z) = \\frac{1}{1 + e^{-z}}\n",
    "\\]\n",
    "\n",
    "- Converts any real value into a range between **0 and 1**.\n",
    "- Used to model the probability of the default class.\n",
    "\n",
    "---\n",
    "\n",
    "## ✅ Model Prediction\n",
    "\n",
    "- If \\( P(y=1|x) \\geq 0.5 \\): Class = 1  \n",
    "- If \\( P(y=1|x) < 0.5 \\): Class = 0\n",
    "\n",
    "---\n",
    "\n",
    "## 📊 Cost Function (Log Loss)\n",
    "\n",
    "\\[\n",
    "J(\\theta) = -\\frac{1}{m} \\sum_{i=1}^{m} [y^{(i)} \\log(h_\\theta(x^{(i)})) + (1 - y^{(i)}) \\log(1 - h_\\theta(x^{(i)}))]\n",
    "\\]\n",
    "\n",
    "- Helps the algorithm to minimize error in predictions.\n",
    "\n",
    "---\n",
    "\n",
    "## ⚙️ Gradient Descent (Optimization)\n",
    "\n",
    "- Used to minimize the **cost function**.\n",
    "- Updates weights using:\n",
    "\n",
    "\\[\n",
    "\\theta = \\theta - \\alpha \\cdot \\nabla J(\\theta)\n",
    "\\]\n",
    "\n",
    "---\n",
    "\n",
    "## 🧪 Evaluation Metrics\n",
    "\n",
    "- **Accuracy**\n",
    "- **Precision / Recall / F1 Score**\n",
    "- **Confusion Matrix**\n",
    "- **ROC-AUC Curve**\n",
    "\n",
    "---\n",
    "\n",
    "## 📚 Example Use Cases\n",
    "\n",
    "- Email Spam Detection\n",
    "- Customer Churn Prediction\n",
    "- Disease Diagnosis\n",
    "- Click Prediction (e.g., Ads)\n",
    "\n",
    "---\n",
    "\n",
    "## ✅ Pros\n",
    "\n",
    "- Easy to implement and interpret\n",
    "- Works well for linearly separable data\n",
    "- Efficient for binary classification\n",
    "\n",
    "---\n",
    "\n",
    "## ❌ Cons\n",
    "\n",
    "- Struggles with non-linear relationships\n",
    "- Not ideal for multiclass problems without extension (e.g., one-vs-rest)\n",
    "- Sensitive to outliers\n",
    "\n",
    "---\n",
    "\n",
    "## 📦 Common Libraries in Python\n",
    "\n",
    "```python\n",
    "from sklearn.linear_model import LogisticRegression\n",
    "from sklearn.metrics import accuracy_score, confusion_matrix, classification_report\n"
   ]
  },
  {
   "cell_type": "code",
   "execution_count": 1,
   "id": "96eab582",
   "metadata": {
    "_cell_guid": "b1076dfc-b9ad-4769-8c92-a6c4dae69d19",
    "_uuid": "8f2839f25d086af736a60e9eeb907d3b93b6e0e5",
    "execution": {
     "iopub.execute_input": "2025-07-01T07:51:25.015060Z",
     "iopub.status.busy": "2025-07-01T07:51:25.014747Z",
     "iopub.status.idle": "2025-07-01T07:51:26.880802Z",
     "shell.execute_reply": "2025-07-01T07:51:26.879757Z"
    },
    "papermill": {
     "duration": 1.872895,
     "end_time": "2025-07-01T07:51:26.883092",
     "exception": false,
     "start_time": "2025-07-01T07:51:25.010197",
     "status": "completed"
    },
    "tags": []
   },
   "outputs": [
    {
     "name": "stdout",
     "output_type": "stream",
     "text": [
      "/kaggle/input/social-network-adscsv/Social_Network_Ads.csv\n"
     ]
    }
   ],
   "source": [
    "# This Python 3 environment comes with many helpful analytics libraries installed\n",
    "# It is defined by the kaggle/python Docker image: https://github.com/kaggle/docker-python\n",
    "# For example, here's several helpful packages to load\n",
    "\n",
    "import numpy as np # linear algebra\n",
    "import pandas as pd # data processing, CSV file I/O (e.g. pd.read_csv)\n",
    "\n",
    "# Input data files are available in the read-only \"../input/\" directory\n",
    "# For example, running this (by clicking run or pressing Shift+Enter) will list all files under the input directory\n",
    "\n",
    "import os\n",
    "for dirname, _, filenames in os.walk('/kaggle/input'):\n",
    "    for filename in filenames:\n",
    "        print(os.path.join(dirname, filename))\n",
    "\n",
    "# You can write up to 20GB to the current directory (/kaggle/working/) that gets preserved as output when you create a version using \"Save & Run All\" \n",
    "# You can also write temporary files to /kaggle/temp/, but they won't be saved outside of the current session"
   ]
  },
  {
   "cell_type": "code",
   "execution_count": 2,
   "id": "524611f3",
   "metadata": {
    "execution": {
     "iopub.execute_input": "2025-07-01T07:51:26.894178Z",
     "iopub.status.busy": "2025-07-01T07:51:26.893098Z",
     "iopub.status.idle": "2025-07-01T07:51:28.758138Z",
     "shell.execute_reply": "2025-07-01T07:51:28.757278Z"
    },
    "papermill": {
     "duration": 1.872299,
     "end_time": "2025-07-01T07:51:28.759964",
     "exception": false,
     "start_time": "2025-07-01T07:51:26.887665",
     "status": "completed"
    },
    "tags": []
   },
   "outputs": [],
   "source": [
    "import seaborn as sns\n",
    "import matplotlib.pyplot as plt"
   ]
  },
  {
   "cell_type": "code",
   "execution_count": 3,
   "id": "a0595d52",
   "metadata": {
    "execution": {
     "iopub.execute_input": "2025-07-01T07:51:28.768727Z",
     "iopub.status.busy": "2025-07-01T07:51:28.768255Z",
     "iopub.status.idle": "2025-07-01T07:51:28.808003Z",
     "shell.execute_reply": "2025-07-01T07:51:28.807139Z"
    },
    "papermill": {
     "duration": 0.045645,
     "end_time": "2025-07-01T07:51:28.809306",
     "exception": false,
     "start_time": "2025-07-01T07:51:28.763661",
     "status": "completed"
    },
    "tags": []
   },
   "outputs": [
    {
     "data": {
      "text/html": [
       "<div>\n",
       "<style scoped>\n",
       "    .dataframe tbody tr th:only-of-type {\n",
       "        vertical-align: middle;\n",
       "    }\n",
       "\n",
       "    .dataframe tbody tr th {\n",
       "        vertical-align: top;\n",
       "    }\n",
       "\n",
       "    .dataframe thead th {\n",
       "        text-align: right;\n",
       "    }\n",
       "</style>\n",
       "<table border=\"1\" class=\"dataframe\">\n",
       "  <thead>\n",
       "    <tr style=\"text-align: right;\">\n",
       "      <th></th>\n",
       "      <th>Age</th>\n",
       "      <th>EstimatedSalary</th>\n",
       "      <th>Purchased</th>\n",
       "    </tr>\n",
       "  </thead>\n",
       "  <tbody>\n",
       "    <tr>\n",
       "      <th>0</th>\n",
       "      <td>19</td>\n",
       "      <td>19000</td>\n",
       "      <td>0</td>\n",
       "    </tr>\n",
       "    <tr>\n",
       "      <th>1</th>\n",
       "      <td>35</td>\n",
       "      <td>20000</td>\n",
       "      <td>0</td>\n",
       "    </tr>\n",
       "    <tr>\n",
       "      <th>2</th>\n",
       "      <td>26</td>\n",
       "      <td>43000</td>\n",
       "      <td>0</td>\n",
       "    </tr>\n",
       "    <tr>\n",
       "      <th>3</th>\n",
       "      <td>27</td>\n",
       "      <td>57000</td>\n",
       "      <td>0</td>\n",
       "    </tr>\n",
       "    <tr>\n",
       "      <th>4</th>\n",
       "      <td>19</td>\n",
       "      <td>76000</td>\n",
       "      <td>0</td>\n",
       "    </tr>\n",
       "    <tr>\n",
       "      <th>...</th>\n",
       "      <td>...</td>\n",
       "      <td>...</td>\n",
       "      <td>...</td>\n",
       "    </tr>\n",
       "    <tr>\n",
       "      <th>395</th>\n",
       "      <td>46</td>\n",
       "      <td>41000</td>\n",
       "      <td>1</td>\n",
       "    </tr>\n",
       "    <tr>\n",
       "      <th>396</th>\n",
       "      <td>51</td>\n",
       "      <td>23000</td>\n",
       "      <td>1</td>\n",
       "    </tr>\n",
       "    <tr>\n",
       "      <th>397</th>\n",
       "      <td>50</td>\n",
       "      <td>20000</td>\n",
       "      <td>1</td>\n",
       "    </tr>\n",
       "    <tr>\n",
       "      <th>398</th>\n",
       "      <td>36</td>\n",
       "      <td>33000</td>\n",
       "      <td>0</td>\n",
       "    </tr>\n",
       "    <tr>\n",
       "      <th>399</th>\n",
       "      <td>49</td>\n",
       "      <td>36000</td>\n",
       "      <td>1</td>\n",
       "    </tr>\n",
       "  </tbody>\n",
       "</table>\n",
       "<p>400 rows × 3 columns</p>\n",
       "</div>"
      ],
      "text/plain": [
       "     Age  EstimatedSalary  Purchased\n",
       "0     19            19000          0\n",
       "1     35            20000          0\n",
       "2     26            43000          0\n",
       "3     27            57000          0\n",
       "4     19            76000          0\n",
       "..   ...              ...        ...\n",
       "395   46            41000          1\n",
       "396   51            23000          1\n",
       "397   50            20000          1\n",
       "398   36            33000          0\n",
       "399   49            36000          1\n",
       "\n",
       "[400 rows x 3 columns]"
      ]
     },
     "execution_count": 3,
     "metadata": {},
     "output_type": "execute_result"
    }
   ],
   "source": [
    "dataset = pd.read_csv(r\"/kaggle/input/social-network-adscsv/Social_Network_Ads.csv\")\n",
    "dataset"
   ]
  },
  {
   "cell_type": "code",
   "execution_count": 4,
   "id": "2350ed55",
   "metadata": {
    "execution": {
     "iopub.execute_input": "2025-07-01T07:51:28.818836Z",
     "iopub.status.busy": "2025-07-01T07:51:28.818009Z",
     "iopub.status.idle": "2025-07-01T07:51:28.833330Z",
     "shell.execute_reply": "2025-07-01T07:51:28.832497Z"
    },
    "papermill": {
     "duration": 0.021431,
     "end_time": "2025-07-01T07:51:28.834729",
     "exception": false,
     "start_time": "2025-07-01T07:51:28.813298",
     "status": "completed"
    },
    "tags": []
   },
   "outputs": [
    {
     "data": {
      "text/html": [
       "<div>\n",
       "<style scoped>\n",
       "    .dataframe tbody tr th:only-of-type {\n",
       "        vertical-align: middle;\n",
       "    }\n",
       "\n",
       "    .dataframe tbody tr th {\n",
       "        vertical-align: top;\n",
       "    }\n",
       "\n",
       "    .dataframe thead th {\n",
       "        text-align: right;\n",
       "    }\n",
       "</style>\n",
       "<table border=\"1\" class=\"dataframe\">\n",
       "  <thead>\n",
       "    <tr style=\"text-align: right;\">\n",
       "      <th></th>\n",
       "      <th>Age</th>\n",
       "      <th>Purchased</th>\n",
       "    </tr>\n",
       "  </thead>\n",
       "  <tbody>\n",
       "    <tr>\n",
       "      <th>0</th>\n",
       "      <td>19</td>\n",
       "      <td>0</td>\n",
       "    </tr>\n",
       "    <tr>\n",
       "      <th>1</th>\n",
       "      <td>35</td>\n",
       "      <td>0</td>\n",
       "    </tr>\n",
       "    <tr>\n",
       "      <th>2</th>\n",
       "      <td>26</td>\n",
       "      <td>0</td>\n",
       "    </tr>\n",
       "    <tr>\n",
       "      <th>3</th>\n",
       "      <td>27</td>\n",
       "      <td>0</td>\n",
       "    </tr>\n",
       "    <tr>\n",
       "      <th>4</th>\n",
       "      <td>19</td>\n",
       "      <td>0</td>\n",
       "    </tr>\n",
       "    <tr>\n",
       "      <th>...</th>\n",
       "      <td>...</td>\n",
       "      <td>...</td>\n",
       "    </tr>\n",
       "    <tr>\n",
       "      <th>395</th>\n",
       "      <td>46</td>\n",
       "      <td>1</td>\n",
       "    </tr>\n",
       "    <tr>\n",
       "      <th>396</th>\n",
       "      <td>51</td>\n",
       "      <td>1</td>\n",
       "    </tr>\n",
       "    <tr>\n",
       "      <th>397</th>\n",
       "      <td>50</td>\n",
       "      <td>1</td>\n",
       "    </tr>\n",
       "    <tr>\n",
       "      <th>398</th>\n",
       "      <td>36</td>\n",
       "      <td>0</td>\n",
       "    </tr>\n",
       "    <tr>\n",
       "      <th>399</th>\n",
       "      <td>49</td>\n",
       "      <td>1</td>\n",
       "    </tr>\n",
       "  </tbody>\n",
       "</table>\n",
       "<p>400 rows × 2 columns</p>\n",
       "</div>"
      ],
      "text/plain": [
       "     Age  Purchased\n",
       "0     19          0\n",
       "1     35          0\n",
       "2     26          0\n",
       "3     27          0\n",
       "4     19          0\n",
       "..   ...        ...\n",
       "395   46          1\n",
       "396   51          1\n",
       "397   50          1\n",
       "398   36          0\n",
       "399   49          1\n",
       "\n",
       "[400 rows x 2 columns]"
      ]
     },
     "execution_count": 4,
     "metadata": {},
     "output_type": "execute_result"
    }
   ],
   "source": [
    "dataset.drop(\"EstimatedSalary\", axis=1, inplace=True)\n",
    "dataset"
   ]
  },
  {
   "cell_type": "code",
   "execution_count": 5,
   "id": "e4301fb9",
   "metadata": {
    "execution": {
     "iopub.execute_input": "2025-07-01T07:51:28.844122Z",
     "iopub.status.busy": "2025-07-01T07:51:28.843400Z",
     "iopub.status.idle": "2025-07-01T07:51:29.062620Z",
     "shell.execute_reply": "2025-07-01T07:51:29.061714Z"
    },
    "papermill": {
     "duration": 0.225355,
     "end_time": "2025-07-01T07:51:29.064046",
     "exception": false,
     "start_time": "2025-07-01T07:51:28.838691",
     "status": "completed"
    },
    "tags": []
   },
   "outputs": [
    {
     "data": {
      "image/png": "[encoded data removed]",
      "text/plain": [
       "<Figure size 640x480 with 1 Axes>"
      ]
     },
     "metadata": {},
     "output_type": "display_data"
    }
   ],
   "source": [
    "plt.scatter(x=\"Age\",y=\"Purchased\",data=dataset)\n",
    "plt.show()"
   ]
  },
  {
   "cell_type": "code",
   "execution_count": 6,
   "id": "260ef876",
   "metadata": {
    "execution": {
     "iopub.execute_input": "2025-07-01T07:51:29.074201Z",
     "iopub.status.busy": "2025-07-01T07:51:29.073605Z",
     "iopub.status.idle": "2025-07-01T07:51:29.079022Z",
     "shell.execute_reply": "2025-07-01T07:51:29.078045Z"
    },
    "papermill": {
     "duration": 0.011996,
     "end_time": "2025-07-01T07:51:29.080556",
     "exception": false,
     "start_time": "2025-07-01T07:51:29.068560",
     "status": "completed"
    },
    "tags": []
   },
   "outputs": [],
   "source": [
    "x = dataset[[\"Age\"]]\n",
    "y = dataset[\"Purchased\"]"
   ]
  },
  {
   "cell_type": "code",
   "execution_count": 7,
   "id": "39f9b699",
   "metadata": {
    "execution": {
     "iopub.execute_input": "2025-07-01T07:51:29.090202Z",
     "iopub.status.busy": "2025-07-01T07:51:29.089911Z",
     "iopub.status.idle": "2025-07-01T07:51:29.445788Z",
     "shell.execute_reply": "2025-07-01T07:51:29.444705Z"
    },
    "papermill": {
     "duration": 0.36284,
     "end_time": "2025-07-01T07:51:29.447713",
     "exception": false,
     "start_time": "2025-07-01T07:51:29.084873",
     "status": "completed"
    },
    "tags": []
   },
   "outputs": [],
   "source": [
    "from sklearn.model_selection import train_test_split "
   ]
  },
  {
   "cell_type": "code",
   "execution_count": 8,
   "id": "ac1784e6",
   "metadata": {
    "execution": {
     "iopub.execute_input": "2025-07-01T07:51:29.458657Z",
     "iopub.status.busy": "2025-07-01T07:51:29.457812Z",
     "iopub.status.idle": "2025-07-01T07:51:29.568267Z",
     "shell.execute_reply": "2025-07-01T07:51:29.567402Z"
    },
    "papermill": {
     "duration": 0.117191,
     "end_time": "2025-07-01T07:51:29.569664",
     "exception": false,
     "start_time": "2025-07-01T07:51:29.452473",
     "status": "completed"
    },
    "tags": []
   },
   "outputs": [
    {
     "data": {
      "text/html": [
       "<style>#sk-container-id-1 {color: black;background-color: white;}#sk-container-id-1 pre{padding: 0;}#sk-container-id-1 div.sk-toggleable {background-color: white;}#sk-container-id-1 label.sk-toggleable__label {cursor: pointer;display: block;width: 100%;margin-bottom: 0;padding: 0.3em;box-sizing: border-box;text-align: center;}#sk-container-id-1 label.sk-toggleable__label-arrow:before {content: \"▸\";float: left;margin-right: 0.25em;color: #696969;}#sk-container-id-1 label.sk-toggleable__label-arrow:hover:before {color: black;}#sk-container-id-1 div.sk-estimator:hover label.sk-toggleable__label-arrow:before {color: black;}#sk-container-id-1 div.sk-toggleable__content {max-height: 0;max-width: 0;overflow: hidden;text-align: left;background-color: #f0f8ff;}#sk-container-id-1 div.sk-toggleable__content pre {margin: 0.2em;color: black;border-radius: 0.25em;background-color: #f0f8ff;}#sk-container-id-1 input.sk-toggleable__control:checked~div.sk-toggleable__content {max-height: 200px;max-width: 100%;overflow: auto;}#sk-container-id-1 input.sk-toggleable__control:checked~label.sk-toggleable__label-arrow:before {content: \"▾\";}#sk-container-id-1 div.sk-estimator input.sk-toggleable__control:checked~label.sk-toggleable__label {background-color: #d4ebff;}#sk-container-id-1 div.sk-label input.sk-toggleable__control:checked~label.sk-toggleable__label {background-color: #d4ebff;}#sk-container-id-1 input.sk-hidden--visually {border: 0;clip: rect(1px 1px 1px 1px);clip: rect(1px, 1px, 1px, 1px);height: 1px;margin: -1px;overflow: hidden;padding: 0;position: absolute;width: 1px;}#sk-container-id-1 div.sk-estimator {font-family: monospace;background-color: #f0f8ff;border: 1px dotted black;border-radius: 0.25em;box-sizing: border-box;margin-bottom: 0.5em;}#sk-container-id-1 div.sk-estimator:hover {background-color: #d4ebff;}#sk-container-id-1 div.sk-parallel-item::after {content: \"\";width: 100%;border-bottom: 1px solid gray;flex-grow: 1;}#sk-container-id-1 div.sk-label:hover label.sk-toggleable__label {background-color: #d4ebff;}#sk-container-id-1 div.sk-serial::before {content: \"\";position: absolute;border-left: 1px solid gray;box-sizing: border-box;top: 0;bottom: 0;left: 50%;z-index: 0;}#sk-container-id-1 div.sk-serial {display: flex;flex-direction: column;align-items: center;background-color: white;padding-right: 0.2em;padding-left: 0.2em;position: relative;}#sk-container-id-1 div.sk-item {position: relative;z-index: 1;}#sk-container-id-1 div.sk-parallel {display: flex;align-items: stretch;justify-content: center;background-color: white;position: relative;}#sk-container-id-1 div.sk-item::before, #sk-container-id-1 div.sk-parallel-item::before {content: \"\";position: absolute;border-left: 1px solid gray;box-sizing: border-box;top: 0;bottom: 0;left: 50%;z-index: -1;}#sk-container-id-1 div.sk-parallel-item {display: flex;flex-direction: column;z-index: 1;position: relative;background-color: white;}#sk-container-id-1 div.sk-parallel-item:first-child::after {align-self: flex-end;width: 50%;}#sk-container-id-1 div.sk-parallel-item:last-child::after {align-self: flex-start;width: 50%;}#sk-container-id-1 div.sk-parallel-item:only-child::after {width: 0;}#sk-container-id-1 div.sk-dashed-wrapped {border: 1px dashed gray;margin: 0 0.4em 0.5em 0.4em;box-sizing: border-box;padding-bottom: 0.4em;background-color: white;}#sk-container-id-1 div.sk-label label {font-family: monospace;font-weight: bold;display: inline-block;line-height: 1.2em;}#sk-container-id-1 div.sk-label-container {text-align: center;}#sk-container-id-1 div.sk-container {/* jupyter's `normalize.less` sets `[hidden] { display: none; }` but bootstrap.min.css set `[hidden] { display: none !important; }` so we also need the `!important` here to be able to override the default hidden behavior on the sphinx rendered scikit-learn.org. See: https://github.com/scikit-learn/scikit-learn/issues/21755 */display: inline-block !important;position: relative;}#sk-container-id-1 div.sk-text-repr-fallback {display: none;}</style><div id=\"sk-container-id-1\" class=\"sk-top-container\"><div class=\"sk-text-repr-fallback\"><pre>LogisticRegression()</pre><b>In a Jupyter environment, please rerun this cell to show the HTML representation or trust the notebook. <br />On GitHub, the HTML representation is unable to render, please try loading this page with nbviewer.org.</b></div><div class=\"sk-container\" hidden><div class=\"sk-item\"><div class=\"sk-estimator sk-toggleable\"><input class=\"sk-toggleable__control sk-hidden--visually\" id=\"sk-estimator-id-1\" type=\"checkbox\" checked><label for=\"sk-estimator-id-1\" class=\"sk-toggleable__label sk-toggleable__label-arrow\">LogisticRegression</label><div class=\"sk-toggleable__content\"><pre>LogisticRegression()</pre></div></div></div></div></div>"
      ],
      "text/plain": [
       "LogisticRegression()"
      ]
     },
     "execution_count": 8,
     "metadata": {},
     "output_type": "execute_result"
    }
   ],
   "source": [
    "from sklearn.linear_model import LogisticRegression\n",
    "lr = LogisticRegression()\n",
    "lr"
   ]
  },
  {
   "cell_type": "code",
   "execution_count": 9,
   "id": "170fd068",
   "metadata": {
    "execution": {
     "iopub.execute_input": "2025-07-01T07:51:29.579722Z",
     "iopub.status.busy": "2025-07-01T07:51:29.578949Z",
     "iopub.status.idle": "2025-07-01T07:51:29.586184Z",
     "shell.execute_reply": "2025-07-01T07:51:29.585228Z"
    },
    "papermill": {
     "duration": 0.013782,
     "end_time": "2025-07-01T07:51:29.587780",
     "exception": false,
     "start_time": "2025-07-01T07:51:29.573998",
     "status": "completed"
    },
    "tags": []
   },
   "outputs": [],
   "source": [
    "x_train,x_test,y_train,y_test = train_test_split(x,y,test_size=0.2,random_state=43)"
   ]
  },
  {
   "cell_type": "code",
   "execution_count": 10,
   "id": "891058ed",
   "metadata": {
    "execution": {
     "iopub.execute_input": "2025-07-01T07:51:29.597812Z",
     "iopub.status.busy": "2025-07-01T07:51:29.597322Z",
     "iopub.status.idle": "2025-07-01T07:51:29.619933Z",
     "shell.execute_reply": "2025-07-01T07:51:29.619074Z"
    },
    "papermill": {
     "duration": 0.029515,
     "end_time": "2025-07-01T07:51:29.621706",
     "exception": false,
     "start_time": "2025-07-01T07:51:29.592191",
     "status": "completed"
    },
    "tags": []
   },
   "outputs": [
    {
     "data": {
      "text/html": [
       "<style>#sk-container-id-2 {color: black;background-color: white;}#sk-container-id-2 pre{padding: 0;}#sk-container-id-2 div.sk-toggleable {background-color: white;}#sk-container-id-2 label.sk-toggleable__label {cursor: pointer;display: block;width: 100%;margin-bottom: 0;padding: 0.3em;box-sizing: border-box;text-align: center;}#sk-container-id-2 label.sk-toggleable__label-arrow:before {content: \"▸\";float: left;margin-right: 0.25em;color: #696969;}#sk-container-id-2 label.sk-toggleable__label-arrow:hover:before {color: black;}#sk-container-id-2 div.sk-estimator:hover label.sk-toggleable__label-arrow:before {color: black;}#sk-container-id-2 div.sk-toggleable__content {max-height: 0;max-width: 0;overflow: hidden;text-align: left;background-color: #f0f8ff;}#sk-container-id-2 div.sk-toggleable__content pre {margin: 0.2em;color: black;border-radius: 0.25em;background-color: #f0f8ff;}#sk-container-id-2 input.sk-toggleable__control:checked~div.sk-toggleable__content {max-height: 200px;max-width: 100%;overflow: auto;}#sk-container-id-2 input.sk-toggleable__control:checked~label.sk-toggleable__label-arrow:before {content: \"▾\";}#sk-container-id-2 div.sk-estimator input.sk-toggleable__control:checked~label.sk-toggleable__label {background-color: #d4ebff;}#sk-container-id-2 div.sk-label input.sk-toggleable__control:checked~label.sk-toggleable__label {background-color: #d4ebff;}#sk-container-id-2 input.sk-hidden--visually {border: 0;clip: rect(1px 1px 1px 1px);clip: rect(1px, 1px, 1px, 1px);height: 1px;margin: -1px;overflow: hidden;padding: 0;position: absolute;width: 1px;}#sk-container-id-2 div.sk-estimator {font-family: monospace;background-color: #f0f8ff;border: 1px dotted black;border-radius: 0.25em;box-sizing: border-box;margin-bottom: 0.5em;}#sk-container-id-2 div.sk-estimator:hover {background-color: #d4ebff;}#sk-container-id-2 div.sk-parallel-item::after {content: \"\";width: 100%;border-bottom: 1px solid gray;flex-grow: 1;}#sk-container-id-2 div.sk-label:hover label.sk-toggleable__label {background-color: #d4ebff;}#sk-container-id-2 div.sk-serial::before {content: \"\";position: absolute;border-left: 1px solid gray;box-sizing: border-box;top: 0;bottom: 0;left: 50%;z-index: 0;}#sk-container-id-2 div.sk-serial {display: flex;flex-direction: column;align-items: center;background-color: white;padding-right: 0.2em;padding-left: 0.2em;position: relative;}#sk-container-id-2 div.sk-item {position: relative;z-index: 1;}#sk-container-id-2 div.sk-parallel {display: flex;align-items: stretch;justify-content: center;background-color: white;position: relative;}#sk-container-id-2 div.sk-item::before, #sk-container-id-2 div.sk-parallel-item::before {content: \"\";position: absolute;border-left: 1px solid gray;box-sizing: border-box;top: 0;bottom: 0;left: 50%;z-index: -1;}#sk-container-id-2 div.sk-parallel-item {display: flex;flex-direction: column;z-index: 1;position: relative;background-color: white;}#sk-container-id-2 div.sk-parallel-item:first-child::after {align-self: flex-end;width: 50%;}#sk-container-id-2 div.sk-parallel-item:last-child::after {align-self: flex-start;width: 50%;}#sk-container-id-2 div.sk-parallel-item:only-child::after {width: 0;}#sk-container-id-2 div.sk-dashed-wrapped {border: 1px dashed gray;margin: 0 0.4em 0.5em 0.4em;box-sizing: border-box;padding-bottom: 0.4em;background-color: white;}#sk-container-id-2 div.sk-label label {font-family: monospace;font-weight: bold;display: inline-block;line-height: 1.2em;}#sk-container-id-2 div.sk-label-container {text-align: center;}#sk-container-id-2 div.sk-container {/* jupyter's `normalize.less` sets `[hidden] { display: none; }` but bootstrap.min.css set `[hidden] { display: none !important; }` so we also need the `!important` here to be able to override the default hidden behavior on the sphinx rendered scikit-learn.org. See: https://github.com/scikit-learn/scikit-learn/issues/21755 */display: inline-block !important;position: relative;}#sk-container-id-2 div.sk-text-repr-fallback {display: none;}</style><div id=\"sk-container-id-2\" class=\"sk-top-container\"><div class=\"sk-text-repr-fallback\"><pre>LogisticRegression()</pre><b>In a Jupyter environment, please rerun this cell to show the HTML representation or trust the notebook. <br />On GitHub, the HTML representation is unable to render, please try loading this page with nbviewer.org.</b></div><div class=\"sk-container\" hidden><div class=\"sk-item\"><div class=\"sk-estimator sk-toggleable\"><input class=\"sk-toggleable__control sk-hidden--visually\" id=\"sk-estimator-id-2\" type=\"checkbox\" checked><label for=\"sk-estimator-id-2\" class=\"sk-toggleable__label sk-toggleable__label-arrow\">LogisticRegression</label><div class=\"sk-toggleable__content\"><pre>LogisticRegression()</pre></div></div></div></div></div>"
      ],
      "text/plain": [
       "LogisticRegression()"
      ]
     },
     "execution_count": 10,
     "metadata": {},
     "output_type": "execute_result"
    }
   ],
   "source": [
    "lr.fit(x_train,y_train)\n"
   ]
  },
  {
   "cell_type": "code",
   "execution_count": 11,
   "id": "bafe1256",
   "metadata": {
    "execution": {
     "iopub.execute_input": "2025-07-01T07:51:29.637204Z",
     "iopub.status.busy": "2025-07-01T07:51:29.636860Z",
     "iopub.status.idle": "2025-07-01T07:51:29.649237Z",
     "shell.execute_reply": "2025-07-01T07:51:29.648522Z"
    },
    "papermill": {
     "duration": 0.022101,
     "end_time": "2025-07-01T07:51:29.650974",
     "exception": false,
     "start_time": "2025-07-01T07:51:29.628873",
     "status": "completed"
    },
    "tags": []
   },
   "outputs": [
    {
     "data": {
      "text/plain": [
       "0.8125"
      ]
     },
     "execution_count": 11,
     "metadata": {},
     "output_type": "execute_result"
    }
   ],
   "source": [
    "lr.score(x_test,y_test)"
   ]
  },
  {
   "cell_type": "code",
   "execution_count": 12,
   "id": "2f803284",
   "metadata": {
    "execution": {
     "iopub.execute_input": "2025-07-01T07:51:29.668313Z",
     "iopub.status.busy": "2025-07-01T07:51:29.666437Z",
     "iopub.status.idle": "2025-07-01T07:51:29.675453Z",
     "shell.execute_reply": "2025-07-01T07:51:29.674734Z"
    },
    "papermill": {
     "duration": 0.018812,
     "end_time": "2025-07-01T07:51:29.677144",
     "exception": false,
     "start_time": "2025-07-01T07:51:29.658332",
     "status": "completed"
    },
    "tags": []
   },
   "outputs": [
    {
     "data": {
      "text/plain": [
       "array([[0.19562892]])"
      ]
     },
     "execution_count": 12,
     "metadata": {},
     "output_type": "execute_result"
    }
   ],
   "source": [
    "lr.coef_"
   ]
  },
  {
   "cell_type": "code",
   "execution_count": 13,
   "id": "4157f532",
   "metadata": {
    "execution": {
     "iopub.execute_input": "2025-07-01T07:51:29.694289Z",
     "iopub.status.busy": "2025-07-01T07:51:29.692711Z",
     "iopub.status.idle": "2025-07-01T07:51:29.701188Z",
     "shell.execute_reply": "2025-07-01T07:51:29.700495Z"
    },
    "papermill": {
     "duration": 0.018445,
     "end_time": "2025-07-01T07:51:29.703024",
     "exception": false,
     "start_time": "2025-07-01T07:51:29.684579",
     "status": "completed"
    },
    "tags": []
   },
   "outputs": [
    {
     "data": {
      "text/plain": [
       "array([-8.31215933])"
      ]
     },
     "execution_count": 13,
     "metadata": {},
     "output_type": "execute_result"
    }
   ],
   "source": [
    "lr.intercept_"
   ]
  },
  {
   "cell_type": "code",
   "execution_count": 14,
   "id": "ebd1563c",
   "metadata": {
    "execution": {
     "iopub.execute_input": "2025-07-01T07:51:29.720265Z",
     "iopub.status.busy": "2025-07-01T07:51:29.719879Z",
     "iopub.status.idle": "2025-07-01T07:51:29.732321Z",
     "shell.execute_reply": "2025-07-01T07:51:29.731579Z"
    },
    "papermill": {
     "duration": 0.023603,
     "end_time": "2025-07-01T07:51:29.734146",
     "exception": false,
     "start_time": "2025-07-01T07:51:29.710543",
     "status": "completed"
    },
    "tags": []
   },
   "outputs": [
    {
     "name": "stderr",
     "output_type": "stream",
     "text": [
      "/usr/local/lib/python3.11/dist-packages/sklearn/base.py:439: UserWarning: X does not have valid feature names, but LogisticRegression was fitted with feature names\n",
      "  warnings.warn(\n"
     ]
    },
    {
     "data": {
      "text/plain": [
       "array([0])"
      ]
     },
     "execution_count": 14,
     "metadata": {},
     "output_type": "execute_result"
    }
   ],
   "source": [
    "y_pred= lr.predict([[40]])\n",
    "y_pred"
   ]
  },
  {
   "cell_type": "code",
   "execution_count": 15,
   "id": "01eb5ef9",
   "metadata": {
    "execution": {
     "iopub.execute_input": "2025-07-01T07:51:29.745362Z",
     "iopub.status.busy": "2025-07-01T07:51:29.745035Z",
     "iopub.status.idle": "2025-07-01T07:51:30.723054Z",
     "shell.execute_reply": "2025-07-01T07:51:30.722044Z"
    },
    "papermill": {
     "duration": 0.985318,
     "end_time": "2025-07-01T07:51:30.724870",
     "exception": false,
     "start_time": "2025-07-01T07:51:29.739552",
     "status": "completed"
    },
    "tags": []
   },
   "outputs": [
    {
     "name": "stderr",
     "output_type": "stream",
     "text": [
      "/usr/local/lib/python3.11/dist-packages/seaborn/_oldcore.py:1119: FutureWarning: use_inf_as_na option is deprecated and will be removed in a future version. Convert inf values to NaN before operating instead.\n",
      "  with pd.option_context('mode.use_inf_as_na', True):\n",
      "/usr/local/lib/python3.11/dist-packages/seaborn/_oldcore.py:1119: FutureWarning: use_inf_as_na option is deprecated and will be removed in a future version. Convert inf values to NaN before operating instead.\n",
      "  with pd.option_context('mode.use_inf_as_na', True):\n"
     ]
    },
    {
     "data": {
      "image/png": "[encoded data removed]",
      "text/plain": [
       "<Figure size 640x480 with 1 Axes>"
      ]
     },
     "metadata": {},
     "output_type": "display_data"
    }
   ],
   "source": [
    "sns.scatterplot(x=\"Age\",y=\"Purchased\",data=dataset)\n",
    "sns.lineplot(x=dataset[\"Age\"],y=lr.predict(x),color='red')\n",
    "plt.show()"
   ]
  },
  {
   "cell_type": "code",
   "execution_count": null,
   "id": "234d93ec",
   "metadata": {
    "papermill": {
     "duration": 0.005201,
     "end_time": "2025-07-01T07:51:30.735791",
     "exception": false,
     "start_time": "2025-07-01T07:51:30.730590",
     "status": "completed"
    },
    "tags": []
   },
   "outputs": [],
   "source": []
  }
 ],
 "metadata": {
  "kaggle": {
   "accelerator": "none",
   "dataSources": [
    {
     "datasetId": 3721456,
     "sourceId": 6446810,
     "sourceType": "datasetVersion"
    }
   ],
   "dockerImageVersionId": 31040,
   "isGpuEnabled": false,
   "isInternetEnabled": true,
   "language": "python",
   "sourceType": "notebook"
  },
  "kernelspec": {
   "display_name": "Python 3",
   "language": "python",
   "name": "python3"
  },
  "language_info": {
   "codemirror_mode": {
    "name": "ipython",
    "version": 3
   },
   "file_extension": ".py",
   "mimetype": "text/x-python",
   "name": "python",
   "nbconvert_exporter": "python",
   "pygments_lexer": "ipython3",
   "version": "3.11.11"
  },
  "papermill": {
   "default_parameters": {},
   "duration": 11.279853,
   "end_time": "2025-07-01T07:51:31.461997",
   "environment_variables": {},
   "exception": null,
   "input_path": "__notebook__.ipynb",
   "output_path": "__notebook__.ipynb",
   "parameters": {},
   "start_time": "2025-07-01T07:51:20.182144",
   "version": "2.6.0"
  }
 },
 "nbformat": 4,
 "nbformat_minor": 5
}

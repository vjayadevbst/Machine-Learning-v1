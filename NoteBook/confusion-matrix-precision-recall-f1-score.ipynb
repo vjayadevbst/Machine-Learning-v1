{
 "cells": [
  {
   "cell_type": "markdown",
   "id": "7e49a652",
   "metadata": {
    "papermill": {
     "duration": 0.003932,
     "end_time": "2025-07-01T19:12:09.206238",
     "exception": false,
     "start_time": "2025-07-01T19:12:09.202306",
     "status": "completed"
    },
    "tags": []
   },
   "source": [
    "# 📊 Classification Metrics: Confusion Matrix, Precision, Recall, F1 Score\n",
    "\n",
    "---\n",
    "\n",
    "## ✅ 1. Confusion Matrix\n",
    "\n",
    "A **confusion matrix** is a table used to evaluate the performance of a classification algorithm.\n",
    "\n",
    "For a binary classification problem:\n",
    "\n",
    "|                   | **Predicted Positive** | **Predicted Negative** |\n",
    "|-------------------|------------------------|------------------------|\n",
    "| **Actual Positive** | True Positive (TP)      | False Negative (FN)     |\n",
    "| **Actual Negative** | False Positive (FP)     | True Negative (TN)      |\n",
    "\n",
    "### Key Terms:\n",
    "- **True Positive (TP)**: Model correctly predicted the positive class.\n",
    "- **False Positive (FP)**: Model incorrectly predicted positive class (Type I error).\n",
    "- **False Negative (FN)**: Model incorrectly predicted negative class (Type II error).\n",
    "- **True Negative (TN)**: Model correctly predicted the negative class.\n",
    "\n",
    "---\n",
    "\n",
    "## 🎯 2. Precision\n",
    "\n",
    "**Precision** measures how many of the predicted positives are truly positive.\n",
    "\n",
    "\\[\n",
    "\\text{Precision} = \\frac{TP}{TP + FP}\n",
    "\\]\n",
    "\n",
    "- High precision means **low false positive rate**.\n",
    "- Important in use-cases like **spam detection** or **fraud detection**.\n",
    "\n",
    "---\n",
    "\n",
    "## 📥 3. Recall (Sensitivity / True Positive Rate)\n",
    "\n",
    "**Recall** measures how many of the actual positives are correctly predicted.\n",
    "\n",
    "\\[\n",
    "\\text{Recall} = \\frac{TP}{TP + FN}\n",
    "\\]\n",
    "\n",
    "- High recall means **low false negative rate**.\n",
    "- Important in scenarios like **disease detection** where missing positives is costly.\n",
    "\n",
    "---\n",
    "\n",
    "## ⚖️ 4. F1 Score\n",
    "\n",
    "The **F1 Score** is the **harmonic mean** of Precision and Recall. It balances the trade-off between the two.\n",
    "\n",
    "\\[\n",
    "\\text{F1 Score} = 2 \\times \\frac{Precision \\times Recall}{Precision + Recall}\n",
    "\\]\n",
    "\n",
    "- Best when you want to balance **precision and recall**.\n",
    "- Useful when classes are **imbalanced**.\n",
    "\n",
    "---\n",
    "\n",
    "## 🔍 Example\n",
    "\n",
    "Suppose a model makes predictions with the following confusion matrix:\n",
    "\n",
    "|                   | Predicted Positive | Predicted Negative |\n",
    "|-------------------|--------------------|--------------------|\n",
    "| Actual Positive   | TP = 70            | FN = 30            |\n",
    "| Actual Negative   | FP = 10            | TN = 90            |\n",
    "\n",
    "- **Precision** = 70 / (70 + 10) = 0.875\n",
    "- **Recall** = 70 / (70 + 30) = 0.70\n",
    "- **F1 Score** = 2 × (0.875 × 0.70) / (0.875 + 0.70) ≈ 0.778\n",
    "\n",
    "---\n",
    "\n",
    "## ✅ Summary Table\n",
    "\n",
    "| Metric     | Formula                              | Focus                         |\n",
    "|------------|---------------------------------------|-------------------------------|\n",
    "| Precision  | TP / (TP + FP)                        | How accurate are positive predictions? |\n",
    "| Recall     | TP / (TP + FN)                        | How many actual positives were captured? |\n",
    "| F1 Score   | 2 × (Precision × Recall) / (Precision + Recall) | Balance between precision & recall |\n",
    "\n",
    "---\n",
    "\n",
    "## 📌 Tip\n",
    "\n",
    "Use:\n",
    "- **Precision** when false positives are costly\n",
    "- **Recall** when false negatives are costly\n",
    "- **F1 Score** for a balance or when dealing with **imbalanced classes**\n"
   ]
  },
  {
   "cell_type": "code",
   "execution_count": 1,
   "id": "11eaf2fc",
   "metadata": {
    "_cell_guid": "b1076dfc-b9ad-4769-8c92-a6c4dae69d19",
    "_uuid": "8f2839f25d086af736a60e9eeb907d3b93b6e0e5",
    "execution": {
     "iopub.execute_input": "2025-07-01T19:12:09.214859Z",
     "iopub.status.busy": "2025-07-01T19:12:09.214268Z",
     "iopub.status.idle": "2025-07-01T19:12:11.246062Z",
     "shell.execute_reply": "2025-07-01T19:12:11.244845Z"
    },
    "papermill": {
     "duration": 2.037916,
     "end_time": "2025-07-01T19:12:11.247846",
     "exception": false,
     "start_time": "2025-07-01T19:12:09.209930",
     "status": "completed"
    },
    "tags": []
   },
   "outputs": [
    {
     "name": "stdout",
     "output_type": "stream",
     "text": [
      "/kaggle/input/college-placement/placement-dataset.csv\n"
     ]
    }
   ],
   "source": [
    "# This Python 3 environment comes with many helpful analytics libraries installed\n",
    "# It is defined by the kaggle/python Docker image: https://github.com/kaggle/docker-python\n",
    "# For example, here's several helpful packages to load\n",
    "\n",
    "import numpy as np # linear algebra\n",
    "import pandas as pd # data processing, CSV file I/O (e.g. pd.read_csv)\n",
    "\n",
    "# Input data files are available in the read-only \"../input/\" directory\n",
    "# For example, running this (by clicking run or pressing Shift+Enter) will list all files under the input directory\n",
    "\n",
    "import os\n",
    "for dirname, _, filenames in os.walk('/kaggle/input'):\n",
    "    for filename in filenames:\n",
    "        print(os.path.join(dirname, filename))\n",
    "\n",
    "# You can write up to 20GB to the current directory (/kaggle/working/) that gets preserved as output when you create a version using \"Save & Run All\" \n",
    "# You can also write temporary files to /kaggle/temp/, but they won't be saved outside of the current session"
   ]
  },
  {
   "cell_type": "code",
   "execution_count": 2,
   "id": "1600864c",
   "metadata": {
    "execution": {
     "iopub.execute_input": "2025-07-01T19:12:11.256199Z",
     "iopub.status.busy": "2025-07-01T19:12:11.255721Z",
     "iopub.status.idle": "2025-07-01T19:12:13.344970Z",
     "shell.execute_reply": "2025-07-01T19:12:13.343550Z"
    },
    "papermill": {
     "duration": 2.095816,
     "end_time": "2025-07-01T19:12:13.347244",
     "exception": false,
     "start_time": "2025-07-01T19:12:11.251428",
     "status": "completed"
    },
    "tags": []
   },
   "outputs": [],
   "source": [
    "import seaborn as sns\n",
    "import matplotlib.pyplot as plt "
   ]
  },
  {
   "cell_type": "code",
   "execution_count": 3,
   "id": "8bd0c7c0",
   "metadata": {
    "execution": {
     "iopub.execute_input": "2025-07-01T19:12:13.360354Z",
     "iopub.status.busy": "2025-07-01T19:12:13.359847Z",
     "iopub.status.idle": "2025-07-01T19:12:13.414577Z",
     "shell.execute_reply": "2025-07-01T19:12:13.413453Z"
    },
    "papermill": {
     "duration": 0.063419,
     "end_time": "2025-07-01T19:12:13.416761",
     "exception": false,
     "start_time": "2025-07-01T19:12:13.353342",
     "status": "completed"
    },
    "tags": []
   },
   "outputs": [
    {
     "data": {
      "text/html": [
       "<div>\n",
       "<style scoped>\n",
       "    .dataframe tbody tr th:only-of-type {\n",
       "        vertical-align: middle;\n",
       "    }\n",
       "\n",
       "    .dataframe tbody tr th {\n",
       "        vertical-align: top;\n",
       "    }\n",
       "\n",
       "    .dataframe thead th {\n",
       "        text-align: right;\n",
       "    }\n",
       "</style>\n",
       "<table border=\"1\" class=\"dataframe\">\n",
       "  <thead>\n",
       "    <tr style=\"text-align: right;\">\n",
       "      <th></th>\n",
       "      <th>Unnamed: 0</th>\n",
       "      <th>cgpa</th>\n",
       "      <th>iq</th>\n",
       "      <th>placement</th>\n",
       "    </tr>\n",
       "  </thead>\n",
       "  <tbody>\n",
       "    <tr>\n",
       "      <th>0</th>\n",
       "      <td>0</td>\n",
       "      <td>6.8</td>\n",
       "      <td>123.0</td>\n",
       "      <td>1</td>\n",
       "    </tr>\n",
       "    <tr>\n",
       "      <th>1</th>\n",
       "      <td>1</td>\n",
       "      <td>5.9</td>\n",
       "      <td>106.0</td>\n",
       "      <td>0</td>\n",
       "    </tr>\n",
       "    <tr>\n",
       "      <th>2</th>\n",
       "      <td>2</td>\n",
       "      <td>5.3</td>\n",
       "      <td>121.0</td>\n",
       "      <td>0</td>\n",
       "    </tr>\n",
       "    <tr>\n",
       "      <th>3</th>\n",
       "      <td>3</td>\n",
       "      <td>7.4</td>\n",
       "      <td>132.0</td>\n",
       "      <td>1</td>\n",
       "    </tr>\n",
       "    <tr>\n",
       "      <th>4</th>\n",
       "      <td>4</td>\n",
       "      <td>5.8</td>\n",
       "      <td>142.0</td>\n",
       "      <td>0</td>\n",
       "    </tr>\n",
       "    <tr>\n",
       "      <th>...</th>\n",
       "      <td>...</td>\n",
       "      <td>...</td>\n",
       "      <td>...</td>\n",
       "      <td>...</td>\n",
       "    </tr>\n",
       "    <tr>\n",
       "      <th>95</th>\n",
       "      <td>95</td>\n",
       "      <td>4.3</td>\n",
       "      <td>200.0</td>\n",
       "      <td>0</td>\n",
       "    </tr>\n",
       "    <tr>\n",
       "      <th>96</th>\n",
       "      <td>96</td>\n",
       "      <td>4.4</td>\n",
       "      <td>42.0</td>\n",
       "      <td>0</td>\n",
       "    </tr>\n",
       "    <tr>\n",
       "      <th>97</th>\n",
       "      <td>97</td>\n",
       "      <td>6.7</td>\n",
       "      <td>182.0</td>\n",
       "      <td>1</td>\n",
       "    </tr>\n",
       "    <tr>\n",
       "      <th>98</th>\n",
       "      <td>98</td>\n",
       "      <td>6.3</td>\n",
       "      <td>103.0</td>\n",
       "      <td>1</td>\n",
       "    </tr>\n",
       "    <tr>\n",
       "      <th>99</th>\n",
       "      <td>99</td>\n",
       "      <td>6.2</td>\n",
       "      <td>113.0</td>\n",
       "      <td>1</td>\n",
       "    </tr>\n",
       "  </tbody>\n",
       "</table>\n",
       "<p>100 rows × 4 columns</p>\n",
       "</div>"
      ],
      "text/plain": [
       "    Unnamed: 0  cgpa     iq  placement\n",
       "0            0   6.8  123.0          1\n",
       "1            1   5.9  106.0          0\n",
       "2            2   5.3  121.0          0\n",
       "3            3   7.4  132.0          1\n",
       "4            4   5.8  142.0          0\n",
       "..         ...   ...    ...        ...\n",
       "95          95   4.3  200.0          0\n",
       "96          96   4.4   42.0          0\n",
       "97          97   6.7  182.0          1\n",
       "98          98   6.3  103.0          1\n",
       "99          99   6.2  113.0          1\n",
       "\n",
       "[100 rows x 4 columns]"
      ]
     },
     "execution_count": 3,
     "metadata": {},
     "output_type": "execute_result"
    }
   ],
   "source": [
    "dataset = pd.read_csv(r\"/kaggle/input/college-placement/placement-dataset.csv\")\n",
    "dataset"
   ]
  },
  {
   "cell_type": "code",
   "execution_count": 4,
   "id": "5c8e27ea",
   "metadata": {
    "execution": {
     "iopub.execute_input": "2025-07-01T19:12:13.430699Z",
     "iopub.status.busy": "2025-07-01T19:12:13.430300Z",
     "iopub.status.idle": "2025-07-01T19:12:13.439814Z",
     "shell.execute_reply": "2025-07-01T19:12:13.438857Z"
    },
    "papermill": {
     "duration": 0.018756,
     "end_time": "2025-07-01T19:12:13.441803",
     "exception": false,
     "start_time": "2025-07-01T19:12:13.423047",
     "status": "completed"
    },
    "tags": []
   },
   "outputs": [],
   "source": [
    "x = dataset.iloc[:,:-1]\n",
    "y = dataset[\"placement\"]"
   ]
  },
  {
   "cell_type": "code",
   "execution_count": 5,
   "id": "7a0e76b1",
   "metadata": {
    "execution": {
     "iopub.execute_input": "2025-07-01T19:12:13.450563Z",
     "iopub.status.busy": "2025-07-01T19:12:13.450251Z",
     "iopub.status.idle": "2025-07-01T19:12:13.762242Z",
     "shell.execute_reply": "2025-07-01T19:12:13.761169Z"
    },
    "papermill": {
     "duration": 0.318553,
     "end_time": "2025-07-01T19:12:13.764296",
     "exception": false,
     "start_time": "2025-07-01T19:12:13.445743",
     "status": "completed"
    },
    "tags": []
   },
   "outputs": [],
   "source": [
    "from sklearn.model_selection import train_test_split"
   ]
  },
  {
   "cell_type": "code",
   "execution_count": 6,
   "id": "2610a338",
   "metadata": {
    "execution": {
     "iopub.execute_input": "2025-07-01T19:12:13.773809Z",
     "iopub.status.busy": "2025-07-01T19:12:13.772892Z",
     "iopub.status.idle": "2025-07-01T19:12:13.781072Z",
     "shell.execute_reply": "2025-07-01T19:12:13.780125Z"
    },
    "papermill": {
     "duration": 0.014874,
     "end_time": "2025-07-01T19:12:13.783067",
     "exception": false,
     "start_time": "2025-07-01T19:12:13.768193",
     "status": "completed"
    },
    "tags": []
   },
   "outputs": [],
   "source": [
    "x_train,x_test,y_train,y_test = train_test_split(x,y,test_size=0.2,random_state=42)"
   ]
  },
  {
   "cell_type": "code",
   "execution_count": 7,
   "id": "309faa87",
   "metadata": {
    "execution": {
     "iopub.execute_input": "2025-07-01T19:12:13.793295Z",
     "iopub.status.busy": "2025-07-01T19:12:13.792867Z",
     "iopub.status.idle": "2025-07-01T19:12:14.134534Z",
     "shell.execute_reply": "2025-07-01T19:12:14.131281Z"
    },
    "papermill": {
     "duration": 0.349016,
     "end_time": "2025-07-01T19:12:14.136640",
     "exception": false,
     "start_time": "2025-07-01T19:12:13.787624",
     "status": "completed"
    },
    "tags": []
   },
   "outputs": [
    {
     "data": {
      "text/html": [
       "<style>#sk-container-id-1 {color: black;background-color: white;}#sk-container-id-1 pre{padding: 0;}#sk-container-id-1 div.sk-toggleable {background-color: white;}#sk-container-id-1 label.sk-toggleable__label {cursor: pointer;display: block;width: 100%;margin-bottom: 0;padding: 0.3em;box-sizing: border-box;text-align: center;}#sk-container-id-1 label.sk-toggleable__label-arrow:before {content: \"▸\";float: left;margin-right: 0.25em;color: #696969;}#sk-container-id-1 label.sk-toggleable__label-arrow:hover:before {color: black;}#sk-container-id-1 div.sk-estimator:hover label.sk-toggleable__label-arrow:before {color: black;}#sk-container-id-1 div.sk-toggleable__content {max-height: 0;max-width: 0;overflow: hidden;text-align: left;background-color: #f0f8ff;}#sk-container-id-1 div.sk-toggleable__content pre {margin: 0.2em;color: black;border-radius: 0.25em;background-color: #f0f8ff;}#sk-container-id-1 input.sk-toggleable__control:checked~div.sk-toggleable__content {max-height: 200px;max-width: 100%;overflow: auto;}#sk-container-id-1 input.sk-toggleable__control:checked~label.sk-toggleable__label-arrow:before {content: \"▾\";}#sk-container-id-1 div.sk-estimator input.sk-toggleable__control:checked~label.sk-toggleable__label {background-color: #d4ebff;}#sk-container-id-1 div.sk-label input.sk-toggleable__control:checked~label.sk-toggleable__label {background-color: #d4ebff;}#sk-container-id-1 input.sk-hidden--visually {border: 0;clip: rect(1px 1px 1px 1px);clip: rect(1px, 1px, 1px, 1px);height: 1px;margin: -1px;overflow: hidden;padding: 0;position: absolute;width: 1px;}#sk-container-id-1 div.sk-estimator {font-family: monospace;background-color: #f0f8ff;border: 1px dotted black;border-radius: 0.25em;box-sizing: border-box;margin-bottom: 0.5em;}#sk-container-id-1 div.sk-estimator:hover {background-color: #d4ebff;}#sk-container-id-1 div.sk-parallel-item::after {content: \"\";width: 100%;border-bottom: 1px solid gray;flex-grow: 1;}#sk-container-id-1 div.sk-label:hover label.sk-toggleable__label {background-color: #d4ebff;}#sk-container-id-1 div.sk-serial::before {content: \"\";position: absolute;border-left: 1px solid gray;box-sizing: border-box;top: 0;bottom: 0;left: 50%;z-index: 0;}#sk-container-id-1 div.sk-serial {display: flex;flex-direction: column;align-items: center;background-color: white;padding-right: 0.2em;padding-left: 0.2em;position: relative;}#sk-container-id-1 div.sk-item {position: relative;z-index: 1;}#sk-container-id-1 div.sk-parallel {display: flex;align-items: stretch;justify-content: center;background-color: white;position: relative;}#sk-container-id-1 div.sk-item::before, #sk-container-id-1 div.sk-parallel-item::before {content: \"\";position: absolute;border-left: 1px solid gray;box-sizing: border-box;top: 0;bottom: 0;left: 50%;z-index: -1;}#sk-container-id-1 div.sk-parallel-item {display: flex;flex-direction: column;z-index: 1;position: relative;background-color: white;}#sk-container-id-1 div.sk-parallel-item:first-child::after {align-self: flex-end;width: 50%;}#sk-container-id-1 div.sk-parallel-item:last-child::after {align-self: flex-start;width: 50%;}#sk-container-id-1 div.sk-parallel-item:only-child::after {width: 0;}#sk-container-id-1 div.sk-dashed-wrapped {border: 1px dashed gray;margin: 0 0.4em 0.5em 0.4em;box-sizing: border-box;padding-bottom: 0.4em;background-color: white;}#sk-container-id-1 div.sk-label label {font-family: monospace;font-weight: bold;display: inline-block;line-height: 1.2em;}#sk-container-id-1 div.sk-label-container {text-align: center;}#sk-container-id-1 div.sk-container {/* jupyter's `normalize.less` sets `[hidden] { display: none; }` but bootstrap.min.css set `[hidden] { display: none !important; }` so we also need the `!important` here to be able to override the default hidden behavior on the sphinx rendered scikit-learn.org. See: https://github.com/scikit-learn/scikit-learn/issues/21755 */display: inline-block !important;position: relative;}#sk-container-id-1 div.sk-text-repr-fallback {display: none;}</style><div id=\"sk-container-id-1\" class=\"sk-top-container\"><div class=\"sk-text-repr-fallback\"><pre>LogisticRegression()</pre><b>In a Jupyter environment, please rerun this cell to show the HTML representation or trust the notebook. <br />On GitHub, the HTML representation is unable to render, please try loading this page with nbviewer.org.</b></div><div class=\"sk-container\" hidden><div class=\"sk-item\"><div class=\"sk-estimator sk-toggleable\"><input class=\"sk-toggleable__control sk-hidden--visually\" id=\"sk-estimator-id-1\" type=\"checkbox\" checked><label for=\"sk-estimator-id-1\" class=\"sk-toggleable__label sk-toggleable__label-arrow\">LogisticRegression</label><div class=\"sk-toggleable__content\"><pre>LogisticRegression()</pre></div></div></div></div></div>"
      ],
      "text/plain": [
       "LogisticRegression()"
      ]
     },
     "execution_count": 7,
     "metadata": {},
     "output_type": "execute_result"
    }
   ],
   "source": [
    "from sklearn.linear_model import LogisticRegression\n",
    "lr = LogisticRegression()\n",
    "lr.fit(x_train,y_train)"
   ]
  },
  {
   "cell_type": "code",
   "execution_count": 8,
   "id": "a3b41232",
   "metadata": {
    "execution": {
     "iopub.execute_input": "2025-07-01T19:12:14.166988Z",
     "iopub.status.busy": "2025-07-01T19:12:14.166057Z",
     "iopub.status.idle": "2025-07-01T19:12:14.177900Z",
     "shell.execute_reply": "2025-07-01T19:12:14.177171Z"
    },
    "papermill": {
     "duration": 0.02773,
     "end_time": "2025-07-01T19:12:14.180099",
     "exception": false,
     "start_time": "2025-07-01T19:12:14.152369",
     "status": "completed"
    },
    "tags": []
   },
   "outputs": [
    {
     "data": {
      "text/plain": [
       "90.0"
      ]
     },
     "execution_count": 8,
     "metadata": {},
     "output_type": "execute_result"
    }
   ],
   "source": [
    "lr.score(x_test,y_test)*100"
   ]
  },
  {
   "cell_type": "code",
   "execution_count": 9,
   "id": "185356e4",
   "metadata": {
    "execution": {
     "iopub.execute_input": "2025-07-01T19:12:14.210947Z",
     "iopub.status.busy": "2025-07-01T19:12:14.210533Z",
     "iopub.status.idle": "2025-07-01T19:12:14.218692Z",
     "shell.execute_reply": "2025-07-01T19:12:14.217952Z"
    },
    "papermill": {
     "duration": 0.026525,
     "end_time": "2025-07-01T19:12:14.220554",
     "exception": false,
     "start_time": "2025-07-01T19:12:14.194029",
     "status": "completed"
    },
    "tags": []
   },
   "outputs": [],
   "source": [
    "from sklearn.metrics import confusion_matrix,precision_score,recall_score,f1_score"
   ]
  },
  {
   "cell_type": "code",
   "execution_count": 10,
   "id": "552f2a3b",
   "metadata": {
    "execution": {
     "iopub.execute_input": "2025-07-01T19:12:14.236267Z",
     "iopub.status.busy": "2025-07-01T19:12:14.235930Z",
     "iopub.status.idle": "2025-07-01T19:12:14.244686Z",
     "shell.execute_reply": "2025-07-01T19:12:14.244117Z"
    },
    "papermill": {
     "duration": 0.014936,
     "end_time": "2025-07-01T19:12:14.246166",
     "exception": false,
     "start_time": "2025-07-01T19:12:14.231230",
     "status": "completed"
    },
    "tags": []
   },
   "outputs": [],
   "source": [
    "cf = confusion_matrix(y_test,lr.predict(x_test))"
   ]
  },
  {
   "cell_type": "code",
   "execution_count": 11,
   "id": "52f519cb",
   "metadata": {
    "execution": {
     "iopub.execute_input": "2025-07-01T19:12:14.255027Z",
     "iopub.status.busy": "2025-07-01T19:12:14.254751Z",
     "iopub.status.idle": "2025-07-01T19:12:14.498284Z",
     "shell.execute_reply": "2025-07-01T19:12:14.497176Z"
    },
    "papermill": {
     "duration": 0.249986,
     "end_time": "2025-07-01T19:12:14.499976",
     "exception": false,
     "start_time": "2025-07-01T19:12:14.249990",
     "status": "completed"
    },
    "tags": []
   },
   "outputs": [
    {
     "data": {
      "image/png": "[encoded data removed]",
      "text/plain": [
       "<Figure size 640x480 with 2 Axes>"
      ]
     },
     "metadata": {},
     "output_type": "display_data"
    }
   ],
   "source": [
    "sns.heatmap(cf,annot=True)\n",
    "plt.show()"
   ]
  },
  {
   "cell_type": "code",
   "execution_count": 12,
   "id": "c098a732",
   "metadata": {
    "execution": {
     "iopub.execute_input": "2025-07-01T19:12:14.510029Z",
     "iopub.status.busy": "2025-07-01T19:12:14.509207Z",
     "iopub.status.idle": "2025-07-01T19:12:14.522237Z",
     "shell.execute_reply": "2025-07-01T19:12:14.521174Z"
    },
    "papermill": {
     "duration": 0.019725,
     "end_time": "2025-07-01T19:12:14.523807",
     "exception": false,
     "start_time": "2025-07-01T19:12:14.504082",
     "status": "completed"
    },
    "tags": []
   },
   "outputs": [
    {
     "data": {
      "text/plain": [
       "100.0"
      ]
     },
     "execution_count": 12,
     "metadata": {},
     "output_type": "execute_result"
    }
   ],
   "source": [
    "precision_score(y_test,lr.predict(x_test))*100"
   ]
  },
  {
   "cell_type": "code",
   "execution_count": 13,
   "id": "6b3f7da1",
   "metadata": {
    "execution": {
     "iopub.execute_input": "2025-07-01T19:12:14.534382Z",
     "iopub.status.busy": "2025-07-01T19:12:14.533643Z",
     "iopub.status.idle": "2025-07-01T19:12:14.546019Z",
     "shell.execute_reply": "2025-07-01T19:12:14.545147Z"
    },
    "papermill": {
     "duration": 0.019474,
     "end_time": "2025-07-01T19:12:14.547934",
     "exception": false,
     "start_time": "2025-07-01T19:12:14.528460",
     "status": "completed"
    },
    "tags": []
   },
   "outputs": [
    {
     "data": {
      "text/plain": [
       "80.0"
      ]
     },
     "execution_count": 13,
     "metadata": {},
     "output_type": "execute_result"
    }
   ],
   "source": [
    "recall_score(y_test,lr.predict(x_test))*100"
   ]
  },
  {
   "cell_type": "code",
   "execution_count": 14,
   "id": "b966cee0",
   "metadata": {
    "execution": {
     "iopub.execute_input": "2025-07-01T19:12:14.562495Z",
     "iopub.status.busy": "2025-07-01T19:12:14.562176Z",
     "iopub.status.idle": "2025-07-01T19:12:14.574532Z",
     "shell.execute_reply": "2025-07-01T19:12:14.573394Z"
    },
    "papermill": {
     "duration": 0.021273,
     "end_time": "2025-07-01T19:12:14.576462",
     "exception": false,
     "start_time": "2025-07-01T19:12:14.555189",
     "status": "completed"
    },
    "tags": []
   },
   "outputs": [
    {
     "data": {
      "text/plain": [
       "88.8888888888889"
      ]
     },
     "execution_count": 14,
     "metadata": {},
     "output_type": "execute_result"
    }
   ],
   "source": [
    "f1_score(y_test,lr.predict(x_test))*100"
   ]
  }
 ],
 "metadata": {
  "kaggle": {
   "accelerator": "none",
   "dataSources": [
    {
     "datasetId": 4233528,
     "sourceId": 7298157,
     "sourceType": "datasetVersion"
    }
   ],
   "dockerImageVersionId": 31040,
   "isGpuEnabled": false,
   "isInternetEnabled": true,
   "language": "python",
   "sourceType": "notebook"
  },
  "kernelspec": {
   "display_name": "Python 3",
   "language": "python",
   "name": "python3"
  },
  "language_info": {
   "codemirror_mode": {
    "name": "ipython",
    "version": 3
   },
   "file_extension": ".py",
   "mimetype": "text/x-python",
   "name": "python",
   "nbconvert_exporter": "python",
   "pygments_lexer": "ipython3",
   "version": "3.11.11"
  },
  "papermill": {
   "default_parameters": {},
   "duration": 11.101584,
   "end_time": "2025-07-01T19:12:15.306345",
   "environment_variables": {},
   "exception": null,
   "input_path": "__notebook__.ipynb",
   "output_path": "__notebook__.ipynb",
   "parameters": {},
   "start_time": "2025-07-01T19:12:04.204761",
   "version": "2.6.0"
  }
 },
 "nbformat": 4,
 "nbformat_minor": 5
}

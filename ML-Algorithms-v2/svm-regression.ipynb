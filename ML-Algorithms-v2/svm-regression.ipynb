{
 "cells": [
  {
   "cell_type": "code",
   "execution_count": 1,
   "id": "853b93ad",
   "metadata": {
    "_cell_guid": "b1076dfc-b9ad-4769-8c92-a6c4dae69d19",
    "_uuid": "8f2839f25d086af736a60e9eeb907d3b93b6e0e5",
    "execution": {
     "iopub.execute_input": "2025-07-18T02:28:35.722840Z",
     "iopub.status.busy": "2025-07-18T02:28:35.721843Z",
     "iopub.status.idle": "2025-07-18T02:28:37.837420Z",
     "shell.execute_reply": "2025-07-18T02:28:37.836115Z"
    },
    "papermill": {
     "duration": 2.123548,
     "end_time": "2025-07-18T02:28:37.839775",
     "exception": false,
     "start_time": "2025-07-18T02:28:35.716227",
     "status": "completed"
    },
    "tags": []
   },
   "outputs": [
    {
     "name": "stdout",
     "output_type": "stream",
     "text": [
      "/kaggle/input/cgpa-vs-package-in-lpa/placement.csv\n"
     ]
    }
   ],
   "source": [
    "# This Python 3 environment comes with many helpful analytics libraries installed\n",
    "# It is defined by the kaggle/python Docker image: https://github.com/kaggle/docker-python\n",
    "# For example, here's several helpful packages to load\n",
    "\n",
    "import numpy as np # linear algebra\n",
    "import pandas as pd # data processing, CSV file I/O (e.g. pd.read_csv)\n",
    "\n",
    "# Input data files are available in the read-only \"../input/\" directory\n",
    "# For example, running this (by clicking run or pressing Shift+Enter) will list all files under the input directory\n",
    "\n",
    "import os\n",
    "for dirname, _, filenames in os.walk('/kaggle/input'):\n",
    "    for filename in filenames:\n",
    "        print(os.path.join(dirname, filename))\n",
    "\n",
    "# You can write up to 20GB to the current directory (/kaggle/working/) that gets preserved as output when you create a version using \"Save & Run All\" \n",
    "# You can also write temporary files to /kaggle/temp/, but they won't be saved outside of the current session"
   ]
  },
  {
   "cell_type": "code",
   "execution_count": 2,
   "id": "d622a142",
   "metadata": {
    "execution": {
     "iopub.execute_input": "2025-07-18T02:28:37.848962Z",
     "iopub.status.busy": "2025-07-18T02:28:37.848475Z",
     "iopub.status.idle": "2025-07-18T02:28:39.942668Z",
     "shell.execute_reply": "2025-07-18T02:28:39.941692Z"
    },
    "papermill": {
     "duration": 2.100671,
     "end_time": "2025-07-18T02:28:39.944484",
     "exception": false,
     "start_time": "2025-07-18T02:28:37.843813",
     "status": "completed"
    },
    "tags": []
   },
   "outputs": [],
   "source": [
    "import pandas as pd\n",
    "import seaborn as sns\n",
    "import matplotlib.pyplot as plt \n"
   ]
  },
  {
   "cell_type": "code",
   "execution_count": 3,
   "id": "5d057ec8",
   "metadata": {
    "execution": {
     "iopub.execute_input": "2025-07-18T02:28:39.953038Z",
     "iopub.status.busy": "2025-07-18T02:28:39.952542Z",
     "iopub.status.idle": "2025-07-18T02:28:39.989893Z",
     "shell.execute_reply": "2025-07-18T02:28:39.988942Z"
    },
    "papermill": {
     "duration": 0.043183,
     "end_time": "2025-07-18T02:28:39.991444",
     "exception": false,
     "start_time": "2025-07-18T02:28:39.948261",
     "status": "completed"
    },
    "tags": []
   },
   "outputs": [
    {
     "data": {
      "text/html": [
       "<div>\n",
       "<style scoped>\n",
       "    .dataframe tbody tr th:only-of-type {\n",
       "        vertical-align: middle;\n",
       "    }\n",
       "\n",
       "    .dataframe tbody tr th {\n",
       "        vertical-align: top;\n",
       "    }\n",
       "\n",
       "    .dataframe thead th {\n",
       "        text-align: right;\n",
       "    }\n",
       "</style>\n",
       "<table border=\"1\" class=\"dataframe\">\n",
       "  <thead>\n",
       "    <tr style=\"text-align: right;\">\n",
       "      <th></th>\n",
       "      <th>cgpa</th>\n",
       "      <th>package</th>\n",
       "    </tr>\n",
       "  </thead>\n",
       "  <tbody>\n",
       "    <tr>\n",
       "      <th>0</th>\n",
       "      <td>6.89</td>\n",
       "      <td>3.26</td>\n",
       "    </tr>\n",
       "    <tr>\n",
       "      <th>1</th>\n",
       "      <td>5.12</td>\n",
       "      <td>1.98</td>\n",
       "    </tr>\n",
       "    <tr>\n",
       "      <th>2</th>\n",
       "      <td>7.82</td>\n",
       "      <td>3.25</td>\n",
       "    </tr>\n",
       "  </tbody>\n",
       "</table>\n",
       "</div>"
      ],
      "text/plain": [
       "   cgpa  package\n",
       "0  6.89     3.26\n",
       "1  5.12     1.98\n",
       "2  7.82     3.25"
      ]
     },
     "execution_count": 3,
     "metadata": {},
     "output_type": "execute_result"
    }
   ],
   "source": [
    "dataset = pd.read_csv(\"/kaggle/input/cgpa-vs-package-in-lpa/placement.csv\")\n",
    "dataset.head(3)"
   ]
  },
  {
   "cell_type": "code",
   "execution_count": 4,
   "id": "2f9c7b2e",
   "metadata": {
    "execution": {
     "iopub.execute_input": "2025-07-18T02:28:40.000585Z",
     "iopub.status.busy": "2025-07-18T02:28:39.999494Z",
     "iopub.status.idle": "2025-07-18T02:28:40.007102Z",
     "shell.execute_reply": "2025-07-18T02:28:40.006120Z"
    },
    "papermill": {
     "duration": 0.013628,
     "end_time": "2025-07-18T02:28:40.008590",
     "exception": false,
     "start_time": "2025-07-18T02:28:39.994962",
     "status": "completed"
    },
    "tags": []
   },
   "outputs": [
    {
     "data": {
      "text/plain": [
       "cgpa       0\n",
       "package    0\n",
       "dtype: int64"
      ]
     },
     "execution_count": 4,
     "metadata": {},
     "output_type": "execute_result"
    }
   ],
   "source": [
    "dataset.isnull().sum()"
   ]
  },
  {
   "cell_type": "code",
   "execution_count": 5,
   "id": "b4be8c21",
   "metadata": {
    "execution": {
     "iopub.execute_input": "2025-07-18T02:28:40.016924Z",
     "iopub.status.busy": "2025-07-18T02:28:40.016537Z",
     "iopub.status.idle": "2025-07-18T02:28:40.022781Z",
     "shell.execute_reply": "2025-07-18T02:28:40.021867Z"
    },
    "papermill": {
     "duration": 0.012182,
     "end_time": "2025-07-18T02:28:40.024432",
     "exception": false,
     "start_time": "2025-07-18T02:28:40.012250",
     "status": "completed"
    },
    "tags": []
   },
   "outputs": [],
   "source": [
    "dataset.dropna(inplace=True)"
   ]
  },
  {
   "cell_type": "code",
   "execution_count": 6,
   "id": "4392cc88",
   "metadata": {
    "execution": {
     "iopub.execute_input": "2025-07-18T02:28:40.032455Z",
     "iopub.status.busy": "2025-07-18T02:28:40.032151Z",
     "iopub.status.idle": "2025-07-18T02:28:40.485264Z",
     "shell.execute_reply": "2025-07-18T02:28:40.484369Z"
    },
    "papermill": {
     "duration": 0.459275,
     "end_time": "2025-07-18T02:28:40.487273",
     "exception": false,
     "start_time": "2025-07-18T02:28:40.027998",
     "status": "completed"
    },
    "tags": []
   },
   "outputs": [
    {
     "data": {
      "text/plain": [
       "<Axes: xlabel='cgpa', ylabel='package'>"
      ]
     },
     "execution_count": 6,
     "metadata": {},
     "output_type": "execute_result"
    },
    {
     "data": {
      "image/png": "[encoded data removed]",
      "text/plain": [
       "<Figure size 640x480 with 1 Axes>"
      ]
     },
     "metadata": {},
     "output_type": "display_data"
    }
   ],
   "source": [
    "sns.scatterplot(x=\"cgpa\",y=\"package\",data=dataset)"
   ]
  },
  {
   "cell_type": "code",
   "execution_count": 7,
   "id": "f3fbe9da",
   "metadata": {
    "execution": {
     "iopub.execute_input": "2025-07-18T02:28:40.497028Z",
     "iopub.status.busy": "2025-07-18T02:28:40.496646Z",
     "iopub.status.idle": "2025-07-18T02:28:40.505342Z",
     "shell.execute_reply": "2025-07-18T02:28:40.504277Z"
    },
    "papermill": {
     "duration": 0.015072,
     "end_time": "2025-07-18T02:28:40.506806",
     "exception": false,
     "start_time": "2025-07-18T02:28:40.491734",
     "status": "completed"
    },
    "tags": []
   },
   "outputs": [],
   "source": [
    "x = dataset[[\"cgpa\"]]\n",
    "y = dataset[\"package\"]"
   ]
  },
  {
   "cell_type": "code",
   "execution_count": 8,
   "id": "713cd404",
   "metadata": {
    "execution": {
     "iopub.execute_input": "2025-07-18T02:28:40.516939Z",
     "iopub.status.busy": "2025-07-18T02:28:40.516058Z",
     "iopub.status.idle": "2025-07-18T02:28:40.833401Z",
     "shell.execute_reply": "2025-07-18T02:28:40.832334Z"
    },
    "papermill": {
     "duration": 0.324278,
     "end_time": "2025-07-18T02:28:40.835247",
     "exception": false,
     "start_time": "2025-07-18T02:28:40.510969",
     "status": "completed"
    },
    "tags": []
   },
   "outputs": [],
   "source": [
    "from sklearn.model_selection import train_test_split\n",
    "x_train,x_test,y_train,y_test = train_test_split(x,y,test_size=0.2,random_state=42)"
   ]
  },
  {
   "cell_type": "code",
   "execution_count": 9,
   "id": "a4c9a821",
   "metadata": {
    "execution": {
     "iopub.execute_input": "2025-07-18T02:28:40.845819Z",
     "iopub.status.busy": "2025-07-18T02:28:40.845363Z",
     "iopub.status.idle": "2025-07-18T02:28:40.963436Z",
     "shell.execute_reply": "2025-07-18T02:28:40.962361Z"
    },
    "papermill": {
     "duration": 0.125403,
     "end_time": "2025-07-18T02:28:40.965179",
     "exception": false,
     "start_time": "2025-07-18T02:28:40.839776",
     "status": "completed"
    },
    "tags": []
   },
   "outputs": [],
   "source": [
    "from sklearn.svm import SVR\n",
    "sv = SVR(kernel=\"rbf\")"
   ]
  },
  {
   "cell_type": "code",
   "execution_count": 10,
   "id": "7f5c7155",
   "metadata": {
    "execution": {
     "iopub.execute_input": "2025-07-18T02:28:40.974207Z",
     "iopub.status.busy": "2025-07-18T02:28:40.973862Z",
     "iopub.status.idle": "2025-07-18T02:28:40.992215Z",
     "shell.execute_reply": "2025-07-18T02:28:40.991142Z"
    },
    "papermill": {
     "duration": 0.024774,
     "end_time": "2025-07-18T02:28:40.993904",
     "exception": false,
     "start_time": "2025-07-18T02:28:40.969130",
     "status": "completed"
    },
    "tags": []
   },
   "outputs": [
    {
     "data": {
      "text/html": [
       "<style>#sk-container-id-1 {color: black;background-color: white;}#sk-container-id-1 pre{padding: 0;}#sk-container-id-1 div.sk-toggleable {background-color: white;}#sk-container-id-1 label.sk-toggleable__label {cursor: pointer;display: block;width: 100%;margin-bottom: 0;padding: 0.3em;box-sizing: border-box;text-align: center;}#sk-container-id-1 label.sk-toggleable__label-arrow:before {content: \"▸\";float: left;margin-right: 0.25em;color: #696969;}#sk-container-id-1 label.sk-toggleable__label-arrow:hover:before {color: black;}#sk-container-id-1 div.sk-estimator:hover label.sk-toggleable__label-arrow:before {color: black;}#sk-container-id-1 div.sk-toggleable__content {max-height: 0;max-width: 0;overflow: hidden;text-align: left;background-color: #f0f8ff;}#sk-container-id-1 div.sk-toggleable__content pre {margin: 0.2em;color: black;border-radius: 0.25em;background-color: #f0f8ff;}#sk-container-id-1 input.sk-toggleable__control:checked~div.sk-toggleable__content {max-height: 200px;max-width: 100%;overflow: auto;}#sk-container-id-1 input.sk-toggleable__control:checked~label.sk-toggleable__label-arrow:before {content: \"▾\";}#sk-container-id-1 div.sk-estimator input.sk-toggleable__control:checked~label.sk-toggleable__label {background-color: #d4ebff;}#sk-container-id-1 div.sk-label input.sk-toggleable__control:checked~label.sk-toggleable__label {background-color: #d4ebff;}#sk-container-id-1 input.sk-hidden--visually {border: 0;clip: rect(1px 1px 1px 1px);clip: rect(1px, 1px, 1px, 1px);height: 1px;margin: -1px;overflow: hidden;padding: 0;position: absolute;width: 1px;}#sk-container-id-1 div.sk-estimator {font-family: monospace;background-color: #f0f8ff;border: 1px dotted black;border-radius: 0.25em;box-sizing: border-box;margin-bottom: 0.5em;}#sk-container-id-1 div.sk-estimator:hover {background-color: #d4ebff;}#sk-container-id-1 div.sk-parallel-item::after {content: \"\";width: 100%;border-bottom: 1px solid gray;flex-grow: 1;}#sk-container-id-1 div.sk-label:hover label.sk-toggleable__label {background-color: #d4ebff;}#sk-container-id-1 div.sk-serial::before {content: \"\";position: absolute;border-left: 1px solid gray;box-sizing: border-box;top: 0;bottom: 0;left: 50%;z-index: 0;}#sk-container-id-1 div.sk-serial {display: flex;flex-direction: column;align-items: center;background-color: white;padding-right: 0.2em;padding-left: 0.2em;position: relative;}#sk-container-id-1 div.sk-item {position: relative;z-index: 1;}#sk-container-id-1 div.sk-parallel {display: flex;align-items: stretch;justify-content: center;background-color: white;position: relative;}#sk-container-id-1 div.sk-item::before, #sk-container-id-1 div.sk-parallel-item::before {content: \"\";position: absolute;border-left: 1px solid gray;box-sizing: border-box;top: 0;bottom: 0;left: 50%;z-index: -1;}#sk-container-id-1 div.sk-parallel-item {display: flex;flex-direction: column;z-index: 1;position: relative;background-color: white;}#sk-container-id-1 div.sk-parallel-item:first-child::after {align-self: flex-end;width: 50%;}#sk-container-id-1 div.sk-parallel-item:last-child::after {align-self: flex-start;width: 50%;}#sk-container-id-1 div.sk-parallel-item:only-child::after {width: 0;}#sk-container-id-1 div.sk-dashed-wrapped {border: 1px dashed gray;margin: 0 0.4em 0.5em 0.4em;box-sizing: border-box;padding-bottom: 0.4em;background-color: white;}#sk-container-id-1 div.sk-label label {font-family: monospace;font-weight: bold;display: inline-block;line-height: 1.2em;}#sk-container-id-1 div.sk-label-container {text-align: center;}#sk-container-id-1 div.sk-container {/* jupyter's `normalize.less` sets `[hidden] { display: none; }` but bootstrap.min.css set `[hidden] { display: none !important; }` so we also need the `!important` here to be able to override the default hidden behavior on the sphinx rendered scikit-learn.org. See: https://github.com/scikit-learn/scikit-learn/issues/21755 */display: inline-block !important;position: relative;}#sk-container-id-1 div.sk-text-repr-fallback {display: none;}</style><div id=\"sk-container-id-1\" class=\"sk-top-container\"><div class=\"sk-text-repr-fallback\"><pre>SVR()</pre><b>In a Jupyter environment, please rerun this cell to show the HTML representation or trust the notebook. <br />On GitHub, the HTML representation is unable to render, please try loading this page with nbviewer.org.</b></div><div class=\"sk-container\" hidden><div class=\"sk-item\"><div class=\"sk-estimator sk-toggleable\"><input class=\"sk-toggleable__control sk-hidden--visually\" id=\"sk-estimator-id-1\" type=\"checkbox\" checked><label for=\"sk-estimator-id-1\" class=\"sk-toggleable__label sk-toggleable__label-arrow\">SVR</label><div class=\"sk-toggleable__content\"><pre>SVR()</pre></div></div></div></div></div>"
      ],
      "text/plain": [
       "SVR()"
      ]
     },
     "execution_count": 10,
     "metadata": {},
     "output_type": "execute_result"
    }
   ],
   "source": [
    "sv.fit(x_train,y_train)"
   ]
  },
  {
   "cell_type": "code",
   "execution_count": 11,
   "id": "50076c2b",
   "metadata": {
    "execution": {
     "iopub.execute_input": "2025-07-18T02:28:41.004826Z",
     "iopub.status.busy": "2025-07-18T02:28:41.004413Z",
     "iopub.status.idle": "2025-07-18T02:28:41.014389Z",
     "shell.execute_reply": "2025-07-18T02:28:41.013382Z"
    },
    "papermill": {
     "duration": 0.016755,
     "end_time": "2025-07-18T02:28:41.016075",
     "exception": false,
     "start_time": "2025-07-18T02:28:40.999320",
     "status": "completed"
    },
    "tags": []
   },
   "outputs": [
    {
     "data": {
      "text/plain": [
       "78.16909319813372"
      ]
     },
     "execution_count": 11,
     "metadata": {},
     "output_type": "execute_result"
    }
   ],
   "source": [
    "sv.score(x_train,y_train)*100"
   ]
  },
  {
   "cell_type": "code",
   "execution_count": 12,
   "id": "59fa9584",
   "metadata": {
    "execution": {
     "iopub.execute_input": "2025-07-18T02:28:41.027446Z",
     "iopub.status.busy": "2025-07-18T02:28:41.026205Z",
     "iopub.status.idle": "2025-07-18T02:28:41.035180Z",
     "shell.execute_reply": "2025-07-18T02:28:41.034065Z"
    },
    "papermill": {
     "duration": 0.015879,
     "end_time": "2025-07-18T02:28:41.036749",
     "exception": false,
     "start_time": "2025-07-18T02:28:41.020870",
     "status": "completed"
    },
    "tags": []
   },
   "outputs": [
    {
     "data": {
      "text/plain": [
       "75.94945442913416"
      ]
     },
     "execution_count": 12,
     "metadata": {},
     "output_type": "execute_result"
    }
   ],
   "source": [
    "sv.score(x_test,y_test)*100"
   ]
  },
  {
   "cell_type": "code",
   "execution_count": 13,
   "id": "937864ae",
   "metadata": {
    "execution": {
     "iopub.execute_input": "2025-07-18T02:28:41.047763Z",
     "iopub.status.busy": "2025-07-18T02:28:41.047399Z",
     "iopub.status.idle": "2025-07-18T02:28:41.141199Z",
     "shell.execute_reply": "2025-07-18T02:28:41.140027Z"
    },
    "papermill": {
     "duration": 0.101194,
     "end_time": "2025-07-18T02:28:41.142958",
     "exception": false,
     "start_time": "2025-07-18T02:28:41.041764",
     "status": "completed"
    },
    "tags": []
   },
   "outputs": [],
   "source": [
    "from mlxtend.plotting import plot_decision_regions"
   ]
  },
  {
   "cell_type": "code",
   "execution_count": 14,
   "id": "4d777f07",
   "metadata": {
    "execution": {
     "iopub.execute_input": "2025-07-18T02:28:41.153319Z",
     "iopub.status.busy": "2025-07-18T02:28:41.152971Z",
     "iopub.status.idle": "2025-07-18T02:28:41.357576Z",
     "shell.execute_reply": "2025-07-18T02:28:41.356596Z"
    },
    "papermill": {
     "duration": 0.211988,
     "end_time": "2025-07-18T02:28:41.359449",
     "exception": false,
     "start_time": "2025-07-18T02:28:41.147461",
     "status": "completed"
    },
    "tags": []
   },
   "outputs": [
    {
     "data": {
      "image/png": "[encoded data removed]",
      "text/plain": [
       "<Figure size 640x480 with 1 Axes>"
      ]
     },
     "metadata": {},
     "output_type": "display_data"
    }
   ],
   "source": [
    "sns.scatterplot(x=\"cgpa\",y=\"package\",data=dataset)\n",
    "plt.scatter(dataset[\"cgpa\"],sv.predict(x),color=\"r\")\n",
    "plt.show()"
   ]
  },
  {
   "cell_type": "code",
   "execution_count": null,
   "id": "c9e9c47c",
   "metadata": {
    "papermill": {
     "duration": 0.006396,
     "end_time": "2025-07-18T02:28:41.371006",
     "exception": false,
     "start_time": "2025-07-18T02:28:41.364610",
     "status": "completed"
    },
    "tags": []
   },
   "outputs": [],
   "source": []
  },
  {
   "cell_type": "code",
   "execution_count": null,
   "id": "f0228dc4",
   "metadata": {
    "papermill": {
     "duration": 0.004786,
     "end_time": "2025-07-18T02:28:41.381026",
     "exception": false,
     "start_time": "2025-07-18T02:28:41.376240",
     "status": "completed"
    },
    "tags": []
   },
   "outputs": [],
   "source": []
  }
 ],
 "metadata": {
  "kaggle": {
   "accelerator": "none",
   "dataSources": [
    {
     "datasetId": 2517888,
     "sourceId": 4273460,
     "sourceType": "datasetVersion"
    }
   ],
   "dockerImageVersionId": 31089,
   "isGpuEnabled": false,
   "isInternetEnabled": true,
   "language": "python",
   "sourceType": "notebook"
  },
  "kernelspec": {
   "display_name": "Python 3",
   "language": "python",
   "name": "python3"
  },
  "language_info": {
   "codemirror_mode": {
    "name": "ipython",
    "version": 3
   },
   "file_extension": ".py",
   "mimetype": "text/x-python",
   "name": "python",
   "nbconvert_exporter": "python",
   "pygments_lexer": "ipython3",
   "version": "3.11.13"
  },
  "papermill": {
   "default_parameters": {},
   "duration": 11.685889,
   "end_time": "2025-07-18T02:28:42.107732",
   "environment_variables": {},
   "exception": null,
   "input_path": "__notebook__.ipynb",
   "output_path": "__notebook__.ipynb",
   "parameters": {},
   "start_time": "2025-07-18T02:28:30.421843",
   "version": "2.6.0"
  }
 },
 "nbformat": 4,
 "nbformat_minor": 5
}

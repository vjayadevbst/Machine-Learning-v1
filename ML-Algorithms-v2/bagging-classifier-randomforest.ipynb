{
 "cells": [
  {
   "cell_type": "code",
   "execution_count": 1,
   "id": "1a7917ff",
   "metadata": {
    "_cell_guid": "b1076dfc-b9ad-4769-8c92-a6c4dae69d19",
    "_uuid": "8f2839f25d086af736a60e9eeb907d3b93b6e0e5",
    "execution": {
     "iopub.execute_input": "2025-07-18T20:47:22.664422Z",
     "iopub.status.busy": "2025-07-18T20:47:22.663424Z",
     "iopub.status.idle": "2025-07-18T20:47:24.884823Z",
     "shell.execute_reply": "2025-07-18T20:47:24.883793Z"
    },
    "papermill": {
     "duration": 2.231182,
     "end_time": "2025-07-18T20:47:24.886838",
     "exception": false,
     "start_time": "2025-07-18T20:47:22.655656",
     "status": "completed"
    },
    "tags": []
   },
   "outputs": [],
   "source": [
    "# This Python 3 environment comes with many helpful analytics libraries installed\n",
    "# It is defined by the kaggle/python Docker image: https://github.com/kaggle/docker-python\n",
    "# For example, here's several helpful packages to load\n",
    "\n",
    "import numpy as np # linear algebra\n",
    "import pandas as pd # data processing, CSV file I/O (e.g. pd.read_csv)\n",
    "\n",
    "# Input data files are available in the read-only \"../input/\" directory\n",
    "# For example, running this (by clicking run or pressing Shift+Enter) will list all files under the input directory\n",
    "\n",
    "import os\n",
    "for dirname, _, filenames in os.walk('/kaggle/input'):\n",
    "    for filename in filenames:\n",
    "        print(os.path.join(dirname, filename))\n",
    "\n",
    "# You can write up to 20GB to the current directory (/kaggle/working/) that gets preserved as output when you create a version using \"Save & Run All\" \n",
    "# You can also write temporary files to /kaggle/temp/, but they won't be saved outside of the current session"
   ]
  },
  {
   "cell_type": "code",
   "execution_count": 2,
   "id": "c6263c41",
   "metadata": {
    "execution": {
     "iopub.execute_input": "2025-07-18T20:47:24.897844Z",
     "iopub.status.busy": "2025-07-18T20:47:24.896982Z",
     "iopub.status.idle": "2025-07-18T20:47:27.525513Z",
     "shell.execute_reply": "2025-07-18T20:47:27.524390Z"
    },
    "papermill": {
     "duration": 2.635454,
     "end_time": "2025-07-18T20:47:27.527220",
     "exception": false,
     "start_time": "2025-07-18T20:47:24.891766",
     "status": "completed"
    },
    "tags": []
   },
   "outputs": [],
   "source": [
    "import pandas as pd \n",
    "import seaborn as sns\n",
    "import matplotlib.pyplot as plt \n",
    "from sklearn.datasets import make_moons"
   ]
  },
  {
   "cell_type": "code",
   "execution_count": 3,
   "id": "d53d39ce",
   "metadata": {
    "execution": {
     "iopub.execute_input": "2025-07-18T20:47:27.537559Z",
     "iopub.status.busy": "2025-07-18T20:47:27.537061Z",
     "iopub.status.idle": "2025-07-18T20:47:27.551852Z",
     "shell.execute_reply": "2025-07-18T20:47:27.550808Z"
    },
    "papermill": {
     "duration": 0.022095,
     "end_time": "2025-07-18T20:47:27.553757",
     "exception": false,
     "start_time": "2025-07-18T20:47:27.531662",
     "status": "completed"
    },
    "tags": []
   },
   "outputs": [],
   "source": [
    "x,y = make_moons(n_samples=400,noise=0.01)\n"
   ]
  },
  {
   "cell_type": "code",
   "execution_count": 4,
   "id": "95401884",
   "metadata": {
    "execution": {
     "iopub.execute_input": "2025-07-18T20:47:27.563289Z",
     "iopub.status.busy": "2025-07-18T20:47:27.562939Z",
     "iopub.status.idle": "2025-07-18T20:47:27.568290Z",
     "shell.execute_reply": "2025-07-18T20:47:27.566837Z"
    },
    "papermill": {
     "duration": 0.011934,
     "end_time": "2025-07-18T20:47:27.569979",
     "exception": false,
     "start_time": "2025-07-18T20:47:27.558045",
     "status": "completed"
    },
    "tags": []
   },
   "outputs": [],
   "source": [
    "df = {\"x1\":x[:,0],\"x2\":x[:,1],\"y\":y}"
   ]
  },
  {
   "cell_type": "code",
   "execution_count": 5,
   "id": "d16a954e",
   "metadata": {
    "execution": {
     "iopub.execute_input": "2025-07-18T20:47:27.579686Z",
     "iopub.status.busy": "2025-07-18T20:47:27.579354Z",
     "iopub.status.idle": "2025-07-18T20:47:27.619949Z",
     "shell.execute_reply": "2025-07-18T20:47:27.618844Z"
    },
    "papermill": {
     "duration": 0.047617,
     "end_time": "2025-07-18T20:47:27.621932",
     "exception": false,
     "start_time": "2025-07-18T20:47:27.574315",
     "status": "completed"
    },
    "tags": []
   },
   "outputs": [
    {
     "data": {
      "text/html": [
       "<div>\n",
       "<style scoped>\n",
       "    .dataframe tbody tr th:only-of-type {\n",
       "        vertical-align: middle;\n",
       "    }\n",
       "\n",
       "    .dataframe tbody tr th {\n",
       "        vertical-align: top;\n",
       "    }\n",
       "\n",
       "    .dataframe thead th {\n",
       "        text-align: right;\n",
       "    }\n",
       "</style>\n",
       "<table border=\"1\" class=\"dataframe\">\n",
       "  <thead>\n",
       "    <tr style=\"text-align: right;\">\n",
       "      <th></th>\n",
       "      <th>x1</th>\n",
       "      <th>x2</th>\n",
       "      <th>y</th>\n",
       "    </tr>\n",
       "  </thead>\n",
       "  <tbody>\n",
       "    <tr>\n",
       "      <th>0</th>\n",
       "      <td>-0.303755</td>\n",
       "      <td>0.946185</td>\n",
       "      <td>0</td>\n",
       "    </tr>\n",
       "    <tr>\n",
       "      <th>1</th>\n",
       "      <td>0.951535</td>\n",
       "      <td>-0.496939</td>\n",
       "      <td>1</td>\n",
       "    </tr>\n",
       "    <tr>\n",
       "      <th>2</th>\n",
       "      <td>0.868624</td>\n",
       "      <td>0.466722</td>\n",
       "      <td>0</td>\n",
       "    </tr>\n",
       "    <tr>\n",
       "      <th>3</th>\n",
       "      <td>0.655701</td>\n",
       "      <td>0.755444</td>\n",
       "      <td>0</td>\n",
       "    </tr>\n",
       "    <tr>\n",
       "      <th>4</th>\n",
       "      <td>0.249931</td>\n",
       "      <td>-0.173346</td>\n",
       "      <td>1</td>\n",
       "    </tr>\n",
       "    <tr>\n",
       "      <th>...</th>\n",
       "      <td>...</td>\n",
       "      <td>...</td>\n",
       "      <td>...</td>\n",
       "    </tr>\n",
       "    <tr>\n",
       "      <th>395</th>\n",
       "      <td>0.930156</td>\n",
       "      <td>0.397034</td>\n",
       "      <td>0</td>\n",
       "    </tr>\n",
       "    <tr>\n",
       "      <th>396</th>\n",
       "      <td>0.997051</td>\n",
       "      <td>0.076459</td>\n",
       "      <td>0</td>\n",
       "    </tr>\n",
       "    <tr>\n",
       "      <th>397</th>\n",
       "      <td>0.191567</td>\n",
       "      <td>-0.103540</td>\n",
       "      <td>1</td>\n",
       "    </tr>\n",
       "    <tr>\n",
       "      <th>398</th>\n",
       "      <td>-0.313182</td>\n",
       "      <td>0.930972</td>\n",
       "      <td>0</td>\n",
       "    </tr>\n",
       "    <tr>\n",
       "      <th>399</th>\n",
       "      <td>0.038763</td>\n",
       "      <td>0.200464</td>\n",
       "      <td>1</td>\n",
       "    </tr>\n",
       "  </tbody>\n",
       "</table>\n",
       "<p>400 rows × 3 columns</p>\n",
       "</div>"
      ],
      "text/plain": [
       "           x1        x2  y\n",
       "0   -0.303755  0.946185  0\n",
       "1    0.951535 -0.496939  1\n",
       "2    0.868624  0.466722  0\n",
       "3    0.655701  0.755444  0\n",
       "4    0.249931 -0.173346  1\n",
       "..        ...       ... ..\n",
       "395  0.930156  0.397034  0\n",
       "396  0.997051  0.076459  0\n",
       "397  0.191567 -0.103540  1\n",
       "398 -0.313182  0.930972  0\n",
       "399  0.038763  0.200464  1\n",
       "\n",
       "[400 rows x 3 columns]"
      ]
     },
     "execution_count": 5,
     "metadata": {},
     "output_type": "execute_result"
    }
   ],
   "source": [
    "dataset = pd.DataFrame(df)\n",
    "dataset"
   ]
  },
  {
   "cell_type": "code",
   "execution_count": 6,
   "id": "6f587233",
   "metadata": {
    "execution": {
     "iopub.execute_input": "2025-07-18T20:47:27.632362Z",
     "iopub.status.busy": "2025-07-18T20:47:27.631971Z",
     "iopub.status.idle": "2025-07-18T20:47:28.012591Z",
     "shell.execute_reply": "2025-07-18T20:47:28.011564Z"
    },
    "papermill": {
     "duration": 0.387889,
     "end_time": "2025-07-18T20:47:28.014472",
     "exception": false,
     "start_time": "2025-07-18T20:47:27.626583",
     "status": "completed"
    },
    "tags": []
   },
   "outputs": [
    {
     "data": {
      "image/png": "[encoded data removed]",
      "text/plain": [
       "<Figure size 640x480 with 1 Axes>"
      ]
     },
     "metadata": {},
     "output_type": "display_data"
    }
   ],
   "source": [
    "sns.scatterplot(x=\"x1\",y=\"x2\",data=dataset,hue=\"y\")\n",
    "plt.show()"
   ]
  },
  {
   "cell_type": "code",
   "execution_count": 7,
   "id": "44072597",
   "metadata": {
    "execution": {
     "iopub.execute_input": "2025-07-18T20:47:28.027432Z",
     "iopub.status.busy": "2025-07-18T20:47:28.026996Z",
     "iopub.status.idle": "2025-07-18T20:47:28.038997Z",
     "shell.execute_reply": "2025-07-18T20:47:28.038048Z"
    },
    "papermill": {
     "duration": 0.020052,
     "end_time": "2025-07-18T20:47:28.040672",
     "exception": false,
     "start_time": "2025-07-18T20:47:28.020620",
     "status": "completed"
    },
    "tags": []
   },
   "outputs": [
    {
     "data": {
      "text/html": [
       "<div>\n",
       "<style scoped>\n",
       "    .dataframe tbody tr th:only-of-type {\n",
       "        vertical-align: middle;\n",
       "    }\n",
       "\n",
       "    .dataframe tbody tr th {\n",
       "        vertical-align: top;\n",
       "    }\n",
       "\n",
       "    .dataframe thead th {\n",
       "        text-align: right;\n",
       "    }\n",
       "</style>\n",
       "<table border=\"1\" class=\"dataframe\">\n",
       "  <thead>\n",
       "    <tr style=\"text-align: right;\">\n",
       "      <th></th>\n",
       "      <th>x1</th>\n",
       "      <th>x2</th>\n",
       "    </tr>\n",
       "  </thead>\n",
       "  <tbody>\n",
       "    <tr>\n",
       "      <th>0</th>\n",
       "      <td>-0.303755</td>\n",
       "      <td>0.946185</td>\n",
       "    </tr>\n",
       "    <tr>\n",
       "      <th>1</th>\n",
       "      <td>0.951535</td>\n",
       "      <td>-0.496939</td>\n",
       "    </tr>\n",
       "    <tr>\n",
       "      <th>2</th>\n",
       "      <td>0.868624</td>\n",
       "      <td>0.466722</td>\n",
       "    </tr>\n",
       "    <tr>\n",
       "      <th>3</th>\n",
       "      <td>0.655701</td>\n",
       "      <td>0.755444</td>\n",
       "    </tr>\n",
       "    <tr>\n",
       "      <th>4</th>\n",
       "      <td>0.249931</td>\n",
       "      <td>-0.173346</td>\n",
       "    </tr>\n",
       "    <tr>\n",
       "      <th>...</th>\n",
       "      <td>...</td>\n",
       "      <td>...</td>\n",
       "    </tr>\n",
       "    <tr>\n",
       "      <th>395</th>\n",
       "      <td>0.930156</td>\n",
       "      <td>0.397034</td>\n",
       "    </tr>\n",
       "    <tr>\n",
       "      <th>396</th>\n",
       "      <td>0.997051</td>\n",
       "      <td>0.076459</td>\n",
       "    </tr>\n",
       "    <tr>\n",
       "      <th>397</th>\n",
       "      <td>0.191567</td>\n",
       "      <td>-0.103540</td>\n",
       "    </tr>\n",
       "    <tr>\n",
       "      <th>398</th>\n",
       "      <td>-0.313182</td>\n",
       "      <td>0.930972</td>\n",
       "    </tr>\n",
       "    <tr>\n",
       "      <th>399</th>\n",
       "      <td>0.038763</td>\n",
       "      <td>0.200464</td>\n",
       "    </tr>\n",
       "  </tbody>\n",
       "</table>\n",
       "<p>400 rows × 2 columns</p>\n",
       "</div>"
      ],
      "text/plain": [
       "           x1        x2\n",
       "0   -0.303755  0.946185\n",
       "1    0.951535 -0.496939\n",
       "2    0.868624  0.466722\n",
       "3    0.655701  0.755444\n",
       "4    0.249931 -0.173346\n",
       "..        ...       ...\n",
       "395  0.930156  0.397034\n",
       "396  0.997051  0.076459\n",
       "397  0.191567 -0.103540\n",
       "398 -0.313182  0.930972\n",
       "399  0.038763  0.200464\n",
       "\n",
       "[400 rows x 2 columns]"
      ]
     },
     "execution_count": 7,
     "metadata": {},
     "output_type": "execute_result"
    }
   ],
   "source": [
    "x_a = dataset.iloc[:,:-1]\n",
    "y_a = dataset[\"y\"]\n",
    "x_a"
   ]
  },
  {
   "cell_type": "code",
   "execution_count": 8,
   "id": "c32d9222",
   "metadata": {
    "execution": {
     "iopub.execute_input": "2025-07-18T20:47:28.053548Z",
     "iopub.status.busy": "2025-07-18T20:47:28.052916Z",
     "iopub.status.idle": "2025-07-18T20:47:28.290198Z",
     "shell.execute_reply": "2025-07-18T20:47:28.289327Z"
    },
    "papermill": {
     "duration": 0.245523,
     "end_time": "2025-07-18T20:47:28.292052",
     "exception": false,
     "start_time": "2025-07-18T20:47:28.046529",
     "status": "completed"
    },
    "tags": []
   },
   "outputs": [],
   "source": [
    "\n",
    "from sklearn.svm import SVC\n",
    "\n",
    "sv = SVC()\n"
   ]
  },
  {
   "cell_type": "code",
   "execution_count": 9,
   "id": "14e4f6d4",
   "metadata": {
    "execution": {
     "iopub.execute_input": "2025-07-18T20:47:28.308073Z",
     "iopub.status.busy": "2025-07-18T20:47:28.307729Z",
     "iopub.status.idle": "2025-07-18T20:47:28.312702Z",
     "shell.execute_reply": "2025-07-18T20:47:28.311677Z"
    },
    "papermill": {
     "duration": 0.015742,
     "end_time": "2025-07-18T20:47:28.314647",
     "exception": false,
     "start_time": "2025-07-18T20:47:28.298905",
     "status": "completed"
    },
    "tags": []
   },
   "outputs": [],
   "source": [
    "from sklearn.model_selection import train_test_split"
   ]
  },
  {
   "cell_type": "code",
   "execution_count": 10,
   "id": "db12f677",
   "metadata": {
    "execution": {
     "iopub.execute_input": "2025-07-18T20:47:28.327751Z",
     "iopub.status.busy": "2025-07-18T20:47:28.327446Z",
     "iopub.status.idle": "2025-07-18T20:47:28.335022Z",
     "shell.execute_reply": "2025-07-18T20:47:28.333835Z"
    },
    "papermill": {
     "duration": 0.016192,
     "end_time": "2025-07-18T20:47:28.336825",
     "exception": false,
     "start_time": "2025-07-18T20:47:28.320633",
     "status": "completed"
    },
    "tags": []
   },
   "outputs": [],
   "source": [
    "x_train,x_test,y_train,y_test = train_test_split(x_a,y_a,test_size=0.5,random_state=42)"
   ]
  },
  {
   "cell_type": "code",
   "execution_count": 11,
   "id": "3a392c69",
   "metadata": {
    "execution": {
     "iopub.execute_input": "2025-07-18T20:47:28.349234Z",
     "iopub.status.busy": "2025-07-18T20:47:28.348891Z",
     "iopub.status.idle": "2025-07-18T20:47:28.365890Z",
     "shell.execute_reply": "2025-07-18T20:47:28.364860Z"
    },
    "papermill": {
     "duration": 0.025207,
     "end_time": "2025-07-18T20:47:28.367701",
     "exception": false,
     "start_time": "2025-07-18T20:47:28.342494",
     "status": "completed"
    },
    "tags": []
   },
   "outputs": [
    {
     "data": {
      "text/html": [
       "<style>#sk-container-id-1 {color: black;background-color: white;}#sk-container-id-1 pre{padding: 0;}#sk-container-id-1 div.sk-toggleable {background-color: white;}#sk-container-id-1 label.sk-toggleable__label {cursor: pointer;display: block;width: 100%;margin-bottom: 0;padding: 0.3em;box-sizing: border-box;text-align: center;}#sk-container-id-1 label.sk-toggleable__label-arrow:before {content: \"▸\";float: left;margin-right: 0.25em;color: #696969;}#sk-container-id-1 label.sk-toggleable__label-arrow:hover:before {color: black;}#sk-container-id-1 div.sk-estimator:hover label.sk-toggleable__label-arrow:before {color: black;}#sk-container-id-1 div.sk-toggleable__content {max-height: 0;max-width: 0;overflow: hidden;text-align: left;background-color: #f0f8ff;}#sk-container-id-1 div.sk-toggleable__content pre {margin: 0.2em;color: black;border-radius: 0.25em;background-color: #f0f8ff;}#sk-container-id-1 input.sk-toggleable__control:checked~div.sk-toggleable__content {max-height: 200px;max-width: 100%;overflow: auto;}#sk-container-id-1 input.sk-toggleable__control:checked~label.sk-toggleable__label-arrow:before {content: \"▾\";}#sk-container-id-1 div.sk-estimator input.sk-toggleable__control:checked~label.sk-toggleable__label {background-color: #d4ebff;}#sk-container-id-1 div.sk-label input.sk-toggleable__control:checked~label.sk-toggleable__label {background-color: #d4ebff;}#sk-container-id-1 input.sk-hidden--visually {border: 0;clip: rect(1px 1px 1px 1px);clip: rect(1px, 1px, 1px, 1px);height: 1px;margin: -1px;overflow: hidden;padding: 0;position: absolute;width: 1px;}#sk-container-id-1 div.sk-estimator {font-family: monospace;background-color: #f0f8ff;border: 1px dotted black;border-radius: 0.25em;box-sizing: border-box;margin-bottom: 0.5em;}#sk-container-id-1 div.sk-estimator:hover {background-color: #d4ebff;}#sk-container-id-1 div.sk-parallel-item::after {content: \"\";width: 100%;border-bottom: 1px solid gray;flex-grow: 1;}#sk-container-id-1 div.sk-label:hover label.sk-toggleable__label {background-color: #d4ebff;}#sk-container-id-1 div.sk-serial::before {content: \"\";position: absolute;border-left: 1px solid gray;box-sizing: border-box;top: 0;bottom: 0;left: 50%;z-index: 0;}#sk-container-id-1 div.sk-serial {display: flex;flex-direction: column;align-items: center;background-color: white;padding-right: 0.2em;padding-left: 0.2em;position: relative;}#sk-container-id-1 div.sk-item {position: relative;z-index: 1;}#sk-container-id-1 div.sk-parallel {display: flex;align-items: stretch;justify-content: center;background-color: white;position: relative;}#sk-container-id-1 div.sk-item::before, #sk-container-id-1 div.sk-parallel-item::before {content: \"\";position: absolute;border-left: 1px solid gray;box-sizing: border-box;top: 0;bottom: 0;left: 50%;z-index: -1;}#sk-container-id-1 div.sk-parallel-item {display: flex;flex-direction: column;z-index: 1;position: relative;background-color: white;}#sk-container-id-1 div.sk-parallel-item:first-child::after {align-self: flex-end;width: 50%;}#sk-container-id-1 div.sk-parallel-item:last-child::after {align-self: flex-start;width: 50%;}#sk-container-id-1 div.sk-parallel-item:only-child::after {width: 0;}#sk-container-id-1 div.sk-dashed-wrapped {border: 1px dashed gray;margin: 0 0.4em 0.5em 0.4em;box-sizing: border-box;padding-bottom: 0.4em;background-color: white;}#sk-container-id-1 div.sk-label label {font-family: monospace;font-weight: bold;display: inline-block;line-height: 1.2em;}#sk-container-id-1 div.sk-label-container {text-align: center;}#sk-container-id-1 div.sk-container {/* jupyter's `normalize.less` sets `[hidden] { display: none; }` but bootstrap.min.css set `[hidden] { display: none !important; }` so we also need the `!important` here to be able to override the default hidden behavior on the sphinx rendered scikit-learn.org. See: https://github.com/scikit-learn/scikit-learn/issues/21755 */display: inline-block !important;position: relative;}#sk-container-id-1 div.sk-text-repr-fallback {display: none;}</style><div id=\"sk-container-id-1\" class=\"sk-top-container\"><div class=\"sk-text-repr-fallback\"><pre>SVC()</pre><b>In a Jupyter environment, please rerun this cell to show the HTML representation or trust the notebook. <br />On GitHub, the HTML representation is unable to render, please try loading this page with nbviewer.org.</b></div><div class=\"sk-container\" hidden><div class=\"sk-item\"><div class=\"sk-estimator sk-toggleable\"><input class=\"sk-toggleable__control sk-hidden--visually\" id=\"sk-estimator-id-1\" type=\"checkbox\" checked><label for=\"sk-estimator-id-1\" class=\"sk-toggleable__label sk-toggleable__label-arrow\">SVC</label><div class=\"sk-toggleable__content\"><pre>SVC()</pre></div></div></div></div></div>"
      ],
      "text/plain": [
       "SVC()"
      ]
     },
     "execution_count": 11,
     "metadata": {},
     "output_type": "execute_result"
    }
   ],
   "source": [
    "\n",
    "sv.fit(x_train,y_train)\n"
   ]
  },
  {
   "cell_type": "code",
   "execution_count": 12,
   "id": "5651a861",
   "metadata": {
    "execution": {
     "iopub.execute_input": "2025-07-18T20:47:28.381814Z",
     "iopub.status.busy": "2025-07-18T20:47:28.381519Z",
     "iopub.status.idle": "2025-07-18T20:47:28.393373Z",
     "shell.execute_reply": "2025-07-18T20:47:28.392415Z"
    },
    "papermill": {
     "duration": 0.020271,
     "end_time": "2025-07-18T20:47:28.394953",
     "exception": false,
     "start_time": "2025-07-18T20:47:28.374682",
     "status": "completed"
    },
    "tags": []
   },
   "outputs": [
    {
     "data": {
      "text/plain": [
       "(1.0, 1.0)"
      ]
     },
     "execution_count": 12,
     "metadata": {},
     "output_type": "execute_result"
    }
   ],
   "source": [
    "sv.score(x_train,y_train),sv.score(x_test,y_test)"
   ]
  },
  {
   "cell_type": "code",
   "execution_count": 13,
   "id": "8d915bdc",
   "metadata": {
    "execution": {
     "iopub.execute_input": "2025-07-18T20:47:28.408432Z",
     "iopub.status.busy": "2025-07-18T20:47:28.408065Z",
     "iopub.status.idle": "2025-07-18T20:47:28.739028Z",
     "shell.execute_reply": "2025-07-18T20:47:28.738002Z"
    },
    "papermill": {
     "duration": 0.339907,
     "end_time": "2025-07-18T20:47:28.740902",
     "exception": false,
     "start_time": "2025-07-18T20:47:28.400995",
     "status": "completed"
    },
    "tags": []
   },
   "outputs": [],
   "source": [
    "from sklearn.ensemble import BaggingClassifier\n",
    "from sklearn.ensemble import RandomForestClassifier"
   ]
  },
  {
   "cell_type": "code",
   "execution_count": 14,
   "id": "a3604a7b",
   "metadata": {
    "execution": {
     "iopub.execute_input": "2025-07-18T20:47:28.754318Z",
     "iopub.status.busy": "2025-07-18T20:47:28.753984Z",
     "iopub.status.idle": "2025-07-18T20:47:28.758674Z",
     "shell.execute_reply": "2025-07-18T20:47:28.757800Z"
    },
    "papermill": {
     "duration": 0.013493,
     "end_time": "2025-07-18T20:47:28.760452",
     "exception": false,
     "start_time": "2025-07-18T20:47:28.746959",
     "status": "completed"
    },
    "tags": []
   },
   "outputs": [],
   "source": [
    "bg = BaggingClassifier(estimator=SVC(),n_estimators=10)"
   ]
  },
  {
   "cell_type": "code",
   "execution_count": 15,
   "id": "5d68c625",
   "metadata": {
    "execution": {
     "iopub.execute_input": "2025-07-18T20:47:28.774192Z",
     "iopub.status.busy": "2025-07-18T20:47:28.773815Z",
     "iopub.status.idle": "2025-07-18T20:47:28.810728Z",
     "shell.execute_reply": "2025-07-18T20:47:28.809613Z"
    },
    "papermill": {
     "duration": 0.046472,
     "end_time": "2025-07-18T20:47:28.812913",
     "exception": false,
     "start_time": "2025-07-18T20:47:28.766441",
     "status": "completed"
    },
    "tags": []
   },
   "outputs": [
    {
     "data": {
      "text/html": [
       "<style>#sk-container-id-2 {color: black;background-color: white;}#sk-container-id-2 pre{padding: 0;}#sk-container-id-2 div.sk-toggleable {background-color: white;}#sk-container-id-2 label.sk-toggleable__label {cursor: pointer;display: block;width: 100%;margin-bottom: 0;padding: 0.3em;box-sizing: border-box;text-align: center;}#sk-container-id-2 label.sk-toggleable__label-arrow:before {content: \"▸\";float: left;margin-right: 0.25em;color: #696969;}#sk-container-id-2 label.sk-toggleable__label-arrow:hover:before {color: black;}#sk-container-id-2 div.sk-estimator:hover label.sk-toggleable__label-arrow:before {color: black;}#sk-container-id-2 div.sk-toggleable__content {max-height: 0;max-width: 0;overflow: hidden;text-align: left;background-color: #f0f8ff;}#sk-container-id-2 div.sk-toggleable__content pre {margin: 0.2em;color: black;border-radius: 0.25em;background-color: #f0f8ff;}#sk-container-id-2 input.sk-toggleable__control:checked~div.sk-toggleable__content {max-height: 200px;max-width: 100%;overflow: auto;}#sk-container-id-2 input.sk-toggleable__control:checked~label.sk-toggleable__label-arrow:before {content: \"▾\";}#sk-container-id-2 div.sk-estimator input.sk-toggleable__control:checked~label.sk-toggleable__label {background-color: #d4ebff;}#sk-container-id-2 div.sk-label input.sk-toggleable__control:checked~label.sk-toggleable__label {background-color: #d4ebff;}#sk-container-id-2 input.sk-hidden--visually {border: 0;clip: rect(1px 1px 1px 1px);clip: rect(1px, 1px, 1px, 1px);height: 1px;margin: -1px;overflow: hidden;padding: 0;position: absolute;width: 1px;}#sk-container-id-2 div.sk-estimator {font-family: monospace;background-color: #f0f8ff;border: 1px dotted black;border-radius: 0.25em;box-sizing: border-box;margin-bottom: 0.5em;}#sk-container-id-2 div.sk-estimator:hover {background-color: #d4ebff;}#sk-container-id-2 div.sk-parallel-item::after {content: \"\";width: 100%;border-bottom: 1px solid gray;flex-grow: 1;}#sk-container-id-2 div.sk-label:hover label.sk-toggleable__label {background-color: #d4ebff;}#sk-container-id-2 div.sk-serial::before {content: \"\";position: absolute;border-left: 1px solid gray;box-sizing: border-box;top: 0;bottom: 0;left: 50%;z-index: 0;}#sk-container-id-2 div.sk-serial {display: flex;flex-direction: column;align-items: center;background-color: white;padding-right: 0.2em;padding-left: 0.2em;position: relative;}#sk-container-id-2 div.sk-item {position: relative;z-index: 1;}#sk-container-id-2 div.sk-parallel {display: flex;align-items: stretch;justify-content: center;background-color: white;position: relative;}#sk-container-id-2 div.sk-item::before, #sk-container-id-2 div.sk-parallel-item::before {content: \"\";position: absolute;border-left: 1px solid gray;box-sizing: border-box;top: 0;bottom: 0;left: 50%;z-index: -1;}#sk-container-id-2 div.sk-parallel-item {display: flex;flex-direction: column;z-index: 1;position: relative;background-color: white;}#sk-container-id-2 div.sk-parallel-item:first-child::after {align-self: flex-end;width: 50%;}#sk-container-id-2 div.sk-parallel-item:last-child::after {align-self: flex-start;width: 50%;}#sk-container-id-2 div.sk-parallel-item:only-child::after {width: 0;}#sk-container-id-2 div.sk-dashed-wrapped {border: 1px dashed gray;margin: 0 0.4em 0.5em 0.4em;box-sizing: border-box;padding-bottom: 0.4em;background-color: white;}#sk-container-id-2 div.sk-label label {font-family: monospace;font-weight: bold;display: inline-block;line-height: 1.2em;}#sk-container-id-2 div.sk-label-container {text-align: center;}#sk-container-id-2 div.sk-container {/* jupyter's `normalize.less` sets `[hidden] { display: none; }` but bootstrap.min.css set `[hidden] { display: none !important; }` so we also need the `!important` here to be able to override the default hidden behavior on the sphinx rendered scikit-learn.org. See: https://github.com/scikit-learn/scikit-learn/issues/21755 */display: inline-block !important;position: relative;}#sk-container-id-2 div.sk-text-repr-fallback {display: none;}</style><div id=\"sk-container-id-2\" class=\"sk-top-container\"><div class=\"sk-text-repr-fallback\"><pre>BaggingClassifier(estimator=SVC())</pre><b>In a Jupyter environment, please rerun this cell to show the HTML representation or trust the notebook. <br />On GitHub, the HTML representation is unable to render, please try loading this page with nbviewer.org.</b></div><div class=\"sk-container\" hidden><div class=\"sk-item sk-dashed-wrapped\"><div class=\"sk-label-container\"><div class=\"sk-label sk-toggleable\"><input class=\"sk-toggleable__control sk-hidden--visually\" id=\"sk-estimator-id-2\" type=\"checkbox\" ><label for=\"sk-estimator-id-2\" class=\"sk-toggleable__label sk-toggleable__label-arrow\">BaggingClassifier</label><div class=\"sk-toggleable__content\"><pre>BaggingClassifier(estimator=SVC())</pre></div></div></div><div class=\"sk-parallel\"><div class=\"sk-parallel-item\"><div class=\"sk-item\"><div class=\"sk-label-container\"><div class=\"sk-label sk-toggleable\"><input class=\"sk-toggleable__control sk-hidden--visually\" id=\"sk-estimator-id-3\" type=\"checkbox\" ><label for=\"sk-estimator-id-3\" class=\"sk-toggleable__label sk-toggleable__label-arrow\">estimator: SVC</label><div class=\"sk-toggleable__content\"><pre>SVC()</pre></div></div></div><div class=\"sk-serial\"><div class=\"sk-item\"><div class=\"sk-estimator sk-toggleable\"><input class=\"sk-toggleable__control sk-hidden--visually\" id=\"sk-estimator-id-4\" type=\"checkbox\" ><label for=\"sk-estimator-id-4\" class=\"sk-toggleable__label sk-toggleable__label-arrow\">SVC</label><div class=\"sk-toggleable__content\"><pre>SVC()</pre></div></div></div></div></div></div></div></div></div></div>"
      ],
      "text/plain": [
       "BaggingClassifier(estimator=SVC())"
      ]
     },
     "execution_count": 15,
     "metadata": {},
     "output_type": "execute_result"
    }
   ],
   "source": [
    "bg.fit(x_train,y_train)"
   ]
  },
  {
   "cell_type": "code",
   "execution_count": 16,
   "id": "e620505a",
   "metadata": {
    "execution": {
     "iopub.execute_input": "2025-07-18T20:47:28.826824Z",
     "iopub.status.busy": "2025-07-18T20:47:28.826513Z",
     "iopub.status.idle": "2025-07-18T20:47:28.847824Z",
     "shell.execute_reply": "2025-07-18T20:47:28.846694Z"
    },
    "papermill": {
     "duration": 0.030564,
     "end_time": "2025-07-18T20:47:28.849925",
     "exception": false,
     "start_time": "2025-07-18T20:47:28.819361",
     "status": "completed"
    },
    "tags": []
   },
   "outputs": [
    {
     "data": {
      "text/plain": [
       "(1.0, 1.0)"
      ]
     },
     "execution_count": 16,
     "metadata": {},
     "output_type": "execute_result"
    }
   ],
   "source": [
    "bg.score(x_train,y_train),bg.score(x_test,y_test)"
   ]
  },
  {
   "cell_type": "code",
   "execution_count": 17,
   "id": "83311a1c",
   "metadata": {
    "execution": {
     "iopub.execute_input": "2025-07-18T20:47:28.863433Z",
     "iopub.status.busy": "2025-07-18T20:47:28.863012Z",
     "iopub.status.idle": "2025-07-18T20:47:28.868627Z",
     "shell.execute_reply": "2025-07-18T20:47:28.867439Z"
    },
    "papermill": {
     "duration": 0.014306,
     "end_time": "2025-07-18T20:47:28.870390",
     "exception": false,
     "start_time": "2025-07-18T20:47:28.856084",
     "status": "completed"
    },
    "tags": []
   },
   "outputs": [],
   "source": [
    "rd = RandomForestClassifier(n_estimators=10)"
   ]
  },
  {
   "cell_type": "code",
   "execution_count": 18,
   "id": "71d16a12",
   "metadata": {
    "execution": {
     "iopub.execute_input": "2025-07-18T20:47:28.884761Z",
     "iopub.status.busy": "2025-07-18T20:47:28.884453Z",
     "iopub.status.idle": "2025-07-18T20:47:28.910671Z",
     "shell.execute_reply": "2025-07-18T20:47:28.909785Z"
    },
    "papermill": {
     "duration": 0.035862,
     "end_time": "2025-07-18T20:47:28.912465",
     "exception": false,
     "start_time": "2025-07-18T20:47:28.876603",
     "status": "completed"
    },
    "tags": []
   },
   "outputs": [
    {
     "data": {
      "text/html": [
       "<style>#sk-container-id-3 {color: black;background-color: white;}#sk-container-id-3 pre{padding: 0;}#sk-container-id-3 div.sk-toggleable {background-color: white;}#sk-container-id-3 label.sk-toggleable__label {cursor: pointer;display: block;width: 100%;margin-bottom: 0;padding: 0.3em;box-sizing: border-box;text-align: center;}#sk-container-id-3 label.sk-toggleable__label-arrow:before {content: \"▸\";float: left;margin-right: 0.25em;color: #696969;}#sk-container-id-3 label.sk-toggleable__label-arrow:hover:before {color: black;}#sk-container-id-3 div.sk-estimator:hover label.sk-toggleable__label-arrow:before {color: black;}#sk-container-id-3 div.sk-toggleable__content {max-height: 0;max-width: 0;overflow: hidden;text-align: left;background-color: #f0f8ff;}#sk-container-id-3 div.sk-toggleable__content pre {margin: 0.2em;color: black;border-radius: 0.25em;background-color: #f0f8ff;}#sk-container-id-3 input.sk-toggleable__control:checked~div.sk-toggleable__content {max-height: 200px;max-width: 100%;overflow: auto;}#sk-container-id-3 input.sk-toggleable__control:checked~label.sk-toggleable__label-arrow:before {content: \"▾\";}#sk-container-id-3 div.sk-estimator input.sk-toggleable__control:checked~label.sk-toggleable__label {background-color: #d4ebff;}#sk-container-id-3 div.sk-label input.sk-toggleable__control:checked~label.sk-toggleable__label {background-color: #d4ebff;}#sk-container-id-3 input.sk-hidden--visually {border: 0;clip: rect(1px 1px 1px 1px);clip: rect(1px, 1px, 1px, 1px);height: 1px;margin: -1px;overflow: hidden;padding: 0;position: absolute;width: 1px;}#sk-container-id-3 div.sk-estimator {font-family: monospace;background-color: #f0f8ff;border: 1px dotted black;border-radius: 0.25em;box-sizing: border-box;margin-bottom: 0.5em;}#sk-container-id-3 div.sk-estimator:hover {background-color: #d4ebff;}#sk-container-id-3 div.sk-parallel-item::after {content: \"\";width: 100%;border-bottom: 1px solid gray;flex-grow: 1;}#sk-container-id-3 div.sk-label:hover label.sk-toggleable__label {background-color: #d4ebff;}#sk-container-id-3 div.sk-serial::before {content: \"\";position: absolute;border-left: 1px solid gray;box-sizing: border-box;top: 0;bottom: 0;left: 50%;z-index: 0;}#sk-container-id-3 div.sk-serial {display: flex;flex-direction: column;align-items: center;background-color: white;padding-right: 0.2em;padding-left: 0.2em;position: relative;}#sk-container-id-3 div.sk-item {position: relative;z-index: 1;}#sk-container-id-3 div.sk-parallel {display: flex;align-items: stretch;justify-content: center;background-color: white;position: relative;}#sk-container-id-3 div.sk-item::before, #sk-container-id-3 div.sk-parallel-item::before {content: \"\";position: absolute;border-left: 1px solid gray;box-sizing: border-box;top: 0;bottom: 0;left: 50%;z-index: -1;}#sk-container-id-3 div.sk-parallel-item {display: flex;flex-direction: column;z-index: 1;position: relative;background-color: white;}#sk-container-id-3 div.sk-parallel-item:first-child::after {align-self: flex-end;width: 50%;}#sk-container-id-3 div.sk-parallel-item:last-child::after {align-self: flex-start;width: 50%;}#sk-container-id-3 div.sk-parallel-item:only-child::after {width: 0;}#sk-container-id-3 div.sk-dashed-wrapped {border: 1px dashed gray;margin: 0 0.4em 0.5em 0.4em;box-sizing: border-box;padding-bottom: 0.4em;background-color: white;}#sk-container-id-3 div.sk-label label {font-family: monospace;font-weight: bold;display: inline-block;line-height: 1.2em;}#sk-container-id-3 div.sk-label-container {text-align: center;}#sk-container-id-3 div.sk-container {/* jupyter's `normalize.less` sets `[hidden] { display: none; }` but bootstrap.min.css set `[hidden] { display: none !important; }` so we also need the `!important` here to be able to override the default hidden behavior on the sphinx rendered scikit-learn.org. See: https://github.com/scikit-learn/scikit-learn/issues/21755 */display: inline-block !important;position: relative;}#sk-container-id-3 div.sk-text-repr-fallback {display: none;}</style><div id=\"sk-container-id-3\" class=\"sk-top-container\"><div class=\"sk-text-repr-fallback\"><pre>RandomForestClassifier(n_estimators=10)</pre><b>In a Jupyter environment, please rerun this cell to show the HTML representation or trust the notebook. <br />On GitHub, the HTML representation is unable to render, please try loading this page with nbviewer.org.</b></div><div class=\"sk-container\" hidden><div class=\"sk-item\"><div class=\"sk-estimator sk-toggleable\"><input class=\"sk-toggleable__control sk-hidden--visually\" id=\"sk-estimator-id-5\" type=\"checkbox\" checked><label for=\"sk-estimator-id-5\" class=\"sk-toggleable__label sk-toggleable__label-arrow\">RandomForestClassifier</label><div class=\"sk-toggleable__content\"><pre>RandomForestClassifier(n_estimators=10)</pre></div></div></div></div></div>"
      ],
      "text/plain": [
       "RandomForestClassifier(n_estimators=10)"
      ]
     },
     "execution_count": 18,
     "metadata": {},
     "output_type": "execute_result"
    }
   ],
   "source": [
    "rd.fit(x_train,y_train)"
   ]
  },
  {
   "cell_type": "code",
   "execution_count": 19,
   "id": "45525a12",
   "metadata": {
    "execution": {
     "iopub.execute_input": "2025-07-18T20:47:28.926359Z",
     "iopub.status.busy": "2025-07-18T20:47:28.925942Z",
     "iopub.status.idle": "2025-07-18T20:47:28.940550Z",
     "shell.execute_reply": "2025-07-18T20:47:28.939414Z"
    },
    "papermill": {
     "duration": 0.02356,
     "end_time": "2025-07-18T20:47:28.942403",
     "exception": false,
     "start_time": "2025-07-18T20:47:28.918843",
     "status": "completed"
    },
    "tags": []
   },
   "outputs": [
    {
     "data": {
      "text/plain": [
       "(0.995, 0.995)"
      ]
     },
     "execution_count": 19,
     "metadata": {},
     "output_type": "execute_result"
    }
   ],
   "source": [
    "rd.score(x_train,y_train),rd.score(x_test,y_test)"
   ]
  },
  {
   "cell_type": "code",
   "execution_count": null,
   "id": "4d1b19be",
   "metadata": {
    "papermill": {
     "duration": 0.005997,
     "end_time": "2025-07-18T20:47:28.955369",
     "exception": false,
     "start_time": "2025-07-18T20:47:28.949372",
     "status": "completed"
    },
    "tags": []
   },
   "outputs": [],
   "source": []
  }
 ],
 "metadata": {
  "kaggle": {
   "accelerator": "none",
   "dataSources": [],
   "dockerImageVersionId": 31089,
   "isGpuEnabled": false,
   "isInternetEnabled": true,
   "language": "python",
   "sourceType": "notebook"
  },
  "kernelspec": {
   "display_name": "Python 3",
   "language": "python",
   "name": "python3"
  },
  "language_info": {
   "codemirror_mode": {
    "name": "ipython",
    "version": 3
   },
   "file_extension": ".py",
   "mimetype": "text/x-python",
   "name": "python",
   "nbconvert_exporter": "python",
   "pygments_lexer": "ipython3",
   "version": "3.11.13"
  },
  "papermill": {
   "default_parameters": {},
   "duration": 12.549993,
   "end_time": "2025-07-18T20:47:29.683889",
   "environment_variables": {},
   "exception": null,
   "input_path": "__notebook__.ipynb",
   "output_path": "__notebook__.ipynb",
   "parameters": {},
   "start_time": "2025-07-18T20:47:17.133896",
   "version": "2.6.0"
  }
 },
 "nbformat": 4,
 "nbformat_minor": 5
}

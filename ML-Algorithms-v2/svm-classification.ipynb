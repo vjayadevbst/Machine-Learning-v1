{
 "cells": [
  {
   "cell_type": "code",
   "execution_count": 1,
   "id": "59e6c5be",
   "metadata": {
    "_cell_guid": "b1076dfc-b9ad-4769-8c92-a6c4dae69d19",
    "_uuid": "8f2839f25d086af736a60e9eeb907d3b93b6e0e5",
    "execution": {
     "iopub.execute_input": "2025-07-18T02:01:42.853358Z",
     "iopub.status.busy": "2025-07-18T02:01:42.853006Z",
     "iopub.status.idle": "2025-07-18T02:01:44.641565Z",
     "shell.execute_reply": "2025-07-18T02:01:44.640552Z"
    },
    "papermill": {
     "duration": 1.79827,
     "end_time": "2025-07-18T02:01:44.643357",
     "exception": false,
     "start_time": "2025-07-18T02:01:42.845087",
     "status": "completed"
    },
    "tags": []
   },
   "outputs": [
    {
     "name": "stdout",
     "output_type": "stream",
     "text": [
      "/kaggle/input/college-placement/placement-dataset.csv\n"
     ]
    }
   ],
   "source": [
    "# This Python 3 environment comes with many helpful analytics libraries installed\n",
    "# It is defined by the kaggle/python Docker image: https://github.com/kaggle/docker-python\n",
    "# For example, here's several helpful packages to load\n",
    "\n",
    "import numpy as np # linear algebra\n",
    "import pandas as pd # data processing, CSV file I/O (e.g. pd.read_csv)\n",
    "\n",
    "# Input data files are available in the read-only \"../input/\" directory\n",
    "# For example, running this (by clicking run or pressing Shift+Enter) will list all files under the input directory\n",
    "\n",
    "import os\n",
    "for dirname, _, filenames in os.walk('/kaggle/input'):\n",
    "    for filename in filenames:\n",
    "        print(os.path.join(dirname, filename))\n",
    "\n",
    "# You can write up to 20GB to the current directory (/kaggle/working/) that gets preserved as output when you create a version using \"Save & Run All\" \n",
    "# You can also write temporary files to /kaggle/temp/, but they won't be saved outside of the current session"
   ]
  },
  {
   "cell_type": "code",
   "execution_count": 2,
   "id": "d4afbbc7",
   "metadata": {
    "execution": {
     "iopub.execute_input": "2025-07-18T02:01:44.652064Z",
     "iopub.status.busy": "2025-07-18T02:01:44.651627Z",
     "iopub.status.idle": "2025-07-18T02:01:46.540045Z",
     "shell.execute_reply": "2025-07-18T02:01:46.539318Z"
    },
    "papermill": {
     "duration": 1.894708,
     "end_time": "2025-07-18T02:01:46.541817",
     "exception": false,
     "start_time": "2025-07-18T02:01:44.647109",
     "status": "completed"
    },
    "tags": []
   },
   "outputs": [],
   "source": [
    "import pandas as pd\n",
    "import seaborn as sns\n",
    "import matplotlib.pyplot as plt \n"
   ]
  },
  {
   "cell_type": "code",
   "execution_count": 3,
   "id": "99b69629",
   "metadata": {
    "execution": {
     "iopub.execute_input": "2025-07-18T02:01:46.549530Z",
     "iopub.status.busy": "2025-07-18T02:01:46.549070Z",
     "iopub.status.idle": "2025-07-18T02:01:46.594095Z",
     "shell.execute_reply": "2025-07-18T02:01:46.592803Z"
    },
    "papermill": {
     "duration": 0.051113,
     "end_time": "2025-07-18T02:01:46.596272",
     "exception": false,
     "start_time": "2025-07-18T02:01:46.545159",
     "status": "completed"
    },
    "tags": []
   },
   "outputs": [
    {
     "name": "stderr",
     "output_type": "stream",
     "text": [
      "/usr/local/lib/python3.11/dist-packages/pandas/io/formats/format.py:1458: RuntimeWarning: invalid value encountered in greater\n",
      "  has_large_values = (abs_vals > 1e6).any()\n",
      "/usr/local/lib/python3.11/dist-packages/pandas/io/formats/format.py:1459: RuntimeWarning: invalid value encountered in less\n",
      "  has_small_values = ((abs_vals < 10 ** (-self.digits)) & (abs_vals > 0)).any()\n",
      "/usr/local/lib/python3.11/dist-packages/pandas/io/formats/format.py:1459: RuntimeWarning: invalid value encountered in greater\n",
      "  has_small_values = ((abs_vals < 10 ** (-self.digits)) & (abs_vals > 0)).any()\n"
     ]
    },
    {
     "data": {
      "text/html": [
       "<div>\n",
       "<style scoped>\n",
       "    .dataframe tbody tr th:only-of-type {\n",
       "        vertical-align: middle;\n",
       "    }\n",
       "\n",
       "    .dataframe tbody tr th {\n",
       "        vertical-align: top;\n",
       "    }\n",
       "\n",
       "    .dataframe thead th {\n",
       "        text-align: right;\n",
       "    }\n",
       "</style>\n",
       "<table border=\"1\" class=\"dataframe\">\n",
       "  <thead>\n",
       "    <tr style=\"text-align: right;\">\n",
       "      <th></th>\n",
       "      <th>city</th>\n",
       "      <th>cgpa</th>\n",
       "      <th>iq</th>\n",
       "      <th>placement</th>\n",
       "    </tr>\n",
       "  </thead>\n",
       "  <tbody>\n",
       "    <tr>\n",
       "      <th>0</th>\n",
       "      <td>New York</td>\n",
       "      <td>6.8</td>\n",
       "      <td>123.0</td>\n",
       "      <td>1</td>\n",
       "    </tr>\n",
       "    <tr>\n",
       "      <th>1</th>\n",
       "      <td>Los Angeles</td>\n",
       "      <td>5.9</td>\n",
       "      <td>106.0</td>\n",
       "      <td>0</td>\n",
       "    </tr>\n",
       "    <tr>\n",
       "      <th>2</th>\n",
       "      <td>Chicago</td>\n",
       "      <td>NaN</td>\n",
       "      <td>121.0</td>\n",
       "      <td>0</td>\n",
       "    </tr>\n",
       "  </tbody>\n",
       "</table>\n",
       "</div>"
      ],
      "text/plain": [
       "          city  cgpa     iq  placement\n",
       "0     New York   6.8  123.0          1\n",
       "1  Los Angeles   5.9  106.0          0\n",
       "2      Chicago   NaN  121.0          0"
      ]
     },
     "execution_count": 3,
     "metadata": {},
     "output_type": "execute_result"
    }
   ],
   "source": [
    "dataset = pd.read_csv(\"/kaggle/input/college-placement/placement-dataset.csv\")\n",
    "dataset.head(3)"
   ]
  },
  {
   "cell_type": "code",
   "execution_count": 4,
   "id": "101c0036",
   "metadata": {
    "execution": {
     "iopub.execute_input": "2025-07-18T02:01:46.604410Z",
     "iopub.status.busy": "2025-07-18T02:01:46.604090Z",
     "iopub.status.idle": "2025-07-18T02:01:46.612496Z",
     "shell.execute_reply": "2025-07-18T02:01:46.611622Z"
    },
    "papermill": {
     "duration": 0.014176,
     "end_time": "2025-07-18T02:01:46.613966",
     "exception": false,
     "start_time": "2025-07-18T02:01:46.599790",
     "status": "completed"
    },
    "tags": []
   },
   "outputs": [
    {
     "data": {
      "text/plain": [
       "city         0\n",
       "cgpa         8\n",
       "iq           4\n",
       "placement    0\n",
       "dtype: int64"
      ]
     },
     "execution_count": 4,
     "metadata": {},
     "output_type": "execute_result"
    }
   ],
   "source": [
    "dataset.isnull().sum()"
   ]
  },
  {
   "cell_type": "code",
   "execution_count": 5,
   "id": "40f0d420",
   "metadata": {
    "execution": {
     "iopub.execute_input": "2025-07-18T02:01:46.622006Z",
     "iopub.status.busy": "2025-07-18T02:01:46.621594Z",
     "iopub.status.idle": "2025-07-18T02:01:46.631658Z",
     "shell.execute_reply": "2025-07-18T02:01:46.630907Z"
    },
    "papermill": {
     "duration": 0.015518,
     "end_time": "2025-07-18T02:01:46.632997",
     "exception": false,
     "start_time": "2025-07-18T02:01:46.617479",
     "status": "completed"
    },
    "tags": []
   },
   "outputs": [],
   "source": [
    "dataset.dropna(inplace=True)"
   ]
  },
  {
   "cell_type": "code",
   "execution_count": 6,
   "id": "643bb133",
   "metadata": {
    "execution": {
     "iopub.execute_input": "2025-07-18T02:01:46.640732Z",
     "iopub.status.busy": "2025-07-18T02:01:46.640415Z",
     "iopub.status.idle": "2025-07-18T02:01:47.101343Z",
     "shell.execute_reply": "2025-07-18T02:01:47.100462Z"
    },
    "papermill": {
     "duration": 0.466361,
     "end_time": "2025-07-18T02:01:47.102831",
     "exception": false,
     "start_time": "2025-07-18T02:01:46.636470",
     "status": "completed"
    },
    "tags": []
   },
   "outputs": [
    {
     "data": {
      "text/plain": [
       "<Axes: xlabel='cgpa', ylabel='iq'>"
      ]
     },
     "execution_count": 6,
     "metadata": {},
     "output_type": "execute_result"
    },
    {
     "data": {
      "image/png": "[encoded data removed]",
      "text/plain": [
       "<Figure size 640x480 with 1 Axes>"
      ]
     },
     "metadata": {},
     "output_type": "display_data"
    }
   ],
   "source": [
    "sns.scatterplot(x=\"cgpa\",y=\"iq\",hue=\"placement\",data=dataset)"
   ]
  },
  {
   "cell_type": "code",
   "execution_count": 7,
   "id": "45481cb3",
   "metadata": {
    "execution": {
     "iopub.execute_input": "2025-07-18T02:01:47.111865Z",
     "iopub.status.busy": "2025-07-18T02:01:47.111575Z",
     "iopub.status.idle": "2025-07-18T02:01:47.117165Z",
     "shell.execute_reply": "2025-07-18T02:01:47.116300Z"
    },
    "papermill": {
     "duration": 0.011743,
     "end_time": "2025-07-18T02:01:47.118707",
     "exception": false,
     "start_time": "2025-07-18T02:01:47.106964",
     "status": "completed"
    },
    "tags": []
   },
   "outputs": [],
   "source": [
    "x = dataset[[\"cgpa\",\"iq\"]]\n",
    "y = dataset[\"placement\"]"
   ]
  },
  {
   "cell_type": "code",
   "execution_count": 8,
   "id": "fe1fd903",
   "metadata": {
    "execution": {
     "iopub.execute_input": "2025-07-18T02:01:47.127539Z",
     "iopub.status.busy": "2025-07-18T02:01:47.126986Z",
     "iopub.status.idle": "2025-07-18T02:01:47.434920Z",
     "shell.execute_reply": "2025-07-18T02:01:47.434111Z"
    },
    "papermill": {
     "duration": 0.314009,
     "end_time": "2025-07-18T02:01:47.436592",
     "exception": false,
     "start_time": "2025-07-18T02:01:47.122583",
     "status": "completed"
    },
    "tags": []
   },
   "outputs": [],
   "source": [
    "from sklearn.model_selection import train_test_split\n",
    "x_train,x_test,y_train,y_test = train_test_split(x,y,test_size=0.2,random_state=42)"
   ]
  },
  {
   "cell_type": "code",
   "execution_count": 9,
   "id": "8eb5cfe4",
   "metadata": {
    "execution": {
     "iopub.execute_input": "2025-07-18T02:01:47.446395Z",
     "iopub.status.busy": "2025-07-18T02:01:47.445691Z",
     "iopub.status.idle": "2025-07-18T02:01:47.546463Z",
     "shell.execute_reply": "2025-07-18T02:01:47.545425Z"
    },
    "papermill": {
     "duration": 0.107331,
     "end_time": "2025-07-18T02:01:47.548180",
     "exception": false,
     "start_time": "2025-07-18T02:01:47.440849",
     "status": "completed"
    },
    "tags": []
   },
   "outputs": [],
   "source": [
    "from sklearn.svm import SVC \n",
    "sv = SVC(kernel=\"rbf\")"
   ]
  },
  {
   "cell_type": "code",
   "execution_count": 10,
   "id": "e4970431",
   "metadata": {
    "execution": {
     "iopub.execute_input": "2025-07-18T02:01:47.557526Z",
     "iopub.status.busy": "2025-07-18T02:01:47.557168Z",
     "iopub.status.idle": "2025-07-18T02:01:47.573543Z",
     "shell.execute_reply": "2025-07-18T02:01:47.572639Z"
    },
    "papermill": {
     "duration": 0.022612,
     "end_time": "2025-07-18T02:01:47.574960",
     "exception": false,
     "start_time": "2025-07-18T02:01:47.552348",
     "status": "completed"
    },
    "tags": []
   },
   "outputs": [
    {
     "data": {
      "text/html": [
       "<style>#sk-container-id-1 {color: black;background-color: white;}#sk-container-id-1 pre{padding: 0;}#sk-container-id-1 div.sk-toggleable {background-color: white;}#sk-container-id-1 label.sk-toggleable__label {cursor: pointer;display: block;width: 100%;margin-bottom: 0;padding: 0.3em;box-sizing: border-box;text-align: center;}#sk-container-id-1 label.sk-toggleable__label-arrow:before {content: \"▸\";float: left;margin-right: 0.25em;color: #696969;}#sk-container-id-1 label.sk-toggleable__label-arrow:hover:before {color: black;}#sk-container-id-1 div.sk-estimator:hover label.sk-toggleable__label-arrow:before {color: black;}#sk-container-id-1 div.sk-toggleable__content {max-height: 0;max-width: 0;overflow: hidden;text-align: left;background-color: #f0f8ff;}#sk-container-id-1 div.sk-toggleable__content pre {margin: 0.2em;color: black;border-radius: 0.25em;background-color: #f0f8ff;}#sk-container-id-1 input.sk-toggleable__control:checked~div.sk-toggleable__content {max-height: 200px;max-width: 100%;overflow: auto;}#sk-container-id-1 input.sk-toggleable__control:checked~label.sk-toggleable__label-arrow:before {content: \"▾\";}#sk-container-id-1 div.sk-estimator input.sk-toggleable__control:checked~label.sk-toggleable__label {background-color: #d4ebff;}#sk-container-id-1 div.sk-label input.sk-toggleable__control:checked~label.sk-toggleable__label {background-color: #d4ebff;}#sk-container-id-1 input.sk-hidden--visually {border: 0;clip: rect(1px 1px 1px 1px);clip: rect(1px, 1px, 1px, 1px);height: 1px;margin: -1px;overflow: hidden;padding: 0;position: absolute;width: 1px;}#sk-container-id-1 div.sk-estimator {font-family: monospace;background-color: #f0f8ff;border: 1px dotted black;border-radius: 0.25em;box-sizing: border-box;margin-bottom: 0.5em;}#sk-container-id-1 div.sk-estimator:hover {background-color: #d4ebff;}#sk-container-id-1 div.sk-parallel-item::after {content: \"\";width: 100%;border-bottom: 1px solid gray;flex-grow: 1;}#sk-container-id-1 div.sk-label:hover label.sk-toggleable__label {background-color: #d4ebff;}#sk-container-id-1 div.sk-serial::before {content: \"\";position: absolute;border-left: 1px solid gray;box-sizing: border-box;top: 0;bottom: 0;left: 50%;z-index: 0;}#sk-container-id-1 div.sk-serial {display: flex;flex-direction: column;align-items: center;background-color: white;padding-right: 0.2em;padding-left: 0.2em;position: relative;}#sk-container-id-1 div.sk-item {position: relative;z-index: 1;}#sk-container-id-1 div.sk-parallel {display: flex;align-items: stretch;justify-content: center;background-color: white;position: relative;}#sk-container-id-1 div.sk-item::before, #sk-container-id-1 div.sk-parallel-item::before {content: \"\";position: absolute;border-left: 1px solid gray;box-sizing: border-box;top: 0;bottom: 0;left: 50%;z-index: -1;}#sk-container-id-1 div.sk-parallel-item {display: flex;flex-direction: column;z-index: 1;position: relative;background-color: white;}#sk-container-id-1 div.sk-parallel-item:first-child::after {align-self: flex-end;width: 50%;}#sk-container-id-1 div.sk-parallel-item:last-child::after {align-self: flex-start;width: 50%;}#sk-container-id-1 div.sk-parallel-item:only-child::after {width: 0;}#sk-container-id-1 div.sk-dashed-wrapped {border: 1px dashed gray;margin: 0 0.4em 0.5em 0.4em;box-sizing: border-box;padding-bottom: 0.4em;background-color: white;}#sk-container-id-1 div.sk-label label {font-family: monospace;font-weight: bold;display: inline-block;line-height: 1.2em;}#sk-container-id-1 div.sk-label-container {text-align: center;}#sk-container-id-1 div.sk-container {/* jupyter's `normalize.less` sets `[hidden] { display: none; }` but bootstrap.min.css set `[hidden] { display: none !important; }` so we also need the `!important` here to be able to override the default hidden behavior on the sphinx rendered scikit-learn.org. See: https://github.com/scikit-learn/scikit-learn/issues/21755 */display: inline-block !important;position: relative;}#sk-container-id-1 div.sk-text-repr-fallback {display: none;}</style><div id=\"sk-container-id-1\" class=\"sk-top-container\"><div class=\"sk-text-repr-fallback\"><pre>SVC()</pre><b>In a Jupyter environment, please rerun this cell to show the HTML representation or trust the notebook. <br />On GitHub, the HTML representation is unable to render, please try loading this page with nbviewer.org.</b></div><div class=\"sk-container\" hidden><div class=\"sk-item\"><div class=\"sk-estimator sk-toggleable\"><input class=\"sk-toggleable__control sk-hidden--visually\" id=\"sk-estimator-id-1\" type=\"checkbox\" checked><label for=\"sk-estimator-id-1\" class=\"sk-toggleable__label sk-toggleable__label-arrow\">SVC</label><div class=\"sk-toggleable__content\"><pre>SVC()</pre></div></div></div></div></div>"
      ],
      "text/plain": [
       "SVC()"
      ]
     },
     "execution_count": 10,
     "metadata": {},
     "output_type": "execute_result"
    }
   ],
   "source": [
    "sv.fit(x_train,y_train)"
   ]
  },
  {
   "cell_type": "code",
   "execution_count": 11,
   "id": "297d3572",
   "metadata": {
    "execution": {
     "iopub.execute_input": "2025-07-18T02:01:47.585769Z",
     "iopub.status.busy": "2025-07-18T02:01:47.585483Z",
     "iopub.status.idle": "2025-07-18T02:01:47.593358Z",
     "shell.execute_reply": "2025-07-18T02:01:47.592627Z"
    },
    "papermill": {
     "duration": 0.0138,
     "end_time": "2025-07-18T02:01:47.594494",
     "exception": false,
     "start_time": "2025-07-18T02:01:47.580694",
     "status": "completed"
    },
    "tags": []
   },
   "outputs": [
    {
     "data": {
      "text/plain": [
       "55.714285714285715"
      ]
     },
     "execution_count": 11,
     "metadata": {},
     "output_type": "execute_result"
    }
   ],
   "source": [
    "sv.score(x_train,y_train)*100"
   ]
  },
  {
   "cell_type": "code",
   "execution_count": 12,
   "id": "06b6b31d",
   "metadata": {
    "execution": {
     "iopub.execute_input": "2025-07-18T02:01:47.604288Z",
     "iopub.status.busy": "2025-07-18T02:01:47.603613Z",
     "iopub.status.idle": "2025-07-18T02:01:47.611474Z",
     "shell.execute_reply": "2025-07-18T02:01:47.610560Z"
    },
    "papermill": {
     "duration": 0.014258,
     "end_time": "2025-07-18T02:01:47.612917",
     "exception": false,
     "start_time": "2025-07-18T02:01:47.598659",
     "status": "completed"
    },
    "tags": []
   },
   "outputs": [
    {
     "data": {
      "text/plain": [
       "50.0"
      ]
     },
     "execution_count": 12,
     "metadata": {},
     "output_type": "execute_result"
    }
   ],
   "source": [
    "sv.score(x_test,y_test)*100"
   ]
  },
  {
   "cell_type": "code",
   "execution_count": 13,
   "id": "7b412978",
   "metadata": {
    "execution": {
     "iopub.execute_input": "2025-07-18T02:01:47.623201Z",
     "iopub.status.busy": "2025-07-18T02:01:47.622842Z",
     "iopub.status.idle": "2025-07-18T02:01:47.692850Z",
     "shell.execute_reply": "2025-07-18T02:01:47.692015Z"
    },
    "papermill": {
     "duration": 0.077046,
     "end_time": "2025-07-18T02:01:47.694519",
     "exception": false,
     "start_time": "2025-07-18T02:01:47.617473",
     "status": "completed"
    },
    "tags": []
   },
   "outputs": [],
   "source": [
    "from mlxtend.plotting import plot_decision_regions"
   ]
  },
  {
   "cell_type": "code",
   "execution_count": 14,
   "id": "1a0d8b79",
   "metadata": {
    "execution": {
     "iopub.execute_input": "2025-07-18T02:01:47.704532Z",
     "iopub.status.busy": "2025-07-18T02:01:47.703846Z",
     "iopub.status.idle": "2025-07-18T02:01:48.949194Z",
     "shell.execute_reply": "2025-07-18T02:01:48.948209Z"
    },
    "papermill": {
     "duration": 1.251995,
     "end_time": "2025-07-18T02:01:48.950866",
     "exception": false,
     "start_time": "2025-07-18T02:01:47.698871",
     "status": "completed"
    },
    "tags": []
   },
   "outputs": [
    {
     "name": "stderr",
     "output_type": "stream",
     "text": [
      "/usr/local/lib/python3.11/dist-packages/sklearn/base.py:439: UserWarning: X does not have valid feature names, but SVC was fitted with feature names\n",
      "  warnings.warn(\n"
     ]
    },
    {
     "data": {
      "text/plain": [
       "<Axes: >"
      ]
     },
     "execution_count": 14,
     "metadata": {},
     "output_type": "execute_result"
    },
    {
     "data": {
      "image/png": "[encoded data removed]",
      "text/plain": [
       "<Figure size 640x480 with 1 Axes>"
      ]
     },
     "metadata": {},
     "output_type": "display_data"
    }
   ],
   "source": [
    "plot_decision_regions(x.to_numpy(),y.to_numpy(),clf=sv)"
   ]
  },
  {
   "cell_type": "code",
   "execution_count": null,
   "id": "fd1d0fbd",
   "metadata": {
    "papermill": {
     "duration": 0.004978,
     "end_time": "2025-07-18T02:01:48.961384",
     "exception": false,
     "start_time": "2025-07-18T02:01:48.956406",
     "status": "completed"
    },
    "tags": []
   },
   "outputs": [],
   "source": []
  }
 ],
 "metadata": {
  "kaggle": {
   "accelerator": "none",
   "dataSources": [
    {
     "datasetId": 4534488,
     "sourceId": 7754914,
     "sourceType": "datasetVersion"
    }
   ],
   "dockerImageVersionId": 31089,
   "isGpuEnabled": false,
   "isInternetEnabled": true,
   "language": "python",
   "sourceType": "notebook"
  },
  "kernelspec": {
   "display_name": "Python 3",
   "language": "python",
   "name": "python3"
  },
  "language_info": {
   "codemirror_mode": {
    "name": "ipython",
    "version": 3
   },
   "file_extension": ".py",
   "mimetype": "text/x-python",
   "name": "python",
   "nbconvert_exporter": "python",
   "pygments_lexer": "ipython3",
   "version": "3.11.13"
  },
  "papermill": {
   "default_parameters": {},
   "duration": 11.574587,
   "end_time": "2025-07-18T02:01:49.686481",
   "environment_variables": {},
   "exception": null,
   "input_path": "__notebook__.ipynb",
   "output_path": "__notebook__.ipynb",
   "parameters": {},
   "start_time": "2025-07-18T02:01:38.111894",
   "version": "2.6.0"
  }
 },
 "nbformat": 4,
 "nbformat_minor": 5
}

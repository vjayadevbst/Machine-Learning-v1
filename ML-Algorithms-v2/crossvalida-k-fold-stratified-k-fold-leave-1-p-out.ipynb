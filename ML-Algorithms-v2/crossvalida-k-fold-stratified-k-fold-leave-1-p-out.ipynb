{
 "cells": [
  {
   "cell_type": "code",
   "execution_count": 1,
   "id": "a393000a",
   "metadata": {
    "_cell_guid": "b1076dfc-b9ad-4769-8c92-a6c4dae69d19",
    "_uuid": "8f2839f25d086af736a60e9eeb907d3b93b6e0e5",
    "execution": {
     "iopub.execute_input": "2025-07-18T06:04:29.264499Z",
     "iopub.status.busy": "2025-07-18T06:04:29.264149Z",
     "iopub.status.idle": "2025-07-18T06:04:31.167782Z",
     "shell.execute_reply": "2025-07-18T06:04:31.166673Z"
    },
    "papermill": {
     "duration": 1.910376,
     "end_time": "2025-07-18T06:04:31.169751",
     "exception": false,
     "start_time": "2025-07-18T06:04:29.259375",
     "status": "completed"
    },
    "tags": []
   },
   "outputs": [
    {
     "name": "stdout",
     "output_type": "stream",
     "text": [
      "/kaggle/input/cgpa-vs-package-in-lpa/placement.csv\n"
     ]
    }
   ],
   "source": [
    "# This Python 3 environment comes with many helpful analytics libraries installed\n",
    "# It is defined by the kaggle/python Docker image: https://github.com/kaggle/docker-python\n",
    "# For example, here's several helpful packages to load\n",
    "\n",
    "import numpy as np # linear algebra\n",
    "import pandas as pd # data processing, CSV file I/O (e.g. pd.read_csv)\n",
    "\n",
    "# Input data files are available in the read-only \"../input/\" directory\n",
    "# For example, running this (by clicking run or pressing Shift+Enter) will list all files under the input directory\n",
    "\n",
    "import os\n",
    "for dirname, _, filenames in os.walk('/kaggle/input'):\n",
    "    for filename in filenames:\n",
    "        print(os.path.join(dirname, filename))\n",
    "\n",
    "# You can write up to 20GB to the current directory (/kaggle/working/) that gets preserved as output when you create a version using \"Save & Run All\" \n",
    "# You can also write temporary files to /kaggle/temp/, but they won't be saved outside of the current session"
   ]
  },
  {
   "cell_type": "code",
   "execution_count": 2,
   "id": "5828d304",
   "metadata": {
    "execution": {
     "iopub.execute_input": "2025-07-18T06:04:31.177687Z",
     "iopub.status.busy": "2025-07-18T06:04:31.177163Z",
     "iopub.status.idle": "2025-07-18T06:04:33.122210Z",
     "shell.execute_reply": "2025-07-18T06:04:33.121226Z"
    },
    "papermill": {
     "duration": 1.950686,
     "end_time": "2025-07-18T06:04:33.123973",
     "exception": false,
     "start_time": "2025-07-18T06:04:31.173287",
     "status": "completed"
    },
    "tags": []
   },
   "outputs": [],
   "source": [
    "import pandas as pd\n",
    "import seaborn as sns\n",
    "import matplotlib.pyplot as plt \n"
   ]
  },
  {
   "cell_type": "code",
   "execution_count": 3,
   "id": "8a5e26e9",
   "metadata": {
    "execution": {
     "iopub.execute_input": "2025-07-18T06:04:33.131504Z",
     "iopub.status.busy": "2025-07-18T06:04:33.131057Z",
     "iopub.status.idle": "2025-07-18T06:04:33.172329Z",
     "shell.execute_reply": "2025-07-18T06:04:33.171363Z"
    },
    "papermill": {
     "duration": 0.046633,
     "end_time": "2025-07-18T06:04:33.173834",
     "exception": false,
     "start_time": "2025-07-18T06:04:33.127201",
     "status": "completed"
    },
    "tags": []
   },
   "outputs": [
    {
     "data": {
      "text/html": [
       "<div>\n",
       "<style scoped>\n",
       "    .dataframe tbody tr th:only-of-type {\n",
       "        vertical-align: middle;\n",
       "    }\n",
       "\n",
       "    .dataframe tbody tr th {\n",
       "        vertical-align: top;\n",
       "    }\n",
       "\n",
       "    .dataframe thead th {\n",
       "        text-align: right;\n",
       "    }\n",
       "</style>\n",
       "<table border=\"1\" class=\"dataframe\">\n",
       "  <thead>\n",
       "    <tr style=\"text-align: right;\">\n",
       "      <th></th>\n",
       "      <th>cgpa</th>\n",
       "      <th>package</th>\n",
       "    </tr>\n",
       "  </thead>\n",
       "  <tbody>\n",
       "    <tr>\n",
       "      <th>0</th>\n",
       "      <td>6.89</td>\n",
       "      <td>3.26</td>\n",
       "    </tr>\n",
       "    <tr>\n",
       "      <th>1</th>\n",
       "      <td>5.12</td>\n",
       "      <td>1.98</td>\n",
       "    </tr>\n",
       "    <tr>\n",
       "      <th>2</th>\n",
       "      <td>7.82</td>\n",
       "      <td>3.25</td>\n",
       "    </tr>\n",
       "    <tr>\n",
       "      <th>3</th>\n",
       "      <td>7.42</td>\n",
       "      <td>3.67</td>\n",
       "    </tr>\n",
       "    <tr>\n",
       "      <th>4</th>\n",
       "      <td>6.94</td>\n",
       "      <td>3.57</td>\n",
       "    </tr>\n",
       "    <tr>\n",
       "      <th>...</th>\n",
       "      <td>...</td>\n",
       "      <td>...</td>\n",
       "    </tr>\n",
       "    <tr>\n",
       "      <th>195</th>\n",
       "      <td>6.93</td>\n",
       "      <td>2.46</td>\n",
       "    </tr>\n",
       "    <tr>\n",
       "      <th>196</th>\n",
       "      <td>5.89</td>\n",
       "      <td>2.57</td>\n",
       "    </tr>\n",
       "    <tr>\n",
       "      <th>197</th>\n",
       "      <td>7.21</td>\n",
       "      <td>3.24</td>\n",
       "    </tr>\n",
       "    <tr>\n",
       "      <th>198</th>\n",
       "      <td>7.63</td>\n",
       "      <td>3.96</td>\n",
       "    </tr>\n",
       "    <tr>\n",
       "      <th>199</th>\n",
       "      <td>6.22</td>\n",
       "      <td>2.33</td>\n",
       "    </tr>\n",
       "  </tbody>\n",
       "</table>\n",
       "<p>200 rows × 2 columns</p>\n",
       "</div>"
      ],
      "text/plain": [
       "     cgpa  package\n",
       "0    6.89     3.26\n",
       "1    5.12     1.98\n",
       "2    7.82     3.25\n",
       "3    7.42     3.67\n",
       "4    6.94     3.57\n",
       "..    ...      ...\n",
       "195  6.93     2.46\n",
       "196  5.89     2.57\n",
       "197  7.21     3.24\n",
       "198  7.63     3.96\n",
       "199  6.22     2.33\n",
       "\n",
       "[200 rows x 2 columns]"
      ]
     },
     "execution_count": 3,
     "metadata": {},
     "output_type": "execute_result"
    }
   ],
   "source": [
    "dataset = pd.read_csv(\"/kaggle/input/cgpa-vs-package-in-lpa/placement.csv\")\n",
    "dataset"
   ]
  },
  {
   "cell_type": "code",
   "execution_count": 4,
   "id": "9446059d",
   "metadata": {
    "execution": {
     "iopub.execute_input": "2025-07-18T06:04:33.184597Z",
     "iopub.status.busy": "2025-07-18T06:04:33.183633Z",
     "iopub.status.idle": "2025-07-18T06:04:33.196904Z",
     "shell.execute_reply": "2025-07-18T06:04:33.195957Z"
    },
    "papermill": {
     "duration": 0.020873,
     "end_time": "2025-07-18T06:04:33.199011",
     "exception": false,
     "start_time": "2025-07-18T06:04:33.178138",
     "status": "completed"
    },
    "tags": []
   },
   "outputs": [
    {
     "data": {
      "text/html": [
       "<div>\n",
       "<style scoped>\n",
       "    .dataframe tbody tr th:only-of-type {\n",
       "        vertical-align: middle;\n",
       "    }\n",
       "\n",
       "    .dataframe tbody tr th {\n",
       "        vertical-align: top;\n",
       "    }\n",
       "\n",
       "    .dataframe thead th {\n",
       "        text-align: right;\n",
       "    }\n",
       "</style>\n",
       "<table border=\"1\" class=\"dataframe\">\n",
       "  <thead>\n",
       "    <tr style=\"text-align: right;\">\n",
       "      <th></th>\n",
       "      <th>cgpa</th>\n",
       "      <th>package</th>\n",
       "    </tr>\n",
       "  </thead>\n",
       "  <tbody>\n",
       "    <tr>\n",
       "      <th>0</th>\n",
       "      <td>6.89</td>\n",
       "      <td>3.26</td>\n",
       "    </tr>\n",
       "    <tr>\n",
       "      <th>1</th>\n",
       "      <td>5.12</td>\n",
       "      <td>1.98</td>\n",
       "    </tr>\n",
       "    <tr>\n",
       "      <th>2</th>\n",
       "      <td>7.82</td>\n",
       "      <td>3.25</td>\n",
       "    </tr>\n",
       "    <tr>\n",
       "      <th>3</th>\n",
       "      <td>7.42</td>\n",
       "      <td>3.67</td>\n",
       "    </tr>\n",
       "    <tr>\n",
       "      <th>4</th>\n",
       "      <td>6.94</td>\n",
       "      <td>3.57</td>\n",
       "    </tr>\n",
       "    <tr>\n",
       "      <th>5</th>\n",
       "      <td>7.89</td>\n",
       "      <td>2.99</td>\n",
       "    </tr>\n",
       "    <tr>\n",
       "      <th>6</th>\n",
       "      <td>6.73</td>\n",
       "      <td>2.60</td>\n",
       "    </tr>\n",
       "    <tr>\n",
       "      <th>7</th>\n",
       "      <td>6.75</td>\n",
       "      <td>2.48</td>\n",
       "    </tr>\n",
       "    <tr>\n",
       "      <th>8</th>\n",
       "      <td>6.09</td>\n",
       "      <td>2.31</td>\n",
       "    </tr>\n",
       "    <tr>\n",
       "      <th>9</th>\n",
       "      <td>8.31</td>\n",
       "      <td>3.51</td>\n",
       "    </tr>\n",
       "  </tbody>\n",
       "</table>\n",
       "</div>"
      ],
      "text/plain": [
       "   cgpa  package\n",
       "0  6.89     3.26\n",
       "1  5.12     1.98\n",
       "2  7.82     3.25\n",
       "3  7.42     3.67\n",
       "4  6.94     3.57\n",
       "5  7.89     2.99\n",
       "6  6.73     2.60\n",
       "7  6.75     2.48\n",
       "8  6.09     2.31\n",
       "9  8.31     3.51"
      ]
     },
     "execution_count": 4,
     "metadata": {},
     "output_type": "execute_result"
    }
   ],
   "source": [
    "new_data = dataset.head(10)\n",
    "new_data"
   ]
  },
  {
   "cell_type": "code",
   "execution_count": 5,
   "id": "eced8cd1",
   "metadata": {
    "execution": {
     "iopub.execute_input": "2025-07-18T06:04:33.207985Z",
     "iopub.status.busy": "2025-07-18T06:04:33.207154Z",
     "iopub.status.idle": "2025-07-18T06:04:33.214450Z",
     "shell.execute_reply": "2025-07-18T06:04:33.213347Z"
    },
    "papermill": {
     "duration": 0.013534,
     "end_time": "2025-07-18T06:04:33.216292",
     "exception": false,
     "start_time": "2025-07-18T06:04:33.202758",
     "status": "completed"
    },
    "tags": []
   },
   "outputs": [],
   "source": [
    "x = dataset.iloc[:,:-1]\n",
    "y = dataset[\"package\"]\n"
   ]
  },
  {
   "cell_type": "code",
   "execution_count": 6,
   "id": "892136a8",
   "metadata": {
    "execution": {
     "iopub.execute_input": "2025-07-18T06:04:33.229965Z",
     "iopub.status.busy": "2025-07-18T06:04:33.228851Z",
     "iopub.status.idle": "2025-07-18T06:04:33.775506Z",
     "shell.execute_reply": "2025-07-18T06:04:33.774527Z"
    },
    "papermill": {
     "duration": 0.555227,
     "end_time": "2025-07-18T06:04:33.777250",
     "exception": false,
     "start_time": "2025-07-18T06:04:33.222023",
     "status": "completed"
    },
    "tags": []
   },
   "outputs": [],
   "source": [
    "from sklearn.model_selection import LeaveOneOut, LeavePOut, KFold,StratifiedKFold"
   ]
  },
  {
   "cell_type": "code",
   "execution_count": 7,
   "id": "8f998bd4",
   "metadata": {
    "execution": {
     "iopub.execute_input": "2025-07-18T06:04:33.785475Z",
     "iopub.status.busy": "2025-07-18T06:04:33.785115Z",
     "iopub.status.idle": "2025-07-18T06:04:33.884409Z",
     "shell.execute_reply": "2025-07-18T06:04:33.883581Z"
    },
    "papermill": {
     "duration": 0.105189,
     "end_time": "2025-07-18T06:04:33.886003",
     "exception": false,
     "start_time": "2025-07-18T06:04:33.780814",
     "status": "completed"
    },
    "tags": []
   },
   "outputs": [],
   "source": [
    "from sklearn.linear_model import LinearRegression"
   ]
  },
  {
   "cell_type": "code",
   "execution_count": 8,
   "id": "323869f1",
   "metadata": {
    "execution": {
     "iopub.execute_input": "2025-07-18T06:04:33.894989Z",
     "iopub.status.busy": "2025-07-18T06:04:33.893831Z",
     "iopub.status.idle": "2025-07-18T06:04:33.899327Z",
     "shell.execute_reply": "2025-07-18T06:04:33.897930Z"
    },
    "papermill": {
     "duration": 0.011749,
     "end_time": "2025-07-18T06:04:33.901240",
     "exception": false,
     "start_time": "2025-07-18T06:04:33.889491",
     "status": "completed"
    },
    "tags": []
   },
   "outputs": [],
   "source": [
    "from sklearn.model_selection import cross_val_score"
   ]
  },
  {
   "cell_type": "code",
   "execution_count": 9,
   "id": "5ede092e",
   "metadata": {
    "execution": {
     "iopub.execute_input": "2025-07-18T06:04:33.909875Z",
     "iopub.status.busy": "2025-07-18T06:04:33.909558Z",
     "iopub.status.idle": "2025-07-18T06:04:33.973856Z",
     "shell.execute_reply": "2025-07-18T06:04:33.973007Z"
    },
    "papermill": {
     "duration": 0.0704,
     "end_time": "2025-07-18T06:04:33.975539",
     "exception": false,
     "start_time": "2025-07-18T06:04:33.905139",
     "status": "completed"
    },
    "tags": []
   },
   "outputs": [],
   "source": [
    "p = cross_val_score(LinearRegression(),x,y,cv= KFold(n_splits=10))"
   ]
  },
  {
   "cell_type": "code",
   "execution_count": 10,
   "id": "43a7bdd9",
   "metadata": {
    "execution": {
     "iopub.execute_input": "2025-07-18T06:04:33.983928Z",
     "iopub.status.busy": "2025-07-18T06:04:33.983573Z",
     "iopub.status.idle": "2025-07-18T06:04:33.989624Z",
     "shell.execute_reply": "2025-07-18T06:04:33.988694Z"
    },
    "papermill": {
     "duration": 0.012109,
     "end_time": "2025-07-18T06:04:33.991243",
     "exception": false,
     "start_time": "2025-07-18T06:04:33.979134",
     "status": "completed"
    },
    "tags": []
   },
   "outputs": [
    {
     "data": {
      "text/plain": [
       "array([0.60480008, 0.65675401, 0.67205239, 0.69890411, 0.73505991,\n",
       "       0.74376167, 0.80318103, 0.82098636, 0.82647996, 0.83963336])"
      ]
     },
     "execution_count": 10,
     "metadata": {},
     "output_type": "execute_result"
    }
   ],
   "source": [
    "p.sort()\n",
    "p"
   ]
  },
  {
   "cell_type": "code",
   "execution_count": 11,
   "id": "29274a96",
   "metadata": {
    "execution": {
     "iopub.execute_input": "2025-07-18T06:04:33.999584Z",
     "iopub.status.busy": "2025-07-18T06:04:33.999234Z",
     "iopub.status.idle": "2025-07-18T06:04:34.004198Z",
     "shell.execute_reply": "2025-07-18T06:04:34.003187Z"
    },
    "papermill": {
     "duration": 0.010882,
     "end_time": "2025-07-18T06:04:34.005779",
     "exception": false,
     "start_time": "2025-07-18T06:04:33.994897",
     "status": "completed"
    },
    "tags": []
   },
   "outputs": [],
   "source": [
    "x_new = new_data.iloc[:,:-1]\n",
    "y_new = new_data[\"package\"]\n",
    " "
   ]
  },
  {
   "cell_type": "code",
   "execution_count": 12,
   "id": "a7007f18",
   "metadata": {
    "execution": {
     "iopub.execute_input": "2025-07-18T06:04:34.013891Z",
     "iopub.status.busy": "2025-07-18T06:04:34.013576Z",
     "iopub.status.idle": "2025-07-18T06:04:34.017864Z",
     "shell.execute_reply": "2025-07-18T06:04:34.016961Z"
    },
    "papermill": {
     "duration": 0.010085,
     "end_time": "2025-07-18T06:04:34.019412",
     "exception": false,
     "start_time": "2025-07-18T06:04:34.009327",
     "status": "completed"
    },
    "tags": []
   },
   "outputs": [],
   "source": [
    "from sklearn.model_selection import LeaveOneOut, LeavePOut, KFold,StratifiedKFold"
   ]
  },
  {
   "cell_type": "code",
   "execution_count": 13,
   "id": "ae45861d",
   "metadata": {
    "execution": {
     "iopub.execute_input": "2025-07-18T06:04:34.028585Z",
     "iopub.status.busy": "2025-07-18T06:04:34.028230Z",
     "iopub.status.idle": "2025-07-18T06:04:34.035757Z",
     "shell.execute_reply": "2025-07-18T06:04:34.034507Z"
    },
    "papermill": {
     "duration": 0.013377,
     "end_time": "2025-07-18T06:04:34.037258",
     "exception": false,
     "start_time": "2025-07-18T06:04:34.023881",
     "status": "completed"
    },
    "tags": []
   },
   "outputs": [
    {
     "name": "stdout",
     "output_type": "stream",
     "text": [
      "[2 3 4 5 6 7 8 9] [0 1]\n",
      "[0 1 4 5 6 7 8 9] [2 3]\n",
      "[0 1 2 3 6 7 8 9] [4 5]\n",
      "[0 1 2 3 4 5 8 9] [6 7]\n",
      "[0 1 2 3 4 5 6 7] [8 9]\n"
     ]
    }
   ],
   "source": [
    "lo = KFold(n_splits =5)\n",
    "\n",
    "for train,test in lo.split(x_new,y_new):\n",
    "    print(train,test)"
   ]
  },
  {
   "cell_type": "code",
   "execution_count": null,
   "id": "023c0515",
   "metadata": {
    "papermill": {
     "duration": 0.003255,
     "end_time": "2025-07-18T06:04:34.044138",
     "exception": false,
     "start_time": "2025-07-18T06:04:34.040883",
     "status": "completed"
    },
    "tags": []
   },
   "outputs": [],
   "source": []
  }
 ],
 "metadata": {
  "kaggle": {
   "accelerator": "none",
   "dataSources": [
    {
     "datasetId": 2517888,
     "sourceId": 4273460,
     "sourceType": "datasetVersion"
    }
   ],
   "dockerImageVersionId": 31089,
   "isGpuEnabled": false,
   "isInternetEnabled": true,
   "language": "python",
   "sourceType": "notebook"
  },
  "kernelspec": {
   "display_name": "Python 3",
   "language": "python",
   "name": "python3"
  },
  "language_info": {
   "codemirror_mode": {
    "name": "ipython",
    "version": 3
   },
   "file_extension": ".py",
   "mimetype": "text/x-python",
   "name": "python",
   "nbconvert_exporter": "python",
   "pygments_lexer": "ipython3",
   "version": "3.11.13"
  },
  "papermill": {
   "default_parameters": {},
   "duration": 10.383838,
   "end_time": "2025-07-18T06:04:34.768104",
   "environment_variables": {},
   "exception": null,
   "input_path": "__notebook__.ipynb",
   "output_path": "__notebook__.ipynb",
   "parameters": {},
   "start_time": "2025-07-18T06:04:24.384266",
   "version": "2.6.0"
  }
 },
 "nbformat": 4,
 "nbformat_minor": 5
}

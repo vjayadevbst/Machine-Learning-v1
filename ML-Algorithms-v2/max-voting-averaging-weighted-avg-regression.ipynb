{
 "cells": [
  {
   "cell_type": "code",
   "execution_count": 1,
   "id": "1cf41458",
   "metadata": {
    "_cell_guid": "b1076dfc-b9ad-4769-8c92-a6c4dae69d19",
    "_uuid": "8f2839f25d086af736a60e9eeb907d3b93b6e0e5",
    "execution": {
     "iopub.execute_input": "2025-07-18T20:36:06.261457Z",
     "iopub.status.busy": "2025-07-18T20:36:06.261063Z",
     "iopub.status.idle": "2025-07-18T20:36:08.005944Z",
     "shell.execute_reply": "2025-07-18T20:36:08.004977Z"
    },
    "papermill": {
     "duration": 1.752738,
     "end_time": "2025-07-18T20:36:08.007725",
     "exception": false,
     "start_time": "2025-07-18T20:36:06.254987",
     "status": "completed"
    },
    "tags": []
   },
   "outputs": [],
   "source": [
    "# This Python 3 environment comes with many helpful analytics libraries installed\n",
    "# It is defined by the kaggle/python Docker image: https://github.com/kaggle/docker-python\n",
    "# For example, here's several helpful packages to load\n",
    "\n",
    "import numpy as np # linear algebra\n",
    "import pandas as pd # data processing, CSV file I/O (e.g. pd.read_csv)\n",
    "\n",
    "# Input data files are available in the read-only \"../input/\" directory\n",
    "# For example, running this (by clicking run or pressing Shift+Enter) will list all files under the input directory\n",
    "\n",
    "import os\n",
    "for dirname, _, filenames in os.walk('/kaggle/input'):\n",
    "    for filename in filenames:\n",
    "        print(os.path.join(dirname, filename))\n",
    "\n",
    "# You can write up to 20GB to the current directory (/kaggle/working/) that gets preserved as output when you create a version using \"Save & Run All\" \n",
    "# You can also write temporary files to /kaggle/temp/, but they won't be saved outside of the current session"
   ]
  },
  {
   "cell_type": "code",
   "execution_count": 2,
   "id": "552362e0",
   "metadata": {
    "execution": {
     "iopub.execute_input": "2025-07-18T20:36:08.018172Z",
     "iopub.status.busy": "2025-07-18T20:36:08.017123Z",
     "iopub.status.idle": "2025-07-18T20:36:10.161049Z",
     "shell.execute_reply": "2025-07-18T20:36:10.160191Z"
    },
    "papermill": {
     "duration": 2.150491,
     "end_time": "2025-07-18T20:36:10.162705",
     "exception": false,
     "start_time": "2025-07-18T20:36:08.012214",
     "status": "completed"
    },
    "tags": []
   },
   "outputs": [],
   "source": [
    "import pandas as pd \n",
    "import seaborn as sns\n",
    "import matplotlib.pyplot as plt \n",
    "from sklearn.datasets import make_moons"
   ]
  },
  {
   "cell_type": "code",
   "execution_count": 3,
   "id": "38919326",
   "metadata": {
    "execution": {
     "iopub.execute_input": "2025-07-18T20:36:10.172537Z",
     "iopub.status.busy": "2025-07-18T20:36:10.172063Z",
     "iopub.status.idle": "2025-07-18T20:36:10.197842Z",
     "shell.execute_reply": "2025-07-18T20:36:10.196922Z"
    },
    "papermill": {
     "duration": 0.032347,
     "end_time": "2025-07-18T20:36:10.199373",
     "exception": false,
     "start_time": "2025-07-18T20:36:10.167026",
     "status": "completed"
    },
    "tags": []
   },
   "outputs": [],
   "source": [
    "x,y = make_moons(n_samples=400,noise=0.01)\n"
   ]
  },
  {
   "cell_type": "code",
   "execution_count": 4,
   "id": "bbd2bc61",
   "metadata": {
    "execution": {
     "iopub.execute_input": "2025-07-18T20:36:10.208884Z",
     "iopub.status.busy": "2025-07-18T20:36:10.208506Z",
     "iopub.status.idle": "2025-07-18T20:36:10.213096Z",
     "shell.execute_reply": "2025-07-18T20:36:10.212235Z"
    },
    "papermill": {
     "duration": 0.010905,
     "end_time": "2025-07-18T20:36:10.214502",
     "exception": false,
     "start_time": "2025-07-18T20:36:10.203597",
     "status": "completed"
    },
    "tags": []
   },
   "outputs": [],
   "source": [
    "df = {\"x1\":x[:,0],\"x2\":x[:,1],\"y\":y}"
   ]
  },
  {
   "cell_type": "code",
   "execution_count": null,
   "id": "bd71c63d",
   "metadata": {
    "papermill": {
     "duration": 0.003752,
     "end_time": "2025-07-18T20:36:10.222333",
     "exception": false,
     "start_time": "2025-07-18T20:36:10.218581",
     "status": "completed"
    },
    "tags": []
   },
   "outputs": [],
   "source": []
  },
  {
   "cell_type": "code",
   "execution_count": 5,
   "id": "9dfcf631",
   "metadata": {
    "execution": {
     "iopub.execute_input": "2025-07-18T20:36:10.231585Z",
     "iopub.status.busy": "2025-07-18T20:36:10.231300Z",
     "iopub.status.idle": "2025-07-18T20:36:10.263083Z",
     "shell.execute_reply": "2025-07-18T20:36:10.262175Z"
    },
    "papermill": {
     "duration": 0.03816,
     "end_time": "2025-07-18T20:36:10.264662",
     "exception": false,
     "start_time": "2025-07-18T20:36:10.226502",
     "status": "completed"
    },
    "tags": []
   },
   "outputs": [
    {
     "data": {
      "text/html": [
       "<div>\n",
       "<style scoped>\n",
       "    .dataframe tbody tr th:only-of-type {\n",
       "        vertical-align: middle;\n",
       "    }\n",
       "\n",
       "    .dataframe tbody tr th {\n",
       "        vertical-align: top;\n",
       "    }\n",
       "\n",
       "    .dataframe thead th {\n",
       "        text-align: right;\n",
       "    }\n",
       "</style>\n",
       "<table border=\"1\" class=\"dataframe\">\n",
       "  <thead>\n",
       "    <tr style=\"text-align: right;\">\n",
       "      <th></th>\n",
       "      <th>x1</th>\n",
       "      <th>x2</th>\n",
       "      <th>y</th>\n",
       "    </tr>\n",
       "  </thead>\n",
       "  <tbody>\n",
       "    <tr>\n",
       "      <th>0</th>\n",
       "      <td>0.389502</td>\n",
       "      <td>-0.296595</td>\n",
       "      <td>1</td>\n",
       "    </tr>\n",
       "    <tr>\n",
       "      <th>1</th>\n",
       "      <td>1.080784</td>\n",
       "      <td>-0.505007</td>\n",
       "      <td>1</td>\n",
       "    </tr>\n",
       "    <tr>\n",
       "      <th>2</th>\n",
       "      <td>-0.333573</td>\n",
       "      <td>0.952125</td>\n",
       "      <td>0</td>\n",
       "    </tr>\n",
       "    <tr>\n",
       "      <th>3</th>\n",
       "      <td>1.950764</td>\n",
       "      <td>0.204817</td>\n",
       "      <td>1</td>\n",
       "    </tr>\n",
       "    <tr>\n",
       "      <th>4</th>\n",
       "      <td>0.559968</td>\n",
       "      <td>-0.400669</td>\n",
       "      <td>1</td>\n",
       "    </tr>\n",
       "    <tr>\n",
       "      <th>...</th>\n",
       "      <td>...</td>\n",
       "      <td>...</td>\n",
       "      <td>...</td>\n",
       "    </tr>\n",
       "    <tr>\n",
       "      <th>395</th>\n",
       "      <td>0.286332</td>\n",
       "      <td>-0.200173</td>\n",
       "      <td>1</td>\n",
       "    </tr>\n",
       "    <tr>\n",
       "      <th>396</th>\n",
       "      <td>-0.999177</td>\n",
       "      <td>0.194935</td>\n",
       "      <td>0</td>\n",
       "    </tr>\n",
       "    <tr>\n",
       "      <th>397</th>\n",
       "      <td>0.001250</td>\n",
       "      <td>0.388956</td>\n",
       "      <td>1</td>\n",
       "    </tr>\n",
       "    <tr>\n",
       "      <th>398</th>\n",
       "      <td>0.016909</td>\n",
       "      <td>1.009348</td>\n",
       "      <td>0</td>\n",
       "    </tr>\n",
       "    <tr>\n",
       "      <th>399</th>\n",
       "      <td>0.144162</td>\n",
       "      <td>-0.050256</td>\n",
       "      <td>1</td>\n",
       "    </tr>\n",
       "  </tbody>\n",
       "</table>\n",
       "<p>400 rows × 3 columns</p>\n",
       "</div>"
      ],
      "text/plain": [
       "           x1        x2  y\n",
       "0    0.389502 -0.296595  1\n",
       "1    1.080784 -0.505007  1\n",
       "2   -0.333573  0.952125  0\n",
       "3    1.950764  0.204817  1\n",
       "4    0.559968 -0.400669  1\n",
       "..        ...       ... ..\n",
       "395  0.286332 -0.200173  1\n",
       "396 -0.999177  0.194935  0\n",
       "397  0.001250  0.388956  1\n",
       "398  0.016909  1.009348  0\n",
       "399  0.144162 -0.050256  1\n",
       "\n",
       "[400 rows x 3 columns]"
      ]
     },
     "execution_count": 5,
     "metadata": {},
     "output_type": "execute_result"
    }
   ],
   "source": [
    "dataset = pd.DataFrame(df)\n",
    "dataset"
   ]
  },
  {
   "cell_type": "code",
   "execution_count": 6,
   "id": "79d1709e",
   "metadata": {
    "execution": {
     "iopub.execute_input": "2025-07-18T20:36:10.274366Z",
     "iopub.status.busy": "2025-07-18T20:36:10.274096Z",
     "iopub.status.idle": "2025-07-18T20:36:10.285845Z",
     "shell.execute_reply": "2025-07-18T20:36:10.285031Z"
    },
    "papermill": {
     "duration": 0.018245,
     "end_time": "2025-07-18T20:36:10.287287",
     "exception": false,
     "start_time": "2025-07-18T20:36:10.269042",
     "status": "completed"
    },
    "tags": []
   },
   "outputs": [
    {
     "data": {
      "text/html": [
       "<div>\n",
       "<style scoped>\n",
       "    .dataframe tbody tr th:only-of-type {\n",
       "        vertical-align: middle;\n",
       "    }\n",
       "\n",
       "    .dataframe tbody tr th {\n",
       "        vertical-align: top;\n",
       "    }\n",
       "\n",
       "    .dataframe thead th {\n",
       "        text-align: right;\n",
       "    }\n",
       "</style>\n",
       "<table border=\"1\" class=\"dataframe\">\n",
       "  <thead>\n",
       "    <tr style=\"text-align: right;\">\n",
       "      <th></th>\n",
       "      <th>x1</th>\n",
       "      <th>x2</th>\n",
       "    </tr>\n",
       "  </thead>\n",
       "  <tbody>\n",
       "    <tr>\n",
       "      <th>0</th>\n",
       "      <td>0.389502</td>\n",
       "      <td>-0.296595</td>\n",
       "    </tr>\n",
       "    <tr>\n",
       "      <th>1</th>\n",
       "      <td>1.080784</td>\n",
       "      <td>-0.505007</td>\n",
       "    </tr>\n",
       "    <tr>\n",
       "      <th>2</th>\n",
       "      <td>-0.333573</td>\n",
       "      <td>0.952125</td>\n",
       "    </tr>\n",
       "    <tr>\n",
       "      <th>3</th>\n",
       "      <td>1.950764</td>\n",
       "      <td>0.204817</td>\n",
       "    </tr>\n",
       "    <tr>\n",
       "      <th>4</th>\n",
       "      <td>0.559968</td>\n",
       "      <td>-0.400669</td>\n",
       "    </tr>\n",
       "    <tr>\n",
       "      <th>...</th>\n",
       "      <td>...</td>\n",
       "      <td>...</td>\n",
       "    </tr>\n",
       "    <tr>\n",
       "      <th>395</th>\n",
       "      <td>0.286332</td>\n",
       "      <td>-0.200173</td>\n",
       "    </tr>\n",
       "    <tr>\n",
       "      <th>396</th>\n",
       "      <td>-0.999177</td>\n",
       "      <td>0.194935</td>\n",
       "    </tr>\n",
       "    <tr>\n",
       "      <th>397</th>\n",
       "      <td>0.001250</td>\n",
       "      <td>0.388956</td>\n",
       "    </tr>\n",
       "    <tr>\n",
       "      <th>398</th>\n",
       "      <td>0.016909</td>\n",
       "      <td>1.009348</td>\n",
       "    </tr>\n",
       "    <tr>\n",
       "      <th>399</th>\n",
       "      <td>0.144162</td>\n",
       "      <td>-0.050256</td>\n",
       "    </tr>\n",
       "  </tbody>\n",
       "</table>\n",
       "<p>400 rows × 2 columns</p>\n",
       "</div>"
      ],
      "text/plain": [
       "           x1        x2\n",
       "0    0.389502 -0.296595\n",
       "1    1.080784 -0.505007\n",
       "2   -0.333573  0.952125\n",
       "3    1.950764  0.204817\n",
       "4    0.559968 -0.400669\n",
       "..        ...       ...\n",
       "395  0.286332 -0.200173\n",
       "396 -0.999177  0.194935\n",
       "397  0.001250  0.388956\n",
       "398  0.016909  1.009348\n",
       "399  0.144162 -0.050256\n",
       "\n",
       "[400 rows x 2 columns]"
      ]
     },
     "execution_count": 6,
     "metadata": {},
     "output_type": "execute_result"
    }
   ],
   "source": [
    "x_a = dataset.iloc[:,:-1]\n",
    "y_a = dataset[\"y\"]\n",
    "x_a"
   ]
  },
  {
   "cell_type": "code",
   "execution_count": 7,
   "id": "5023856f",
   "metadata": {
    "execution": {
     "iopub.execute_input": "2025-07-18T20:36:10.300184Z",
     "iopub.status.busy": "2025-07-18T20:36:10.299752Z",
     "iopub.status.idle": "2025-07-18T20:36:10.683641Z",
     "shell.execute_reply": "2025-07-18T20:36:10.682924Z"
    },
    "papermill": {
     "duration": 0.393359,
     "end_time": "2025-07-18T20:36:10.685295",
     "exception": false,
     "start_time": "2025-07-18T20:36:10.291936",
     "status": "completed"
    },
    "tags": []
   },
   "outputs": [],
   "source": [
    "from sklearn.tree import DecisionTreeRegressor\n",
    "from sklearn.svm import SVR\n",
    "from sklearn.neighbors import KNeighborsRegressor\n",
    "dt = DecisionTreeRegressor()\n",
    "sv = SVR()\n",
    "knn = KNeighborsRegressor()"
   ]
  },
  {
   "cell_type": "code",
   "execution_count": 8,
   "id": "02c0721d",
   "metadata": {
    "execution": {
     "iopub.execute_input": "2025-07-18T20:36:10.695426Z",
     "iopub.status.busy": "2025-07-18T20:36:10.695116Z",
     "iopub.status.idle": "2025-07-18T20:36:10.699469Z",
     "shell.execute_reply": "2025-07-18T20:36:10.698592Z"
    },
    "papermill": {
     "duration": 0.011271,
     "end_time": "2025-07-18T20:36:10.701169",
     "exception": false,
     "start_time": "2025-07-18T20:36:10.689898",
     "status": "completed"
    },
    "tags": []
   },
   "outputs": [],
   "source": [
    "from sklearn.model_selection import train_test_split"
   ]
  },
  {
   "cell_type": "code",
   "execution_count": 9,
   "id": "2d3376b1",
   "metadata": {
    "execution": {
     "iopub.execute_input": "2025-07-18T20:36:10.711994Z",
     "iopub.status.busy": "2025-07-18T20:36:10.711374Z",
     "iopub.status.idle": "2025-07-18T20:36:10.717106Z",
     "shell.execute_reply": "2025-07-18T20:36:10.716206Z"
    },
    "papermill": {
     "duration": 0.012565,
     "end_time": "2025-07-18T20:36:10.718586",
     "exception": false,
     "start_time": "2025-07-18T20:36:10.706021",
     "status": "completed"
    },
    "tags": []
   },
   "outputs": [
    {
     "data": {
      "text/plain": [
       "2"
      ]
     },
     "execution_count": 9,
     "metadata": {},
     "output_type": "execute_result"
    }
   ],
   "source": [
    "x.ndim"
   ]
  },
  {
   "cell_type": "code",
   "execution_count": 10,
   "id": "59212f59",
   "metadata": {
    "execution": {
     "iopub.execute_input": "2025-07-18T20:36:10.728680Z",
     "iopub.status.busy": "2025-07-18T20:36:10.728394Z",
     "iopub.status.idle": "2025-07-18T20:36:10.734959Z",
     "shell.execute_reply": "2025-07-18T20:36:10.734041Z"
    },
    "papermill": {
     "duration": 0.013444,
     "end_time": "2025-07-18T20:36:10.736471",
     "exception": false,
     "start_time": "2025-07-18T20:36:10.723027",
     "status": "completed"
    },
    "tags": []
   },
   "outputs": [],
   "source": [
    "x_train,x_test,y_train,y_test = train_test_split(x_a,y_a,test_size=0.5,random_state=42)"
   ]
  },
  {
   "cell_type": "code",
   "execution_count": 11,
   "id": "ac032bf4",
   "metadata": {
    "execution": {
     "iopub.execute_input": "2025-07-18T20:36:10.746977Z",
     "iopub.status.busy": "2025-07-18T20:36:10.746612Z",
     "iopub.status.idle": "2025-07-18T20:36:10.766768Z",
     "shell.execute_reply": "2025-07-18T20:36:10.765848Z"
    },
    "papermill": {
     "duration": 0.027234,
     "end_time": "2025-07-18T20:36:10.768278",
     "exception": false,
     "start_time": "2025-07-18T20:36:10.741044",
     "status": "completed"
    },
    "tags": []
   },
   "outputs": [
    {
     "data": {
      "text/html": [
       "<style>#sk-container-id-1 {color: black;background-color: white;}#sk-container-id-1 pre{padding: 0;}#sk-container-id-1 div.sk-toggleable {background-color: white;}#sk-container-id-1 label.sk-toggleable__label {cursor: pointer;display: block;width: 100%;margin-bottom: 0;padding: 0.3em;box-sizing: border-box;text-align: center;}#sk-container-id-1 label.sk-toggleable__label-arrow:before {content: \"▸\";float: left;margin-right: 0.25em;color: #696969;}#sk-container-id-1 label.sk-toggleable__label-arrow:hover:before {color: black;}#sk-container-id-1 div.sk-estimator:hover label.sk-toggleable__label-arrow:before {color: black;}#sk-container-id-1 div.sk-toggleable__content {max-height: 0;max-width: 0;overflow: hidden;text-align: left;background-color: #f0f8ff;}#sk-container-id-1 div.sk-toggleable__content pre {margin: 0.2em;color: black;border-radius: 0.25em;background-color: #f0f8ff;}#sk-container-id-1 input.sk-toggleable__control:checked~div.sk-toggleable__content {max-height: 200px;max-width: 100%;overflow: auto;}#sk-container-id-1 input.sk-toggleable__control:checked~label.sk-toggleable__label-arrow:before {content: \"▾\";}#sk-container-id-1 div.sk-estimator input.sk-toggleable__control:checked~label.sk-toggleable__label {background-color: #d4ebff;}#sk-container-id-1 div.sk-label input.sk-toggleable__control:checked~label.sk-toggleable__label {background-color: #d4ebff;}#sk-container-id-1 input.sk-hidden--visually {border: 0;clip: rect(1px 1px 1px 1px);clip: rect(1px, 1px, 1px, 1px);height: 1px;margin: -1px;overflow: hidden;padding: 0;position: absolute;width: 1px;}#sk-container-id-1 div.sk-estimator {font-family: monospace;background-color: #f0f8ff;border: 1px dotted black;border-radius: 0.25em;box-sizing: border-box;margin-bottom: 0.5em;}#sk-container-id-1 div.sk-estimator:hover {background-color: #d4ebff;}#sk-container-id-1 div.sk-parallel-item::after {content: \"\";width: 100%;border-bottom: 1px solid gray;flex-grow: 1;}#sk-container-id-1 div.sk-label:hover label.sk-toggleable__label {background-color: #d4ebff;}#sk-container-id-1 div.sk-serial::before {content: \"\";position: absolute;border-left: 1px solid gray;box-sizing: border-box;top: 0;bottom: 0;left: 50%;z-index: 0;}#sk-container-id-1 div.sk-serial {display: flex;flex-direction: column;align-items: center;background-color: white;padding-right: 0.2em;padding-left: 0.2em;position: relative;}#sk-container-id-1 div.sk-item {position: relative;z-index: 1;}#sk-container-id-1 div.sk-parallel {display: flex;align-items: stretch;justify-content: center;background-color: white;position: relative;}#sk-container-id-1 div.sk-item::before, #sk-container-id-1 div.sk-parallel-item::before {content: \"\";position: absolute;border-left: 1px solid gray;box-sizing: border-box;top: 0;bottom: 0;left: 50%;z-index: -1;}#sk-container-id-1 div.sk-parallel-item {display: flex;flex-direction: column;z-index: 1;position: relative;background-color: white;}#sk-container-id-1 div.sk-parallel-item:first-child::after {align-self: flex-end;width: 50%;}#sk-container-id-1 div.sk-parallel-item:last-child::after {align-self: flex-start;width: 50%;}#sk-container-id-1 div.sk-parallel-item:only-child::after {width: 0;}#sk-container-id-1 div.sk-dashed-wrapped {border: 1px dashed gray;margin: 0 0.4em 0.5em 0.4em;box-sizing: border-box;padding-bottom: 0.4em;background-color: white;}#sk-container-id-1 div.sk-label label {font-family: monospace;font-weight: bold;display: inline-block;line-height: 1.2em;}#sk-container-id-1 div.sk-label-container {text-align: center;}#sk-container-id-1 div.sk-container {/* jupyter's `normalize.less` sets `[hidden] { display: none; }` but bootstrap.min.css set `[hidden] { display: none !important; }` so we also need the `!important` here to be able to override the default hidden behavior on the sphinx rendered scikit-learn.org. See: https://github.com/scikit-learn/scikit-learn/issues/21755 */display: inline-block !important;position: relative;}#sk-container-id-1 div.sk-text-repr-fallback {display: none;}</style><div id=\"sk-container-id-1\" class=\"sk-top-container\"><div class=\"sk-text-repr-fallback\"><pre>KNeighborsRegressor()</pre><b>In a Jupyter environment, please rerun this cell to show the HTML representation or trust the notebook. <br />On GitHub, the HTML representation is unable to render, please try loading this page with nbviewer.org.</b></div><div class=\"sk-container\" hidden><div class=\"sk-item\"><div class=\"sk-estimator sk-toggleable\"><input class=\"sk-toggleable__control sk-hidden--visually\" id=\"sk-estimator-id-1\" type=\"checkbox\" checked><label for=\"sk-estimator-id-1\" class=\"sk-toggleable__label sk-toggleable__label-arrow\">KNeighborsRegressor</label><div class=\"sk-toggleable__content\"><pre>KNeighborsRegressor()</pre></div></div></div></div></div>"
      ],
      "text/plain": [
       "KNeighborsRegressor()"
      ]
     },
     "execution_count": 11,
     "metadata": {},
     "output_type": "execute_result"
    }
   ],
   "source": [
    "dt.fit(x_train,y_train)\n",
    "sv.fit(x_train,y_train)\n",
    "knn.fit(x_train,y_train)"
   ]
  },
  {
   "cell_type": "code",
   "execution_count": 12,
   "id": "22669239",
   "metadata": {
    "execution": {
     "iopub.execute_input": "2025-07-18T20:36:10.778979Z",
     "iopub.status.busy": "2025-07-18T20:36:10.778353Z",
     "iopub.status.idle": "2025-07-18T20:36:10.788026Z",
     "shell.execute_reply": "2025-07-18T20:36:10.787141Z"
    },
    "papermill": {
     "duration": 0.016672,
     "end_time": "2025-07-18T20:36:10.789682",
     "exception": false,
     "start_time": "2025-07-18T20:36:10.773010",
     "status": "completed"
    },
    "tags": []
   },
   "outputs": [
    {
     "data": {
      "text/plain": [
       "(1.0, 0.9799919967987195)"
      ]
     },
     "execution_count": 12,
     "metadata": {},
     "output_type": "execute_result"
    }
   ],
   "source": [
    "dt.score(x_train,y_train),dt.score(x_test,y_test)\n",
    "\n"
   ]
  },
  {
   "cell_type": "code",
   "execution_count": 13,
   "id": "feb6a082",
   "metadata": {
    "execution": {
     "iopub.execute_input": "2025-07-18T20:36:10.801010Z",
     "iopub.status.busy": "2025-07-18T20:36:10.800296Z",
     "iopub.status.idle": "2025-07-18T20:36:10.809410Z",
     "shell.execute_reply": "2025-07-18T20:36:10.808625Z"
    },
    "papermill": {
     "duration": 0.016038,
     "end_time": "2025-07-18T20:36:10.810720",
     "exception": false,
     "start_time": "2025-07-18T20:36:10.794682",
     "status": "completed"
    },
    "tags": []
   },
   "outputs": [
    {
     "data": {
      "text/plain": [
       "(0.9760166008472958, 0.9736371494235708)"
      ]
     },
     "execution_count": 13,
     "metadata": {},
     "output_type": "execute_result"
    }
   ],
   "source": [
    "sv.score(x_train,y_train),sv.score(x_test,y_test)"
   ]
  },
  {
   "cell_type": "code",
   "execution_count": 14,
   "id": "578290e2",
   "metadata": {
    "execution": {
     "iopub.execute_input": "2025-07-18T20:36:10.821434Z",
     "iopub.status.busy": "2025-07-18T20:36:10.821126Z",
     "iopub.status.idle": "2025-07-18T20:36:10.832220Z",
     "shell.execute_reply": "2025-07-18T20:36:10.831519Z"
    },
    "papermill": {
     "duration": 0.018059,
     "end_time": "2025-07-18T20:36:10.833585",
     "exception": false,
     "start_time": "2025-07-18T20:36:10.815526",
     "status": "completed"
    },
    "tags": []
   },
   "outputs": [
    {
     "data": {
      "text/plain": [
       "(1.0, 1.0)"
      ]
     },
     "execution_count": 14,
     "metadata": {},
     "output_type": "execute_result"
    }
   ],
   "source": [
    "knn.score(x_train,y_train),knn.score(x_test,y_test)"
   ]
  },
  {
   "cell_type": "code",
   "execution_count": 15,
   "id": "0512104a",
   "metadata": {
    "execution": {
     "iopub.execute_input": "2025-07-18T20:36:10.845029Z",
     "iopub.status.busy": "2025-07-18T20:36:10.844341Z",
     "iopub.status.idle": "2025-07-18T20:36:10.962163Z",
     "shell.execute_reply": "2025-07-18T20:36:10.961434Z"
    },
    "papermill": {
     "duration": 0.125362,
     "end_time": "2025-07-18T20:36:10.963806",
     "exception": false,
     "start_time": "2025-07-18T20:36:10.838444",
     "status": "completed"
    },
    "tags": []
   },
   "outputs": [],
   "source": [
    "\n",
    "from sklearn.ensemble import VotingRegressor"
   ]
  },
  {
   "cell_type": "code",
   "execution_count": 16,
   "id": "ae0c68d8",
   "metadata": {
    "execution": {
     "iopub.execute_input": "2025-07-18T20:36:10.975684Z",
     "iopub.status.busy": "2025-07-18T20:36:10.974715Z",
     "iopub.status.idle": "2025-07-18T20:36:10.979221Z",
     "shell.execute_reply": "2025-07-18T20:36:10.978506Z"
    },
    "papermill": {
     "duration": 0.01183,
     "end_time": "2025-07-18T20:36:10.980605",
     "exception": false,
     "start_time": "2025-07-18T20:36:10.968775",
     "status": "completed"
    },
    "tags": []
   },
   "outputs": [],
   "source": [
    "es = [(\"dt\",DecisionTreeRegressor()),(\"sv\",SVR()),(\"knn\",KNeighborsRegressor())]"
   ]
  },
  {
   "cell_type": "code",
   "execution_count": 17,
   "id": "89d2c721",
   "metadata": {
    "execution": {
     "iopub.execute_input": "2025-07-18T20:36:10.991800Z",
     "iopub.status.busy": "2025-07-18T20:36:10.991138Z",
     "iopub.status.idle": "2025-07-18T20:36:11.001335Z",
     "shell.execute_reply": "2025-07-18T20:36:11.000611Z"
    },
    "papermill": {
     "duration": 0.017195,
     "end_time": "2025-07-18T20:36:11.002638",
     "exception": false,
     "start_time": "2025-07-18T20:36:10.985443",
     "status": "completed"
    },
    "tags": []
   },
   "outputs": [
    {
     "data": {
      "text/html": [
       "<style>#sk-container-id-2 {color: black;background-color: white;}#sk-container-id-2 pre{padding: 0;}#sk-container-id-2 div.sk-toggleable {background-color: white;}#sk-container-id-2 label.sk-toggleable__label {cursor: pointer;display: block;width: 100%;margin-bottom: 0;padding: 0.3em;box-sizing: border-box;text-align: center;}#sk-container-id-2 label.sk-toggleable__label-arrow:before {content: \"▸\";float: left;margin-right: 0.25em;color: #696969;}#sk-container-id-2 label.sk-toggleable__label-arrow:hover:before {color: black;}#sk-container-id-2 div.sk-estimator:hover label.sk-toggleable__label-arrow:before {color: black;}#sk-container-id-2 div.sk-toggleable__content {max-height: 0;max-width: 0;overflow: hidden;text-align: left;background-color: #f0f8ff;}#sk-container-id-2 div.sk-toggleable__content pre {margin: 0.2em;color: black;border-radius: 0.25em;background-color: #f0f8ff;}#sk-container-id-2 input.sk-toggleable__control:checked~div.sk-toggleable__content {max-height: 200px;max-width: 100%;overflow: auto;}#sk-container-id-2 input.sk-toggleable__control:checked~label.sk-toggleable__label-arrow:before {content: \"▾\";}#sk-container-id-2 div.sk-estimator input.sk-toggleable__control:checked~label.sk-toggleable__label {background-color: #d4ebff;}#sk-container-id-2 div.sk-label input.sk-toggleable__control:checked~label.sk-toggleable__label {background-color: #d4ebff;}#sk-container-id-2 input.sk-hidden--visually {border: 0;clip: rect(1px 1px 1px 1px);clip: rect(1px, 1px, 1px, 1px);height: 1px;margin: -1px;overflow: hidden;padding: 0;position: absolute;width: 1px;}#sk-container-id-2 div.sk-estimator {font-family: monospace;background-color: #f0f8ff;border: 1px dotted black;border-radius: 0.25em;box-sizing: border-box;margin-bottom: 0.5em;}#sk-container-id-2 div.sk-estimator:hover {background-color: #d4ebff;}#sk-container-id-2 div.sk-parallel-item::after {content: \"\";width: 100%;border-bottom: 1px solid gray;flex-grow: 1;}#sk-container-id-2 div.sk-label:hover label.sk-toggleable__label {background-color: #d4ebff;}#sk-container-id-2 div.sk-serial::before {content: \"\";position: absolute;border-left: 1px solid gray;box-sizing: border-box;top: 0;bottom: 0;left: 50%;z-index: 0;}#sk-container-id-2 div.sk-serial {display: flex;flex-direction: column;align-items: center;background-color: white;padding-right: 0.2em;padding-left: 0.2em;position: relative;}#sk-container-id-2 div.sk-item {position: relative;z-index: 1;}#sk-container-id-2 div.sk-parallel {display: flex;align-items: stretch;justify-content: center;background-color: white;position: relative;}#sk-container-id-2 div.sk-item::before, #sk-container-id-2 div.sk-parallel-item::before {content: \"\";position: absolute;border-left: 1px solid gray;box-sizing: border-box;top: 0;bottom: 0;left: 50%;z-index: -1;}#sk-container-id-2 div.sk-parallel-item {display: flex;flex-direction: column;z-index: 1;position: relative;background-color: white;}#sk-container-id-2 div.sk-parallel-item:first-child::after {align-self: flex-end;width: 50%;}#sk-container-id-2 div.sk-parallel-item:last-child::after {align-self: flex-start;width: 50%;}#sk-container-id-2 div.sk-parallel-item:only-child::after {width: 0;}#sk-container-id-2 div.sk-dashed-wrapped {border: 1px dashed gray;margin: 0 0.4em 0.5em 0.4em;box-sizing: border-box;padding-bottom: 0.4em;background-color: white;}#sk-container-id-2 div.sk-label label {font-family: monospace;font-weight: bold;display: inline-block;line-height: 1.2em;}#sk-container-id-2 div.sk-label-container {text-align: center;}#sk-container-id-2 div.sk-container {/* jupyter's `normalize.less` sets `[hidden] { display: none; }` but bootstrap.min.css set `[hidden] { display: none !important; }` so we also need the `!important` here to be able to override the default hidden behavior on the sphinx rendered scikit-learn.org. See: https://github.com/scikit-learn/scikit-learn/issues/21755 */display: inline-block !important;position: relative;}#sk-container-id-2 div.sk-text-repr-fallback {display: none;}</style><div id=\"sk-container-id-2\" class=\"sk-top-container\"><div class=\"sk-text-repr-fallback\"><pre>VotingRegressor(estimators=[(&#x27;dt&#x27;, DecisionTreeRegressor()), (&#x27;sv&#x27;, SVR()),\n",
       "                            (&#x27;knn&#x27;, KNeighborsRegressor())],\n",
       "                weights=[1, 0.5, 4])</pre><b>In a Jupyter environment, please rerun this cell to show the HTML representation or trust the notebook. <br />On GitHub, the HTML representation is unable to render, please try loading this page with nbviewer.org.</b></div><div class=\"sk-container\" hidden><div class=\"sk-item sk-dashed-wrapped\"><div class=\"sk-label-container\"><div class=\"sk-label sk-toggleable\"><input class=\"sk-toggleable__control sk-hidden--visually\" id=\"sk-estimator-id-2\" type=\"checkbox\" ><label for=\"sk-estimator-id-2\" class=\"sk-toggleable__label sk-toggleable__label-arrow\">VotingRegressor</label><div class=\"sk-toggleable__content\"><pre>VotingRegressor(estimators=[(&#x27;dt&#x27;, DecisionTreeRegressor()), (&#x27;sv&#x27;, SVR()),\n",
       "                            (&#x27;knn&#x27;, KNeighborsRegressor())],\n",
       "                weights=[1, 0.5, 4])</pre></div></div></div><div class=\"sk-parallel\"><div class=\"sk-parallel-item\"><div class=\"sk-item\"><div class=\"sk-label-container\"><div class=\"sk-label sk-toggleable\"><label>dt</label></div></div><div class=\"sk-serial\"><div class=\"sk-item\"><div class=\"sk-estimator sk-toggleable\"><input class=\"sk-toggleable__control sk-hidden--visually\" id=\"sk-estimator-id-3\" type=\"checkbox\" ><label for=\"sk-estimator-id-3\" class=\"sk-toggleable__label sk-toggleable__label-arrow\">DecisionTreeRegressor</label><div class=\"sk-toggleable__content\"><pre>DecisionTreeRegressor()</pre></div></div></div></div></div></div><div class=\"sk-parallel-item\"><div class=\"sk-item\"><div class=\"sk-label-container\"><div class=\"sk-label sk-toggleable\"><label>sv</label></div></div><div class=\"sk-serial\"><div class=\"sk-item\"><div class=\"sk-estimator sk-toggleable\"><input class=\"sk-toggleable__control sk-hidden--visually\" id=\"sk-estimator-id-4\" type=\"checkbox\" ><label for=\"sk-estimator-id-4\" class=\"sk-toggleable__label sk-toggleable__label-arrow\">SVR</label><div class=\"sk-toggleable__content\"><pre>SVR()</pre></div></div></div></div></div></div><div class=\"sk-parallel-item\"><div class=\"sk-item\"><div class=\"sk-label-container\"><div class=\"sk-label sk-toggleable\"><label>knn</label></div></div><div class=\"sk-serial\"><div class=\"sk-item\"><div class=\"sk-estimator sk-toggleable\"><input class=\"sk-toggleable__control sk-hidden--visually\" id=\"sk-estimator-id-5\" type=\"checkbox\" ><label for=\"sk-estimator-id-5\" class=\"sk-toggleable__label sk-toggleable__label-arrow\">KNeighborsRegressor</label><div class=\"sk-toggleable__content\"><pre>KNeighborsRegressor()</pre></div></div></div></div></div></div></div></div></div></div>"
      ],
      "text/plain": [
       "VotingRegressor(estimators=[('dt', DecisionTreeRegressor()), ('sv', SVR()),\n",
       "                            ('knn', KNeighborsRegressor())],\n",
       "                weights=[1, 0.5, 4])"
      ]
     },
     "execution_count": 17,
     "metadata": {},
     "output_type": "execute_result"
    }
   ],
   "source": [
    "vc = VotingRegressor(estimators=es,weights=[1,0.5,4])\n",
    "vc"
   ]
  },
  {
   "cell_type": "code",
   "execution_count": 18,
   "id": "7e9af963",
   "metadata": {
    "execution": {
     "iopub.execute_input": "2025-07-18T20:36:11.014523Z",
     "iopub.status.busy": "2025-07-18T20:36:11.013839Z",
     "iopub.status.idle": "2025-07-18T20:36:11.030916Z",
     "shell.execute_reply": "2025-07-18T20:36:11.029990Z"
    },
    "papermill": {
     "duration": 0.024599,
     "end_time": "2025-07-18T20:36:11.032360",
     "exception": false,
     "start_time": "2025-07-18T20:36:11.007761",
     "status": "completed"
    },
    "tags": []
   },
   "outputs": [
    {
     "data": {
      "text/html": [
       "<style>#sk-container-id-3 {color: black;background-color: white;}#sk-container-id-3 pre{padding: 0;}#sk-container-id-3 div.sk-toggleable {background-color: white;}#sk-container-id-3 label.sk-toggleable__label {cursor: pointer;display: block;width: 100%;margin-bottom: 0;padding: 0.3em;box-sizing: border-box;text-align: center;}#sk-container-id-3 label.sk-toggleable__label-arrow:before {content: \"▸\";float: left;margin-right: 0.25em;color: #696969;}#sk-container-id-3 label.sk-toggleable__label-arrow:hover:before {color: black;}#sk-container-id-3 div.sk-estimator:hover label.sk-toggleable__label-arrow:before {color: black;}#sk-container-id-3 div.sk-toggleable__content {max-height: 0;max-width: 0;overflow: hidden;text-align: left;background-color: #f0f8ff;}#sk-container-id-3 div.sk-toggleable__content pre {margin: 0.2em;color: black;border-radius: 0.25em;background-color: #f0f8ff;}#sk-container-id-3 input.sk-toggleable__control:checked~div.sk-toggleable__content {max-height: 200px;max-width: 100%;overflow: auto;}#sk-container-id-3 input.sk-toggleable__control:checked~label.sk-toggleable__label-arrow:before {content: \"▾\";}#sk-container-id-3 div.sk-estimator input.sk-toggleable__control:checked~label.sk-toggleable__label {background-color: #d4ebff;}#sk-container-id-3 div.sk-label input.sk-toggleable__control:checked~label.sk-toggleable__label {background-color: #d4ebff;}#sk-container-id-3 input.sk-hidden--visually {border: 0;clip: rect(1px 1px 1px 1px);clip: rect(1px, 1px, 1px, 1px);height: 1px;margin: -1px;overflow: hidden;padding: 0;position: absolute;width: 1px;}#sk-container-id-3 div.sk-estimator {font-family: monospace;background-color: #f0f8ff;border: 1px dotted black;border-radius: 0.25em;box-sizing: border-box;margin-bottom: 0.5em;}#sk-container-id-3 div.sk-estimator:hover {background-color: #d4ebff;}#sk-container-id-3 div.sk-parallel-item::after {content: \"\";width: 100%;border-bottom: 1px solid gray;flex-grow: 1;}#sk-container-id-3 div.sk-label:hover label.sk-toggleable__label {background-color: #d4ebff;}#sk-container-id-3 div.sk-serial::before {content: \"\";position: absolute;border-left: 1px solid gray;box-sizing: border-box;top: 0;bottom: 0;left: 50%;z-index: 0;}#sk-container-id-3 div.sk-serial {display: flex;flex-direction: column;align-items: center;background-color: white;padding-right: 0.2em;padding-left: 0.2em;position: relative;}#sk-container-id-3 div.sk-item {position: relative;z-index: 1;}#sk-container-id-3 div.sk-parallel {display: flex;align-items: stretch;justify-content: center;background-color: white;position: relative;}#sk-container-id-3 div.sk-item::before, #sk-container-id-3 div.sk-parallel-item::before {content: \"\";position: absolute;border-left: 1px solid gray;box-sizing: border-box;top: 0;bottom: 0;left: 50%;z-index: -1;}#sk-container-id-3 div.sk-parallel-item {display: flex;flex-direction: column;z-index: 1;position: relative;background-color: white;}#sk-container-id-3 div.sk-parallel-item:first-child::after {align-self: flex-end;width: 50%;}#sk-container-id-3 div.sk-parallel-item:last-child::after {align-self: flex-start;width: 50%;}#sk-container-id-3 div.sk-parallel-item:only-child::after {width: 0;}#sk-container-id-3 div.sk-dashed-wrapped {border: 1px dashed gray;margin: 0 0.4em 0.5em 0.4em;box-sizing: border-box;padding-bottom: 0.4em;background-color: white;}#sk-container-id-3 div.sk-label label {font-family: monospace;font-weight: bold;display: inline-block;line-height: 1.2em;}#sk-container-id-3 div.sk-label-container {text-align: center;}#sk-container-id-3 div.sk-container {/* jupyter's `normalize.less` sets `[hidden] { display: none; }` but bootstrap.min.css set `[hidden] { display: none !important; }` so we also need the `!important` here to be able to override the default hidden behavior on the sphinx rendered scikit-learn.org. See: https://github.com/scikit-learn/scikit-learn/issues/21755 */display: inline-block !important;position: relative;}#sk-container-id-3 div.sk-text-repr-fallback {display: none;}</style><div id=\"sk-container-id-3\" class=\"sk-top-container\"><div class=\"sk-text-repr-fallback\"><pre>VotingRegressor(estimators=[(&#x27;dt&#x27;, DecisionTreeRegressor()), (&#x27;sv&#x27;, SVR()),\n",
       "                            (&#x27;knn&#x27;, KNeighborsRegressor())],\n",
       "                weights=[1, 0.5, 4])</pre><b>In a Jupyter environment, please rerun this cell to show the HTML representation or trust the notebook. <br />On GitHub, the HTML representation is unable to render, please try loading this page with nbviewer.org.</b></div><div class=\"sk-container\" hidden><div class=\"sk-item sk-dashed-wrapped\"><div class=\"sk-label-container\"><div class=\"sk-label sk-toggleable\"><input class=\"sk-toggleable__control sk-hidden--visually\" id=\"sk-estimator-id-6\" type=\"checkbox\" ><label for=\"sk-estimator-id-6\" class=\"sk-toggleable__label sk-toggleable__label-arrow\">VotingRegressor</label><div class=\"sk-toggleable__content\"><pre>VotingRegressor(estimators=[(&#x27;dt&#x27;, DecisionTreeRegressor()), (&#x27;sv&#x27;, SVR()),\n",
       "                            (&#x27;knn&#x27;, KNeighborsRegressor())],\n",
       "                weights=[1, 0.5, 4])</pre></div></div></div><div class=\"sk-parallel\"><div class=\"sk-parallel-item\"><div class=\"sk-item\"><div class=\"sk-label-container\"><div class=\"sk-label sk-toggleable\"><label>dt</label></div></div><div class=\"sk-serial\"><div class=\"sk-item\"><div class=\"sk-estimator sk-toggleable\"><input class=\"sk-toggleable__control sk-hidden--visually\" id=\"sk-estimator-id-7\" type=\"checkbox\" ><label for=\"sk-estimator-id-7\" class=\"sk-toggleable__label sk-toggleable__label-arrow\">DecisionTreeRegressor</label><div class=\"sk-toggleable__content\"><pre>DecisionTreeRegressor()</pre></div></div></div></div></div></div><div class=\"sk-parallel-item\"><div class=\"sk-item\"><div class=\"sk-label-container\"><div class=\"sk-label sk-toggleable\"><label>sv</label></div></div><div class=\"sk-serial\"><div class=\"sk-item\"><div class=\"sk-estimator sk-toggleable\"><input class=\"sk-toggleable__control sk-hidden--visually\" id=\"sk-estimator-id-8\" type=\"checkbox\" ><label for=\"sk-estimator-id-8\" class=\"sk-toggleable__label sk-toggleable__label-arrow\">SVR</label><div class=\"sk-toggleable__content\"><pre>SVR()</pre></div></div></div></div></div></div><div class=\"sk-parallel-item\"><div class=\"sk-item\"><div class=\"sk-label-container\"><div class=\"sk-label sk-toggleable\"><label>knn</label></div></div><div class=\"sk-serial\"><div class=\"sk-item\"><div class=\"sk-estimator sk-toggleable\"><input class=\"sk-toggleable__control sk-hidden--visually\" id=\"sk-estimator-id-9\" type=\"checkbox\" ><label for=\"sk-estimator-id-9\" class=\"sk-toggleable__label sk-toggleable__label-arrow\">KNeighborsRegressor</label><div class=\"sk-toggleable__content\"><pre>KNeighborsRegressor()</pre></div></div></div></div></div></div></div></div></div></div>"
      ],
      "text/plain": [
       "VotingRegressor(estimators=[('dt', DecisionTreeRegressor()), ('sv', SVR()),\n",
       "                            ('knn', KNeighborsRegressor())],\n",
       "                weights=[1, 0.5, 4])"
      ]
     },
     "execution_count": 18,
     "metadata": {},
     "output_type": "execute_result"
    }
   ],
   "source": [
    "vc.fit(x_train,y_train)"
   ]
  },
  {
   "cell_type": "code",
   "execution_count": 19,
   "id": "e46e0810",
   "metadata": {
    "execution": {
     "iopub.execute_input": "2025-07-18T20:36:11.044839Z",
     "iopub.status.busy": "2025-07-18T20:36:11.044047Z",
     "iopub.status.idle": "2025-07-18T20:36:11.057725Z",
     "shell.execute_reply": "2025-07-18T20:36:11.056981Z"
    },
    "papermill": {
     "duration": 0.021416,
     "end_time": "2025-07-18T20:36:11.059123",
     "exception": false,
     "start_time": "2025-07-18T20:36:11.037707",
     "status": "completed"
    },
    "tags": []
   },
   "outputs": [
    {
     "data": {
      "text/plain": [
       "(0.9998017900896471, 0.9990191530234555)"
      ]
     },
     "execution_count": 19,
     "metadata": {},
     "output_type": "execute_result"
    }
   ],
   "source": [
    "vc.score(x_train,y_train),vc.score(x_test,y_test)"
   ]
  },
  {
   "cell_type": "code",
   "execution_count": 20,
   "id": "62fce0b7",
   "metadata": {
    "execution": {
     "iopub.execute_input": "2025-07-18T20:36:11.071239Z",
     "iopub.status.busy": "2025-07-18T20:36:11.070568Z",
     "iopub.status.idle": "2025-07-18T20:36:11.082352Z",
     "shell.execute_reply": "2025-07-18T20:36:11.081642Z"
    },
    "papermill": {
     "duration": 0.019395,
     "end_time": "2025-07-18T20:36:11.083791",
     "exception": false,
     "start_time": "2025-07-18T20:36:11.064396",
     "status": "completed"
    },
    "tags": []
   },
   "outputs": [],
   "source": [
    "dic = {\"dt\":dt.predict(x_test),\"knn\":knn.predict(x_test),\"sv\":sv.predict(x_test),\n",
    "       \"vc\":vc.predict(x_test)}"
   ]
  },
  {
   "cell_type": "code",
   "execution_count": 21,
   "id": "97732728",
   "metadata": {
    "execution": {
     "iopub.execute_input": "2025-07-18T20:36:11.096088Z",
     "iopub.status.busy": "2025-07-18T20:36:11.095370Z",
     "iopub.status.idle": "2025-07-18T20:36:11.107702Z",
     "shell.execute_reply": "2025-07-18T20:36:11.107013Z"
    },
    "papermill": {
     "duration": 0.019891,
     "end_time": "2025-07-18T20:36:11.109029",
     "exception": false,
     "start_time": "2025-07-18T20:36:11.089138",
     "status": "completed"
    },
    "tags": []
   },
   "outputs": [
    {
     "data": {
      "text/html": [
       "<div>\n",
       "<style scoped>\n",
       "    .dataframe tbody tr th:only-of-type {\n",
       "        vertical-align: middle;\n",
       "    }\n",
       "\n",
       "    .dataframe tbody tr th {\n",
       "        vertical-align: top;\n",
       "    }\n",
       "\n",
       "    .dataframe thead th {\n",
       "        text-align: right;\n",
       "    }\n",
       "</style>\n",
       "<table border=\"1\" class=\"dataframe\">\n",
       "  <thead>\n",
       "    <tr style=\"text-align: right;\">\n",
       "      <th></th>\n",
       "      <th>dt</th>\n",
       "      <th>knn</th>\n",
       "      <th>sv</th>\n",
       "      <th>vc</th>\n",
       "    </tr>\n",
       "  </thead>\n",
       "  <tbody>\n",
       "    <tr>\n",
       "      <th>0</th>\n",
       "      <td>0.0</td>\n",
       "      <td>0.0</td>\n",
       "      <td>0.088610</td>\n",
       "      <td>0.008055</td>\n",
       "    </tr>\n",
       "    <tr>\n",
       "      <th>1</th>\n",
       "      <td>1.0</td>\n",
       "      <td>1.0</td>\n",
       "      <td>0.896876</td>\n",
       "      <td>0.990625</td>\n",
       "    </tr>\n",
       "    <tr>\n",
       "      <th>2</th>\n",
       "      <td>0.0</td>\n",
       "      <td>0.0</td>\n",
       "      <td>-0.081665</td>\n",
       "      <td>-0.007424</td>\n",
       "    </tr>\n",
       "    <tr>\n",
       "      <th>3</th>\n",
       "      <td>0.0</td>\n",
       "      <td>0.0</td>\n",
       "      <td>0.068746</td>\n",
       "      <td>0.006250</td>\n",
       "    </tr>\n",
       "    <tr>\n",
       "      <th>4</th>\n",
       "      <td>0.0</td>\n",
       "      <td>0.0</td>\n",
       "      <td>0.093550</td>\n",
       "      <td>0.008505</td>\n",
       "    </tr>\n",
       "    <tr>\n",
       "      <th>...</th>\n",
       "      <td>...</td>\n",
       "      <td>...</td>\n",
       "      <td>...</td>\n",
       "      <td>...</td>\n",
       "    </tr>\n",
       "    <tr>\n",
       "      <th>195</th>\n",
       "      <td>1.0</td>\n",
       "      <td>1.0</td>\n",
       "      <td>0.914009</td>\n",
       "      <td>0.992183</td>\n",
       "    </tr>\n",
       "    <tr>\n",
       "      <th>196</th>\n",
       "      <td>0.0</td>\n",
       "      <td>0.0</td>\n",
       "      <td>0.069067</td>\n",
       "      <td>0.006279</td>\n",
       "    </tr>\n",
       "    <tr>\n",
       "      <th>197</th>\n",
       "      <td>1.0</td>\n",
       "      <td>1.0</td>\n",
       "      <td>0.898829</td>\n",
       "      <td>0.990803</td>\n",
       "    </tr>\n",
       "    <tr>\n",
       "      <th>198</th>\n",
       "      <td>0.0</td>\n",
       "      <td>0.0</td>\n",
       "      <td>0.102315</td>\n",
       "      <td>0.009301</td>\n",
       "    </tr>\n",
       "    <tr>\n",
       "      <th>199</th>\n",
       "      <td>0.0</td>\n",
       "      <td>0.0</td>\n",
       "      <td>0.088325</td>\n",
       "      <td>0.008030</td>\n",
       "    </tr>\n",
       "  </tbody>\n",
       "</table>\n",
       "<p>200 rows × 4 columns</p>\n",
       "</div>"
      ],
      "text/plain": [
       "      dt  knn        sv        vc\n",
       "0    0.0  0.0  0.088610  0.008055\n",
       "1    1.0  1.0  0.896876  0.990625\n",
       "2    0.0  0.0 -0.081665 -0.007424\n",
       "3    0.0  0.0  0.068746  0.006250\n",
       "4    0.0  0.0  0.093550  0.008505\n",
       "..   ...  ...       ...       ...\n",
       "195  1.0  1.0  0.914009  0.992183\n",
       "196  0.0  0.0  0.069067  0.006279\n",
       "197  1.0  1.0  0.898829  0.990803\n",
       "198  0.0  0.0  0.102315  0.009301\n",
       "199  0.0  0.0  0.088325  0.008030\n",
       "\n",
       "[200 rows x 4 columns]"
      ]
     },
     "execution_count": 21,
     "metadata": {},
     "output_type": "execute_result"
    }
   ],
   "source": [
    "df1 = pd.DataFrame(dic)\n",
    "df1"
   ]
  },
  {
   "cell_type": "code",
   "execution_count": null,
   "id": "69733610",
   "metadata": {
    "papermill": {
     "duration": 0.00517,
     "end_time": "2025-07-18T20:36:11.119807",
     "exception": false,
     "start_time": "2025-07-18T20:36:11.114637",
     "status": "completed"
    },
    "tags": []
   },
   "outputs": [],
   "source": []
  }
 ],
 "metadata": {
  "kaggle": {
   "accelerator": "none",
   "dataSources": [],
   "dockerImageVersionId": 31089,
   "isGpuEnabled": false,
   "isInternetEnabled": true,
   "language": "python",
   "sourceType": "notebook"
  },
  "kernelspec": {
   "display_name": "Python 3",
   "language": "python",
   "name": "python3"
  },
  "language_info": {
   "codemirror_mode": {
    "name": "ipython",
    "version": 3
   },
   "file_extension": ".py",
   "mimetype": "text/x-python",
   "name": "python",
   "nbconvert_exporter": "python",
   "pygments_lexer": "ipython3",
   "version": "3.11.13"
  },
  "papermill": {
   "default_parameters": {},
   "duration": 10.265327,
   "end_time": "2025-07-18T20:36:11.845464",
   "environment_variables": {},
   "exception": null,
   "input_path": "__notebook__.ipynb",
   "output_path": "__notebook__.ipynb",
   "parameters": {},
   "start_time": "2025-07-18T20:36:01.580137",
   "version": "2.6.0"
  }
 },
 "nbformat": 4,
 "nbformat_minor": 5
}

{
 "cells": [
  {
   "cell_type": "code",
   "execution_count": null,
   "id": "06cc871a",
   "metadata": {},
   "outputs": [],
   "source": [
    "ssd"
   ]
  }
 ],
 "metadata": {
  "language_info": {
   "name": "python"
  }
 },
 "nbformat": 4,
 "nbformat_minor": 5
}

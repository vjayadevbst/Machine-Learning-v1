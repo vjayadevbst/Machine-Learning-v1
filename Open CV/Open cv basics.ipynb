{
 "cells": [
  {
   "cell_type": "code",
   "execution_count": 25,
   "id": "ca200a4c",
   "metadata": {},
   "outputs": [],
   "source": [
    "import cv2\n",
    "import numpy as np\n",
    "import os"
   ]
  },
  {
   "cell_type": "code",
   "execution_count": 38,
   "id": "ae574e66",
   "metadata": {},
   "outputs": [],
   "source": [
    "img = cv2.imread(r\"C:\\Users\\vinna\\Downloads\\1.png\",1)\n",
    "cv2.imshow(\"Image\", img)\n",
    "cv2.waitKey(0)\n",
    "cv2.destroyAllWindows()"
   ]
  },
  {
   "cell_type": "code",
   "execution_count": 12,
   "id": "c7a4c07a",
   "metadata": {},
   "outputs": [],
   "source": [
    "img = cv2.imread(r\"C:\\Users\\vinna\\OneDrive\\Documents\\dataset\\Images\\natural_images\\car\\car_0001.jpg\")\n",
    "re_img = cv2.resize(img, (640, 480))\n",
    "cv2.imshow(\"Resized Image\", re_img)                 \n",
    "\n",
    "cv2.waitKey(0)\n",
    "\n",
    "cv2.destroyAllWindows()"
   ]
  },
  {
   "cell_type": "code",
   "execution_count": 14,
   "id": "3cf73374",
   "metadata": {},
   "outputs": [
    {
     "data": {
      "text/plain": [
       "array([[[10, 11, 15],\n",
       "        [10, 11, 15],\n",
       "        [10, 11, 15],\n",
       "        ...,\n",
       "        [44, 50, 55],\n",
       "        [44, 50, 55],\n",
       "        [44, 50, 55]],\n",
       "\n",
       "       [[10, 11, 15],\n",
       "        [10, 11, 15],\n",
       "        [10, 11, 15],\n",
       "        ...,\n",
       "        [44, 50, 55],\n",
       "        [44, 50, 55],\n",
       "        [44, 50, 55]],\n",
       "\n",
       "       [[10, 11, 15],\n",
       "        [10, 11, 15],\n",
       "        [10, 11, 15],\n",
       "        ...,\n",
       "        [44, 50, 55],\n",
       "        [44, 50, 55],\n",
       "        [44, 50, 55]],\n",
       "\n",
       "       ...,\n",
       "\n",
       "       [[47, 58, 62],\n",
       "        [47, 58, 62],\n",
       "        [47, 58, 62],\n",
       "        ...,\n",
       "        [53, 64, 68],\n",
       "        [53, 64, 68],\n",
       "        [53, 64, 68]],\n",
       "\n",
       "       [[47, 58, 62],\n",
       "        [47, 58, 62],\n",
       "        [47, 58, 62],\n",
       "        ...,\n",
       "        [53, 64, 68],\n",
       "        [53, 64, 68],\n",
       "        [53, 64, 68]],\n",
       "\n",
       "       [[47, 58, 62],\n",
       "        [47, 58, 62],\n",
       "        [47, 58, 62],\n",
       "        ...,\n",
       "        [53, 64, 68],\n",
       "        [53, 64, 68],\n",
       "        [53, 64, 68]]], shape=(480, 640, 3), dtype=uint8)"
      ]
     },
     "execution_count": 14,
     "metadata": {},
     "output_type": "execute_result"
    }
   ],
   "source": [
    "re_img"
   ]
  },
  {
   "cell_type": "code",
   "execution_count": 24,
   "id": "1e976484",
   "metadata": {},
   "outputs": [],
   "source": [
    "img = cv2.imread(r\"C:\\Users\\vinna\\OneDrive\\Documents\\dataset\\Images\\natural_images\\car\\car_0001.jpg\")\n",
    "re_img = cv2.resize(img, (640, 480))\n",
    "h = np.hstack((re_img, re_img,re_img))#\n",
    "v = np.vstack((h, h))\n",
    "cv2.imshow(\"vetrtica Stack\", v)\n",
    "#cv2.imshow(\"Horizontal Stack\", h)\n",
    "#cv2.imshow(\"Resized Image\", re_img)                 \n",
    "\n",
    "cv2.waitKey(0)\n",
    "\n",
    "cv2.destroyAllWindows()"
   ]
  },
  {
   "cell_type": "code",
   "execution_count": 29,
   "id": "4304ec6e",
   "metadata": {},
   "outputs": [],
   "source": [
    "list_name = os.listdir(r\"C:\\Users\\vinna\\OneDrive\\Documents\\dataset\\Images\\natural_images\\car\")\n"
   ]
  },
  {
   "cell_type": "code",
   "execution_count": 32,
   "id": "71d9da72",
   "metadata": {},
   "outputs": [
    {
     "ename": "KeyboardInterrupt",
     "evalue": "",
     "output_type": "error",
     "traceback": [
      "\u001b[1;31m---------------------------------------------------------------------------\u001b[0m",
      "\u001b[1;31mKeyboardInterrupt\u001b[0m                         Traceback (most recent call last)",
      "Cell \u001b[1;32mIn[32], line 5\u001b[0m\n\u001b[0;32m      3\u001b[0m     re_img \u001b[38;5;241m=\u001b[39m cv2\u001b[38;5;241m.\u001b[39mresize(img, (\u001b[38;5;241m640\u001b[39m, \u001b[38;5;241m480\u001b[39m))\n\u001b[0;32m      4\u001b[0m     cv2\u001b[38;5;241m.\u001b[39mimshow(\u001b[38;5;124m\"\u001b[39m\u001b[38;5;124mResized Image\u001b[39m\u001b[38;5;124m\"\u001b[39m, re_img)\n\u001b[1;32m----> 5\u001b[0m     cv2\u001b[38;5;241m.\u001b[39mwaitKey(\u001b[38;5;241m0\u001b[39m)  \u001b[38;5;66;03m# Display each image for 1 second\u001b[39;00m\n\u001b[0;32m      6\u001b[0m cv2\u001b[38;5;241m.\u001b[39mdestroyAllWindows()\n",
      "\u001b[1;31mKeyboardInterrupt\u001b[0m: "
     ]
    }
   ],
   "source": [
    "for file in list_name:\n",
    "    img = cv2.imread(os.path.join(r\"C:\\Users\\vinna\\OneDrive\\Documents\\dataset\\Images\\natural_images\\car\", file))\n",
    "    re_img = cv2.resize(img, (640, 480))\n",
    "    cv2.imshow(\"Resized Image\", re_img)\n",
    "    cv2.waitKey(0)  # Display each image for 1 second\n",
    "cv2.destroyAllWindows()"
   ]
  },
  {
   "cell_type": "code",
   "execution_count": null,
   "id": "4a834ace",
   "metadata": {},
   "outputs": [],
   "source": [
    "#grey scale \n",
    "img = cv2.imread(r\"C:\\Users\\vinna\\OneDrive\\Documents\\dataset\\Images\\natural_images\\car\\car_0002.jpg\",1)\n",
    "re_img = cv2.resize(img, (640, 480))\n",
    "h = np.hstack((re_img, re_img,re_img))#\n",
    "v = np.vstack((h, h))\n",
    "cv2.imshow(\"vetrtica Stack\", v)\n",
    "#cv2.imshow(\"Horizontal Stack\", h)\n",
    "#cv2.imshow(\"Resized Image\", re_img)                 \n",
    "\n",
    "cv2.waitKey(0)\n",
    "\n",
    "cv2.destroyAllWindows()"
   ]
  },
  {
   "cell_type": "code",
   "execution_count": 39,
   "id": "e68e0f9a",
   "metadata": {},
   "outputs": [
    {
     "data": {
      "text/plain": [
       "(517, 577, 3)"
      ]
     },
     "execution_count": 39,
     "metadata": {},
     "output_type": "execute_result"
    }
   ],
   "source": [
    "img.shape"
   ]
  },
  {
   "cell_type": "code",
   "execution_count": 50,
   "id": "a17e593d",
   "metadata": {},
   "outputs": [],
   "source": [
    "img = cv2.imread(r\"C:\\Users\\vinna\\Downloads\\1.png\",1)\n",
    "img = cv2.resize(img, (640, 480)) \n",
    "\n",
    "txt = cv2.putText(img, \"OpenCV Basics\", (50, 70), cv2.FONT_HERSHEY_SIMPLEX, 1, (122, 150, 255), 2)\n",
    "cv2.imshow(\"Image\", txt)\n",
    "cv2.waitKey(0)\n",
    "cv2.destroyAllWindows()"
   ]
  },
  {
   "cell_type": "code",
   "execution_count": 52,
   "id": "2d785db9",
   "metadata": {},
   "outputs": [],
   "source": [
    "img = cv2.imread(r\"C:\\Users\\vinna\\Downloads\\1.png\",1)\n",
    "img = cv2.resize(img, (640, 480)) \n",
    "\n",
    "\n",
    "\n",
    "\n",
    "txt = cv2.putText(img, \"OpenCV Basics\", (50, 70), cv2.FONT_HERSHEY_SIMPLEX, 1, (122, 150, 255), 2)\n",
    "#cv2.imshow(\"Image\", txt)\n",
    "cv2.waitKey(0)\n",
    "cv2.destroyAllWindows()\n",
    "\n",
    "txt = cv2.putText(txt, \"OpenCV Basics\", (50, 70), cv2.FONT_HERSHEY_SIMPLEX, 1, (122, 150, 255), 2,bottomLeftOrigin=True)\n",
    "cv2.imshow(\"Image\", img)\n",
    "cv2.waitKey(0)\n",
    "cv2.destroyAllWindows()"
   ]
  },
  {
   "cell_type": "code",
   "execution_count": null,
   "id": "8e1f228f",
   "metadata": {},
   "outputs": [],
   "source": []
  }
 ],
 "metadata": {
  "kernelspec": {
   "display_name": "base",
   "language": "python",
   "name": "python3"
  },
  "language_info": {
   "codemirror_mode": {
    "name": "ipython",
    "version": 3
   },
   "file_extension": ".py",
   "mimetype": "text/x-python",
   "name": "python",
   "nbconvert_exporter": "python",
   "pygments_lexer": "ipython3",
   "version": "3.12.7"
  }
 },
 "nbformat": 4,
 "nbformat_minor": 5
}

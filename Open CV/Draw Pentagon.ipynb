{
 "cells": [
  {
   "cell_type": "code",
   "execution_count": 2,
   "id": "5e42523f",
   "metadata": {},
   "outputs": [],
   "source": [
    "import cv2\n",
    "import numpy as np"
   ]
  },
  {
   "cell_type": "code",
   "execution_count": 4,
   "id": "08619266",
   "metadata": {},
   "outputs": [],
   "source": [
    "old_img = cv2.imread(\"1.png\")\n",
    "old_img = cv2.resize(old_img, (500, 600))"
   ]
  },
  {
   "cell_type": "code",
   "execution_count": 8,
   "id": "4389974b",
   "metadata": {},
   "outputs": [],
   "source": [
    "new_img = cv2.polylines(old_img, [np.array([[100, 200], [200, 100], [300, 200], [250, 300], [150, 300]],\n",
    " np.int32).reshape((-1, 1, 2))], True, (0, 255, 0), thickness=3)"
   ]
  },
  {
   "cell_type": "code",
   "execution_count": 9,
   "id": "827cc059",
   "metadata": {},
   "outputs": [],
   "source": [
    "cv2.imshow(\"Old Image\", new_img)\n",
    "cv2.waitKey(0)\n",
    "cv2.destroyAllWindows()"
   ]
  },
  {
   "cell_type": "code",
   "execution_count": null,
   "id": "b0410e2a",
   "metadata": {},
   "outputs": [],
   "source": []
  }
 ],
 "metadata": {
  "kernelspec": {
   "display_name": "base",
   "language": "python",
   "name": "python3"
  },
  "language_info": {
   "codemirror_mode": {
    "name": "ipython",
    "version": 3
   },
   "file_extension": ".py",
   "mimetype": "text/x-python",
   "name": "python",
   "nbconvert_exporter": "python",
   "pygments_lexer": "ipython3",
   "version": "3.12.7"
  }
 },
 "nbformat": 4,
 "nbformat_minor": 5
}

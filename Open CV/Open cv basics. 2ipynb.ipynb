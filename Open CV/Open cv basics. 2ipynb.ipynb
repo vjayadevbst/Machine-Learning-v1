{
 "cells": [
  {
   "cell_type": "code",
   "execution_count": 1,
   "id": "a22a5c37",
   "metadata": {},
   "outputs": [],
   "source": [
    "import cv2"
   ]
  },
  {
   "cell_type": "code",
   "execution_count": 4,
   "id": "0547a818",
   "metadata": {},
   "outputs": [],
   "source": [
    "old_img = cv2.imread(\"1.png\")\n",
    "old_img = cv2.resize(old_img, (500, 600))\n"
   ]
  },
  {
   "cell_type": "code",
   "execution_count": 5,
   "id": "3899a314",
   "metadata": {},
   "outputs": [],
   "source": [
    "txt_img = cv2.putText(img=old_img,\n",
    "                      text=\"wscube\",\n",
    "                      org=(400, 200),\n",
    "                      fontFace=2,\n",
    "                      fontScale=2,\n",
    "                      color=(0, 0, 255),\n",
    "                      thickness=2,\n",
    "                      lineType=16,\n",
    "                      bottomLeftOrigin=False)"
   ]
  },
  {
   "cell_type": "code",
   "execution_count": 6,
   "id": "f06e46fb",
   "metadata": {},
   "outputs": [],
   "source": [
    "new_img = cv2.ellipse(img=txt_img,\n",
    "                      center=(280, 160),\n",
    "                      axes=(95, 120),\n",
    "                      angle=30,\n",
    "                      startAngle=0,\n",
    "                      endAngle=360,\n",
    "                      color=(0, 255, 0),\n",
    "                      thickness=4,\n",
    "                      lineType=16)"
   ]
  },
  {
   "cell_type": "code",
   "execution_count": 7,
   "id": "963e3cf8",
   "metadata": {},
   "outputs": [],
   "source": [
    "cv2.imshow(\"wscube\", new_img)\n",
    "cv2.waitKey(0)\n",
    "cv2.destroyAllWindows()"
   ]
  },
  {
   "cell_type": "code",
   "execution_count": null,
   "id": "f38ec927",
   "metadata": {},
   "outputs": [],
   "source": []
  }
 ],
 "metadata": {
  "kernelspec": {
   "display_name": "base",
   "language": "python",
   "name": "python3"
  },
  "language_info": {
   "codemirror_mode": {
    "name": "ipython",
    "version": 3
   },
   "file_extension": ".py",
   "mimetype": "text/x-python",
   "name": "python",
   "nbconvert_exporter": "python",
   "pygments_lexer": "ipython3",
   "version": "3.12.7"
  }
 },
 "nbformat": 4,
 "nbformat_minor": 5
}

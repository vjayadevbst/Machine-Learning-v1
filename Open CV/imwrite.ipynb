{
 "cells": [
  {
   "cell_type": "code",
   "execution_count": 2,
   "id": "f4ade36d",
   "metadata": {},
   "outputs": [],
   "source": [
    "import cv2\n",
    "import numpy as np"
   ]
  },
  {
   "cell_type": "code",
   "execution_count": 4,
   "id": "3f0897eb",
   "metadata": {},
   "outputs": [],
   "source": [
    "img = cv2.imread('1.png')\n",
    "re_img = cv2.resize(img, (640, 480))"
   ]
  },
  {
   "cell_type": "code",
   "execution_count": null,
   "id": "e7512968",
   "metadata": {},
   "outputs": [],
   "source": []
  }
 ],
 "metadata": {
  "kernelspec": {
   "display_name": "base",
   "language": "python",
   "name": "python3"
  },
  "language_info": {
   "codemirror_mode": {
    "name": "ipython",
    "version": 3
   },
   "file_extension": ".py",
   "mimetype": "text/x-python",
   "name": "python",
   "nbconvert_exporter": "python",
   "pygments_lexer": "ipython3",
   "version": "3.12.7"
  }
 },
 "nbformat": 4,
 "nbformat_minor": 5
}
